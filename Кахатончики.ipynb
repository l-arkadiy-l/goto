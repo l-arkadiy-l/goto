{
  "cells": [
    {
      "cell_type": "markdown",
      "source": [
        "## Installation"
      ],
      "metadata": {
        "id": "JLi8r10loXUF"
      }
    },
    {
      "cell_type": "code",
      "source": [
        "!pip install transformers datasets"
      ],
      "metadata": {
        "id": "ijwZMIZToWEA",
        "colab": {
          "base_uri": "https://localhost:8080/"
        },
        "outputId": "ddd28886-444e-459e-ed84-35199a547329"
      },
      "execution_count": null,
      "outputs": [
        {
          "output_type": "stream",
          "name": "stdout",
          "text": [
            "Looking in indexes: https://pypi.org/simple, https://us-python.pkg.dev/colab-wheels/public/simple/\n",
            "Collecting transformers\n",
            "  Downloading transformers-4.21.1-py3-none-any.whl (4.7 MB)\n",
            "\u001b[K     |████████████████████████████████| 4.7 MB 32.3 MB/s \n",
            "\u001b[?25hCollecting datasets\n",
            "  Downloading datasets-2.4.0-py3-none-any.whl (365 kB)\n",
            "\u001b[K     |████████████████████████████████| 365 kB 61.3 MB/s \n",
            "\u001b[?25hRequirement already satisfied: requests in /usr/local/lib/python3.7/dist-packages (from transformers) (2.23.0)\n",
            "Requirement already satisfied: importlib-metadata in /usr/local/lib/python3.7/dist-packages (from transformers) (4.12.0)\n",
            "Requirement already satisfied: filelock in /usr/local/lib/python3.7/dist-packages (from transformers) (3.7.1)\n",
            "Requirement already satisfied: packaging>=20.0 in /usr/local/lib/python3.7/dist-packages (from transformers) (21.3)\n",
            "Collecting tokenizers!=0.11.3,<0.13,>=0.11.1\n",
            "  Downloading tokenizers-0.12.1-cp37-cp37m-manylinux_2_12_x86_64.manylinux2010_x86_64.whl (6.6 MB)\n",
            "\u001b[K     |████████████████████████████████| 6.6 MB 416 kB/s \n",
            "\u001b[?25hRequirement already satisfied: tqdm>=4.27 in /usr/local/lib/python3.7/dist-packages (from transformers) (4.64.0)\n",
            "Requirement already satisfied: numpy>=1.17 in /usr/local/lib/python3.7/dist-packages (from transformers) (1.21.6)\n",
            "Requirement already satisfied: regex!=2019.12.17 in /usr/local/lib/python3.7/dist-packages (from transformers) (2022.6.2)\n",
            "Collecting pyyaml>=5.1\n",
            "  Downloading PyYAML-6.0-cp37-cp37m-manylinux_2_5_x86_64.manylinux1_x86_64.manylinux_2_12_x86_64.manylinux2010_x86_64.whl (596 kB)\n",
            "\u001b[K     |████████████████████████████████| 596 kB 15.6 MB/s \n",
            "\u001b[?25hCollecting huggingface-hub<1.0,>=0.1.0\n",
            "  Downloading huggingface_hub-0.8.1-py3-none-any.whl (101 kB)\n",
            "\u001b[K     |████████████████████████████████| 101 kB 6.3 MB/s \n",
            "\u001b[?25hRequirement already satisfied: typing-extensions>=3.7.4.3 in /usr/local/lib/python3.7/dist-packages (from huggingface-hub<1.0,>=0.1.0->transformers) (4.1.1)\n",
            "Requirement already satisfied: pyparsing!=3.0.5,>=2.0.2 in /usr/local/lib/python3.7/dist-packages (from packaging>=20.0->transformers) (3.0.9)\n",
            "Collecting multiprocess\n",
            "  Downloading multiprocess-0.70.13-py37-none-any.whl (115 kB)\n",
            "\u001b[K     |████████████████████████████████| 115 kB 56.4 MB/s \n",
            "\u001b[?25hCollecting xxhash\n",
            "  Downloading xxhash-3.0.0-cp37-cp37m-manylinux_2_17_x86_64.manylinux2014_x86_64.whl (212 kB)\n",
            "\u001b[K     |████████████████████████████████| 212 kB 4.5 MB/s \n",
            "\u001b[?25hRequirement already satisfied: aiohttp in /usr/local/lib/python3.7/dist-packages (from datasets) (3.8.1)\n",
            "Collecting responses<0.19\n",
            "  Downloading responses-0.18.0-py3-none-any.whl (38 kB)\n",
            "Requirement already satisfied: pandas in /usr/local/lib/python3.7/dist-packages (from datasets) (1.3.5)\n",
            "Requirement already satisfied: pyarrow>=6.0.0 in /usr/local/lib/python3.7/dist-packages (from datasets) (6.0.1)\n",
            "Collecting fsspec[http]>=2021.11.1\n",
            "  Downloading fsspec-2022.7.1-py3-none-any.whl (141 kB)\n",
            "\u001b[K     |████████████████████████████████| 141 kB 64.6 MB/s \n",
            "\u001b[?25hRequirement already satisfied: dill<0.3.6 in /usr/local/lib/python3.7/dist-packages (from datasets) (0.3.5.1)\n",
            "Requirement already satisfied: urllib3!=1.25.0,!=1.25.1,<1.26,>=1.21.1 in /usr/local/lib/python3.7/dist-packages (from requests->transformers) (1.24.3)\n",
            "Requirement already satisfied: idna<3,>=2.5 in /usr/local/lib/python3.7/dist-packages (from requests->transformers) (2.10)\n",
            "Requirement already satisfied: certifi>=2017.4.17 in /usr/local/lib/python3.7/dist-packages (from requests->transformers) (2022.6.15)\n",
            "Requirement already satisfied: chardet<4,>=3.0.2 in /usr/local/lib/python3.7/dist-packages (from requests->transformers) (3.0.4)\n",
            "Collecting urllib3!=1.25.0,!=1.25.1,<1.26,>=1.21.1\n",
            "  Downloading urllib3-1.25.11-py2.py3-none-any.whl (127 kB)\n",
            "\u001b[K     |████████████████████████████████| 127 kB 50.8 MB/s \n",
            "\u001b[?25hRequirement already satisfied: attrs>=17.3.0 in /usr/local/lib/python3.7/dist-packages (from aiohttp->datasets) (22.1.0)\n",
            "Requirement already satisfied: frozenlist>=1.1.1 in /usr/local/lib/python3.7/dist-packages (from aiohttp->datasets) (1.3.1)\n",
            "Requirement already satisfied: asynctest==0.13.0 in /usr/local/lib/python3.7/dist-packages (from aiohttp->datasets) (0.13.0)\n",
            "Requirement already satisfied: yarl<2.0,>=1.0 in /usr/local/lib/python3.7/dist-packages (from aiohttp->datasets) (1.8.1)\n",
            "Requirement already satisfied: aiosignal>=1.1.2 in /usr/local/lib/python3.7/dist-packages (from aiohttp->datasets) (1.2.0)\n",
            "Requirement already satisfied: multidict<7.0,>=4.5 in /usr/local/lib/python3.7/dist-packages (from aiohttp->datasets) (6.0.2)\n",
            "Requirement already satisfied: charset-normalizer<3.0,>=2.0 in /usr/local/lib/python3.7/dist-packages (from aiohttp->datasets) (2.1.0)\n",
            "Requirement already satisfied: async-timeout<5.0,>=4.0.0a3 in /usr/local/lib/python3.7/dist-packages (from aiohttp->datasets) (4.0.2)\n",
            "Requirement already satisfied: zipp>=0.5 in /usr/local/lib/python3.7/dist-packages (from importlib-metadata->transformers) (3.8.1)\n",
            "Requirement already satisfied: python-dateutil>=2.7.3 in /usr/local/lib/python3.7/dist-packages (from pandas->datasets) (2.8.2)\n",
            "Requirement already satisfied: pytz>=2017.3 in /usr/local/lib/python3.7/dist-packages (from pandas->datasets) (2022.1)\n",
            "Requirement already satisfied: six>=1.5 in /usr/local/lib/python3.7/dist-packages (from python-dateutil>=2.7.3->pandas->datasets) (1.15.0)\n",
            "Installing collected packages: urllib3, pyyaml, fsspec, xxhash, tokenizers, responses, multiprocess, huggingface-hub, transformers, datasets\n",
            "  Attempting uninstall: urllib3\n",
            "    Found existing installation: urllib3 1.24.3\n",
            "    Uninstalling urllib3-1.24.3:\n",
            "      Successfully uninstalled urllib3-1.24.3\n",
            "  Attempting uninstall: pyyaml\n",
            "    Found existing installation: PyYAML 3.13\n",
            "    Uninstalling PyYAML-3.13:\n",
            "      Successfully uninstalled PyYAML-3.13\n",
            "Successfully installed datasets-2.4.0 fsspec-2022.7.1 huggingface-hub-0.8.1 multiprocess-0.70.13 pyyaml-6.0 responses-0.18.0 tokenizers-0.12.1 transformers-4.21.1 urllib3-1.25.11 xxhash-3.0.0\n"
          ]
        }
      ]
    },
    {
      "cell_type": "markdown",
      "source": [
        "## Libraries"
      ],
      "metadata": {
        "id": "0AAJ5o5gocIk"
      }
    },
    {
      "cell_type": "code",
      "source": [
        "import json\n",
        "\n",
        "from datasets import load_dataset\n",
        "import torch\n",
        "from torch.utils.data import DataLoader\n",
        "from transformers import AutoTokenizer, AutoModelForCausalLM, default_data_collator\n",
        "import transformers\n",
        "import pandas as pd\n",
        "from tqdm import tqdm"
      ],
      "metadata": {
        "id": "6Bt4fG0SoeIx"
      },
      "execution_count": null,
      "outputs": []
    },
    {
      "cell_type": "markdown",
      "metadata": {
        "id": "YjtCcOdeAjEa"
      },
      "source": [
        "## Языковая Модель GPT-2"
      ]
    },
    {
      "cell_type": "code",
      "execution_count": null,
      "metadata": {
        "id": "0pfuyLorKw2v",
        "colab": {
          "base_uri": "https://localhost:8080/",
          "height": 162,
          "referenced_widgets": [
            "e26b7718f4614307b0e8b3d39829f030",
            "58eabe673e8c45c1911e59348ec36a2e",
            "4201cded25904f52ad3b1d10c4c03d2c",
            "d007fe88acf24be4b71ea0ae15ba226b",
            "a5f759f4bc914d71be7dbe46573f335a",
            "3a55cefd595b43cda95ecbfa88068927",
            "cb34ebc10e3644f9913c3516850e19bd",
            "f7d2725fdb5542a39d15ad6671587edf",
            "82a61de01e87443cb6751716dff47cd3",
            "2376da76c64d4f98986db882356d9662",
            "706e2525fb6e446da80fe55c0c39f078",
            "f34866bf48304d4d836534f804504e64",
            "3f43b82a416d4acb9de19d377314e59f",
            "8c7f76eea8a24bf6ae6e887d6bdcd472",
            "83ed47b574bf4f3999649f4e5001b034",
            "c56c4f509cfb4e199d9d7b84fe2b7797",
            "5434a62e08694808944c9cbd581d1f9c",
            "e26321cb3deb4b56938521982abb4e6b",
            "98b2f526e05e421cace4fca790c8e497",
            "8ce584a270df4382aa45af1e52559ce2",
            "c6da29440b9a4ee4b813b27a4efe3ef8",
            "b83fb78a10814ade9930bd33da8e3f78",
            "b23b3f36947c43ebb9477c85ffe8dd4c",
            "efddc3ed079545b8af40f036d59ce491",
            "ced71e974bd84746a966f7c0ae863aa4",
            "0d06976545904c179aa16355b37d83e4",
            "6209c211d4164081bdfef047ff3776be",
            "28b527af0b6b47b0b6a6ff3968675fc4",
            "0fc8264f7a694b8ab6c58fa913f099d3",
            "4d0b688296fb484281a670c4dbd016bd",
            "c16ca9efa184486a9372c1c2d4d1c43a",
            "11872dd8525143269d8cbe44ab3ba9e1",
            "9f9da9a47e984dc39fcc10a4f3c0d72e",
            "db4a32e973f741258d3729c78b97c600",
            "d844cc6240a144eb8e1559057896a924",
            "8de95afcfeaf40c4b9d61f42e2dbc9e3",
            "d36f729b3c014ffe9ef0ce26920dae8d",
            "df501799a6a74718979e0640d34ac43b",
            "2061bd22050843d4814ccf4aeab3375b",
            "7c34c448e3fa432db93950df3314b605",
            "733d854cc4cd4efb9c102c2b8058a0c4",
            "d3bdeed75c2642a284407ea818474175",
            "55270b2c4e914ff4ac764dac5df5c720",
            "c7e482a609b84529ab194e3c7e6f41f0"
          ]
        },
        "outputId": "1d51c2c4-a124-4720-d68d-d9b7ee329cd5"
      },
      "outputs": [
        {
          "output_type": "display_data",
          "data": {
            "text/plain": [
              "Downloading config.json:   0%|          | 0.00/608 [00:00<?, ?B/s]"
            ],
            "application/vnd.jupyter.widget-view+json": {
              "version_major": 2,
              "version_minor": 0,
              "model_id": "e26b7718f4614307b0e8b3d39829f030"
            }
          },
          "metadata": {}
        },
        {
          "output_type": "display_data",
          "data": {
            "text/plain": [
              "Downloading pytorch_model.bin:   0%|          | 0.00/526M [00:00<?, ?B/s]"
            ],
            "application/vnd.jupyter.widget-view+json": {
              "version_major": 2,
              "version_minor": 0,
              "model_id": "f34866bf48304d4d836534f804504e64"
            }
          },
          "metadata": {}
        },
        {
          "output_type": "display_data",
          "data": {
            "text/plain": [
              "Downloading vocab.json:   0%|          | 0.00/1.63M [00:00<?, ?B/s]"
            ],
            "application/vnd.jupyter.widget-view+json": {
              "version_major": 2,
              "version_minor": 0,
              "model_id": "b23b3f36947c43ebb9477c85ffe8dd4c"
            }
          },
          "metadata": {}
        },
        {
          "output_type": "display_data",
          "data": {
            "text/plain": [
              "Downloading merges.txt:   0%|          | 0.00/1.21M [00:00<?, ?B/s]"
            ],
            "application/vnd.jupyter.widget-view+json": {
              "version_major": 2,
              "version_minor": 0,
              "model_id": "db4a32e973f741258d3729c78b97c600"
            }
          },
          "metadata": {}
        },
        {
          "output_type": "stream",
          "name": "stderr",
          "text": [
            "Special tokens have been added in the vocabulary, make sure the associated word embeddings are fine-tuned or trained.\n"
          ]
        }
      ],
      "source": [
        "model = AutoModelForCausalLM.from_pretrained('sberbank-ai/rugpt3small_based_on_gpt2')\n",
        "tokenizer = AutoTokenizer.from_pretrained(\"sberbank-ai/rugpt3small_based_on_gpt2\")"
      ]
    },
    {
      "cell_type": "markdown",
      "source": [
        "GPT - огромные модели, размеры большого варианта модели приближаются к миллиарду параметров."
      ],
      "metadata": {
        "id": "BO0sfc3x5OpK"
      }
    },
    {
      "cell_type": "code",
      "source": [
        "total_params = 0\n",
        "for p in model.parameters():\n",
        "  total_params += torch.prod(torch.tensor(p.shape))\n",
        "\n",
        "print(f'Количество параметров сети: {total_params}')"
      ],
      "metadata": {
        "id": "s_zaP4CH3yQn",
        "colab": {
          "base_uri": "https://localhost:8080/"
        },
        "outputId": "a723a9c1-8cea-4f24-dd05-20c782ea6e3d"
      },
      "execution_count": null,
      "outputs": [
        {
          "output_type": "stream",
          "name": "stdout",
          "text": [
            "Количество параметров сети: 125231616\n"
          ]
        }
      ]
    },
    {
      "cell_type": "code",
      "source": [
        "device = torch.device('cuda')\n",
        "model.to(device)"
      ],
      "metadata": {
        "colab": {
          "base_uri": "https://localhost:8080/"
        },
        "id": "1x8P4TsKtbZR",
        "outputId": "e46d43b2-1fd6-4d69-bbc6-d26a1e43d529"
      },
      "execution_count": null,
      "outputs": [
        {
          "output_type": "execute_result",
          "data": {
            "text/plain": [
              "GPT2LMHeadModel(\n",
              "  (transformer): GPT2Model(\n",
              "    (wte): Embedding(50264, 768)\n",
              "    (wpe): Embedding(2048, 768)\n",
              "    (drop): Dropout(p=0.1, inplace=False)\n",
              "    (h): ModuleList(\n",
              "      (0): GPT2Block(\n",
              "        (ln_1): LayerNorm((768,), eps=1e-05, elementwise_affine=True)\n",
              "        (attn): GPT2Attention(\n",
              "          (c_attn): Conv1D()\n",
              "          (c_proj): Conv1D()\n",
              "          (attn_dropout): Dropout(p=0.1, inplace=False)\n",
              "          (resid_dropout): Dropout(p=0.1, inplace=False)\n",
              "        )\n",
              "        (ln_2): LayerNorm((768,), eps=1e-05, elementwise_affine=True)\n",
              "        (mlp): GPT2MLP(\n",
              "          (c_fc): Conv1D()\n",
              "          (c_proj): Conv1D()\n",
              "          (act): NewGELUActivation()\n",
              "          (dropout): Dropout(p=0.1, inplace=False)\n",
              "        )\n",
              "      )\n",
              "      (1): GPT2Block(\n",
              "        (ln_1): LayerNorm((768,), eps=1e-05, elementwise_affine=True)\n",
              "        (attn): GPT2Attention(\n",
              "          (c_attn): Conv1D()\n",
              "          (c_proj): Conv1D()\n",
              "          (attn_dropout): Dropout(p=0.1, inplace=False)\n",
              "          (resid_dropout): Dropout(p=0.1, inplace=False)\n",
              "        )\n",
              "        (ln_2): LayerNorm((768,), eps=1e-05, elementwise_affine=True)\n",
              "        (mlp): GPT2MLP(\n",
              "          (c_fc): Conv1D()\n",
              "          (c_proj): Conv1D()\n",
              "          (act): NewGELUActivation()\n",
              "          (dropout): Dropout(p=0.1, inplace=False)\n",
              "        )\n",
              "      )\n",
              "      (2): GPT2Block(\n",
              "        (ln_1): LayerNorm((768,), eps=1e-05, elementwise_affine=True)\n",
              "        (attn): GPT2Attention(\n",
              "          (c_attn): Conv1D()\n",
              "          (c_proj): Conv1D()\n",
              "          (attn_dropout): Dropout(p=0.1, inplace=False)\n",
              "          (resid_dropout): Dropout(p=0.1, inplace=False)\n",
              "        )\n",
              "        (ln_2): LayerNorm((768,), eps=1e-05, elementwise_affine=True)\n",
              "        (mlp): GPT2MLP(\n",
              "          (c_fc): Conv1D()\n",
              "          (c_proj): Conv1D()\n",
              "          (act): NewGELUActivation()\n",
              "          (dropout): Dropout(p=0.1, inplace=False)\n",
              "        )\n",
              "      )\n",
              "      (3): GPT2Block(\n",
              "        (ln_1): LayerNorm((768,), eps=1e-05, elementwise_affine=True)\n",
              "        (attn): GPT2Attention(\n",
              "          (c_attn): Conv1D()\n",
              "          (c_proj): Conv1D()\n",
              "          (attn_dropout): Dropout(p=0.1, inplace=False)\n",
              "          (resid_dropout): Dropout(p=0.1, inplace=False)\n",
              "        )\n",
              "        (ln_2): LayerNorm((768,), eps=1e-05, elementwise_affine=True)\n",
              "        (mlp): GPT2MLP(\n",
              "          (c_fc): Conv1D()\n",
              "          (c_proj): Conv1D()\n",
              "          (act): NewGELUActivation()\n",
              "          (dropout): Dropout(p=0.1, inplace=False)\n",
              "        )\n",
              "      )\n",
              "      (4): GPT2Block(\n",
              "        (ln_1): LayerNorm((768,), eps=1e-05, elementwise_affine=True)\n",
              "        (attn): GPT2Attention(\n",
              "          (c_attn): Conv1D()\n",
              "          (c_proj): Conv1D()\n",
              "          (attn_dropout): Dropout(p=0.1, inplace=False)\n",
              "          (resid_dropout): Dropout(p=0.1, inplace=False)\n",
              "        )\n",
              "        (ln_2): LayerNorm((768,), eps=1e-05, elementwise_affine=True)\n",
              "        (mlp): GPT2MLP(\n",
              "          (c_fc): Conv1D()\n",
              "          (c_proj): Conv1D()\n",
              "          (act): NewGELUActivation()\n",
              "          (dropout): Dropout(p=0.1, inplace=False)\n",
              "        )\n",
              "      )\n",
              "      (5): GPT2Block(\n",
              "        (ln_1): LayerNorm((768,), eps=1e-05, elementwise_affine=True)\n",
              "        (attn): GPT2Attention(\n",
              "          (c_attn): Conv1D()\n",
              "          (c_proj): Conv1D()\n",
              "          (attn_dropout): Dropout(p=0.1, inplace=False)\n",
              "          (resid_dropout): Dropout(p=0.1, inplace=False)\n",
              "        )\n",
              "        (ln_2): LayerNorm((768,), eps=1e-05, elementwise_affine=True)\n",
              "        (mlp): GPT2MLP(\n",
              "          (c_fc): Conv1D()\n",
              "          (c_proj): Conv1D()\n",
              "          (act): NewGELUActivation()\n",
              "          (dropout): Dropout(p=0.1, inplace=False)\n",
              "        )\n",
              "      )\n",
              "      (6): GPT2Block(\n",
              "        (ln_1): LayerNorm((768,), eps=1e-05, elementwise_affine=True)\n",
              "        (attn): GPT2Attention(\n",
              "          (c_attn): Conv1D()\n",
              "          (c_proj): Conv1D()\n",
              "          (attn_dropout): Dropout(p=0.1, inplace=False)\n",
              "          (resid_dropout): Dropout(p=0.1, inplace=False)\n",
              "        )\n",
              "        (ln_2): LayerNorm((768,), eps=1e-05, elementwise_affine=True)\n",
              "        (mlp): GPT2MLP(\n",
              "          (c_fc): Conv1D()\n",
              "          (c_proj): Conv1D()\n",
              "          (act): NewGELUActivation()\n",
              "          (dropout): Dropout(p=0.1, inplace=False)\n",
              "        )\n",
              "      )\n",
              "      (7): GPT2Block(\n",
              "        (ln_1): LayerNorm((768,), eps=1e-05, elementwise_affine=True)\n",
              "        (attn): GPT2Attention(\n",
              "          (c_attn): Conv1D()\n",
              "          (c_proj): Conv1D()\n",
              "          (attn_dropout): Dropout(p=0.1, inplace=False)\n",
              "          (resid_dropout): Dropout(p=0.1, inplace=False)\n",
              "        )\n",
              "        (ln_2): LayerNorm((768,), eps=1e-05, elementwise_affine=True)\n",
              "        (mlp): GPT2MLP(\n",
              "          (c_fc): Conv1D()\n",
              "          (c_proj): Conv1D()\n",
              "          (act): NewGELUActivation()\n",
              "          (dropout): Dropout(p=0.1, inplace=False)\n",
              "        )\n",
              "      )\n",
              "      (8): GPT2Block(\n",
              "        (ln_1): LayerNorm((768,), eps=1e-05, elementwise_affine=True)\n",
              "        (attn): GPT2Attention(\n",
              "          (c_attn): Conv1D()\n",
              "          (c_proj): Conv1D()\n",
              "          (attn_dropout): Dropout(p=0.1, inplace=False)\n",
              "          (resid_dropout): Dropout(p=0.1, inplace=False)\n",
              "        )\n",
              "        (ln_2): LayerNorm((768,), eps=1e-05, elementwise_affine=True)\n",
              "        (mlp): GPT2MLP(\n",
              "          (c_fc): Conv1D()\n",
              "          (c_proj): Conv1D()\n",
              "          (act): NewGELUActivation()\n",
              "          (dropout): Dropout(p=0.1, inplace=False)\n",
              "        )\n",
              "      )\n",
              "      (9): GPT2Block(\n",
              "        (ln_1): LayerNorm((768,), eps=1e-05, elementwise_affine=True)\n",
              "        (attn): GPT2Attention(\n",
              "          (c_attn): Conv1D()\n",
              "          (c_proj): Conv1D()\n",
              "          (attn_dropout): Dropout(p=0.1, inplace=False)\n",
              "          (resid_dropout): Dropout(p=0.1, inplace=False)\n",
              "        )\n",
              "        (ln_2): LayerNorm((768,), eps=1e-05, elementwise_affine=True)\n",
              "        (mlp): GPT2MLP(\n",
              "          (c_fc): Conv1D()\n",
              "          (c_proj): Conv1D()\n",
              "          (act): NewGELUActivation()\n",
              "          (dropout): Dropout(p=0.1, inplace=False)\n",
              "        )\n",
              "      )\n",
              "      (10): GPT2Block(\n",
              "        (ln_1): LayerNorm((768,), eps=1e-05, elementwise_affine=True)\n",
              "        (attn): GPT2Attention(\n",
              "          (c_attn): Conv1D()\n",
              "          (c_proj): Conv1D()\n",
              "          (attn_dropout): Dropout(p=0.1, inplace=False)\n",
              "          (resid_dropout): Dropout(p=0.1, inplace=False)\n",
              "        )\n",
              "        (ln_2): LayerNorm((768,), eps=1e-05, elementwise_affine=True)\n",
              "        (mlp): GPT2MLP(\n",
              "          (c_fc): Conv1D()\n",
              "          (c_proj): Conv1D()\n",
              "          (act): NewGELUActivation()\n",
              "          (dropout): Dropout(p=0.1, inplace=False)\n",
              "        )\n",
              "      )\n",
              "      (11): GPT2Block(\n",
              "        (ln_1): LayerNorm((768,), eps=1e-05, elementwise_affine=True)\n",
              "        (attn): GPT2Attention(\n",
              "          (c_attn): Conv1D()\n",
              "          (c_proj): Conv1D()\n",
              "          (attn_dropout): Dropout(p=0.1, inplace=False)\n",
              "          (resid_dropout): Dropout(p=0.1, inplace=False)\n",
              "        )\n",
              "        (ln_2): LayerNorm((768,), eps=1e-05, elementwise_affine=True)\n",
              "        (mlp): GPT2MLP(\n",
              "          (c_fc): Conv1D()\n",
              "          (c_proj): Conv1D()\n",
              "          (act): NewGELUActivation()\n",
              "          (dropout): Dropout(p=0.1, inplace=False)\n",
              "        )\n",
              "      )\n",
              "    )\n",
              "    (ln_f): LayerNorm((768,), eps=1e-05, elementwise_affine=True)\n",
              "  )\n",
              "  (lm_head): Linear(in_features=768, out_features=50264, bias=False)\n",
              ")"
            ]
          },
          "metadata": {},
          "execution_count": 5
        }
      ]
    },
    {
      "cell_type": "markdown",
      "source": [
        "## Dataset"
      ],
      "metadata": {
        "id": "ByE1uZOYo03B"
      }
    },
    {
      "cell_type": "code",
      "source": [
        "# from google.colab import drive\n",
        "# drive.mount('/content/drive')"
      ],
      "metadata": {
        "colab": {
          "base_uri": "https://localhost:8080/",
          "height": 328
        },
        "id": "fj4K4jJ6p-EP",
        "outputId": "d07cf4f6-9ebc-4334-d30d-3dcf6deabb01"
      },
      "execution_count": null,
      "outputs": [
        {
          "output_type": "error",
          "ename": "MessageError",
          "evalue": "ignored",
          "traceback": [
            "\u001b[0;31m---------------------------------------------------------------------------\u001b[0m",
            "\u001b[0;31mMessageError\u001b[0m                              Traceback (most recent call last)",
            "\u001b[0;32m<ipython-input-6-d5df0069828e>\u001b[0m in \u001b[0;36m<module>\u001b[0;34m()\u001b[0m\n\u001b[1;32m      1\u001b[0m \u001b[0;32mfrom\u001b[0m \u001b[0mgoogle\u001b[0m\u001b[0;34m.\u001b[0m\u001b[0mcolab\u001b[0m \u001b[0;32mimport\u001b[0m \u001b[0mdrive\u001b[0m\u001b[0;34m\u001b[0m\u001b[0;34m\u001b[0m\u001b[0m\n\u001b[0;32m----> 2\u001b[0;31m \u001b[0mdrive\u001b[0m\u001b[0;34m.\u001b[0m\u001b[0mmount\u001b[0m\u001b[0;34m(\u001b[0m\u001b[0;34m'/content/drive'\u001b[0m\u001b[0;34m)\u001b[0m\u001b[0;34m\u001b[0m\u001b[0;34m\u001b[0m\u001b[0m\n\u001b[0m",
            "\u001b[0;32m/usr/local/lib/python3.7/dist-packages/google/colab/drive.py\u001b[0m in \u001b[0;36mmount\u001b[0;34m(mountpoint, force_remount, timeout_ms)\u001b[0m\n\u001b[1;32m    103\u001b[0m       \u001b[0mforce_remount\u001b[0m\u001b[0;34m=\u001b[0m\u001b[0mforce_remount\u001b[0m\u001b[0;34m,\u001b[0m\u001b[0;34m\u001b[0m\u001b[0;34m\u001b[0m\u001b[0m\n\u001b[1;32m    104\u001b[0m       \u001b[0mtimeout_ms\u001b[0m\u001b[0;34m=\u001b[0m\u001b[0mtimeout_ms\u001b[0m\u001b[0;34m,\u001b[0m\u001b[0;34m\u001b[0m\u001b[0;34m\u001b[0m\u001b[0m\n\u001b[0;32m--> 105\u001b[0;31m       ephemeral=True)\n\u001b[0m\u001b[1;32m    106\u001b[0m \u001b[0;34m\u001b[0m\u001b[0m\n\u001b[1;32m    107\u001b[0m \u001b[0;34m\u001b[0m\u001b[0m\n",
            "\u001b[0;32m/usr/local/lib/python3.7/dist-packages/google/colab/drive.py\u001b[0m in \u001b[0;36m_mount\u001b[0;34m(mountpoint, force_remount, timeout_ms, ephemeral)\u001b[0m\n\u001b[1;32m    118\u001b[0m   \u001b[0;32mif\u001b[0m \u001b[0mephemeral\u001b[0m\u001b[0;34m:\u001b[0m\u001b[0;34m\u001b[0m\u001b[0;34m\u001b[0m\u001b[0m\n\u001b[1;32m    119\u001b[0m     _message.blocking_request(\n\u001b[0;32m--> 120\u001b[0;31m         'request_auth', request={'authType': 'dfs_ephemeral'}, timeout_sec=None)\n\u001b[0m\u001b[1;32m    121\u001b[0m \u001b[0;34m\u001b[0m\u001b[0m\n\u001b[1;32m    122\u001b[0m   \u001b[0mmountpoint\u001b[0m \u001b[0;34m=\u001b[0m \u001b[0m_os\u001b[0m\u001b[0;34m.\u001b[0m\u001b[0mpath\u001b[0m\u001b[0;34m.\u001b[0m\u001b[0mexpanduser\u001b[0m\u001b[0;34m(\u001b[0m\u001b[0mmountpoint\u001b[0m\u001b[0;34m)\u001b[0m\u001b[0;34m\u001b[0m\u001b[0;34m\u001b[0m\u001b[0m\n",
            "\u001b[0;32m/usr/local/lib/python3.7/dist-packages/google/colab/_message.py\u001b[0m in \u001b[0;36mblocking_request\u001b[0;34m(request_type, request, timeout_sec, parent)\u001b[0m\n\u001b[1;32m    169\u001b[0m   request_id = send_request(\n\u001b[1;32m    170\u001b[0m       request_type, request, parent=parent, expect_reply=True)\n\u001b[0;32m--> 171\u001b[0;31m   \u001b[0;32mreturn\u001b[0m \u001b[0mread_reply_from_input\u001b[0m\u001b[0;34m(\u001b[0m\u001b[0mrequest_id\u001b[0m\u001b[0;34m,\u001b[0m \u001b[0mtimeout_sec\u001b[0m\u001b[0;34m)\u001b[0m\u001b[0;34m\u001b[0m\u001b[0;34m\u001b[0m\u001b[0m\n\u001b[0m",
            "\u001b[0;32m/usr/local/lib/python3.7/dist-packages/google/colab/_message.py\u001b[0m in \u001b[0;36mread_reply_from_input\u001b[0;34m(message_id, timeout_sec)\u001b[0m\n\u001b[1;32m    100\u001b[0m         reply.get('colab_msg_id') == message_id):\n\u001b[1;32m    101\u001b[0m       \u001b[0;32mif\u001b[0m \u001b[0;34m'error'\u001b[0m \u001b[0;32min\u001b[0m \u001b[0mreply\u001b[0m\u001b[0;34m:\u001b[0m\u001b[0;34m\u001b[0m\u001b[0;34m\u001b[0m\u001b[0m\n\u001b[0;32m--> 102\u001b[0;31m         \u001b[0;32mraise\u001b[0m \u001b[0mMessageError\u001b[0m\u001b[0;34m(\u001b[0m\u001b[0mreply\u001b[0m\u001b[0;34m[\u001b[0m\u001b[0;34m'error'\u001b[0m\u001b[0;34m]\u001b[0m\u001b[0;34m)\u001b[0m\u001b[0;34m\u001b[0m\u001b[0;34m\u001b[0m\u001b[0m\n\u001b[0m\u001b[1;32m    103\u001b[0m       \u001b[0;32mreturn\u001b[0m \u001b[0mreply\u001b[0m\u001b[0;34m.\u001b[0m\u001b[0mget\u001b[0m\u001b[0;34m(\u001b[0m\u001b[0;34m'data'\u001b[0m\u001b[0;34m,\u001b[0m \u001b[0;32mNone\u001b[0m\u001b[0;34m)\u001b[0m\u001b[0;34m\u001b[0m\u001b[0;34m\u001b[0m\u001b[0m\n\u001b[1;32m    104\u001b[0m \u001b[0;34m\u001b[0m\u001b[0m\n",
            "\u001b[0;31mMessageError\u001b[0m: Error: credential propagation was unsuccessful"
          ]
        }
      ]
    },
    {
      "cell_type": "code",
      "source": [
        "df = pd.read_csv(\"result.csv\")"
      ],
      "metadata": {
        "id": "exEL9sPzqdq1"
      },
      "execution_count": null,
      "outputs": []
    },
    {
      "cell_type": "code",
      "source": [
        "# df = df[::40]"
      ],
      "metadata": {
        "id": "H7JX69CP1-Ff"
      },
      "execution_count": null,
      "outputs": []
    },
    {
      "cell_type": "code",
      "source": [
        "texts = df[\"all_data\"].values"
      ],
      "metadata": {
        "id": "V7wqAJcCqhrb"
      },
      "execution_count": null,
      "outputs": []
    },
    {
      "cell_type": "code",
      "source": [
        "train_size = int(texts.shape[0] * 0.7)"
      ],
      "metadata": {
        "id": "wnrcEbuJsQTO"
      },
      "execution_count": null,
      "outputs": []
    },
    {
      "cell_type": "code",
      "source": [
        "with open('dataset.txt', 'w') as fp:\n",
        "  fp.write(\"\\n\".join(texts[:train_size]))\n",
        "\n",
        "\n",
        "with open('dataset_test.txt', 'w') as fp:\n",
        "  fp.write(\"\\n\".join(texts[train_size + 1:]))"
      ],
      "metadata": {
        "id": "lm9kx2ZGrRiV"
      },
      "execution_count": null,
      "outputs": []
    },
    {
      "cell_type": "code",
      "source": [
        "with open('dataset.json', 'w') as fp:\n",
        "  with open('dataset.txt') as fpt:\n",
        "    texts = fpt.read().split('\\n')\n",
        "  for text in texts:\n",
        "    fp.write(json.dumps({'input': text}) + '\\n')\n",
        "\n",
        "\n",
        "with open('dataset_test.json', 'w') as fp:\n",
        "  with open('dataset_test.txt') as fpt:\n",
        "    texts = fpt.read().split('\\n')\n",
        "  for text in texts:\n",
        "    fp.write(json.dumps({'input': text}) + '\\n')\n"
      ],
      "metadata": {
        "id": "VXu_Qgi5skrE"
      },
      "execution_count": null,
      "outputs": []
    },
    {
      "cell_type": "code",
      "source": [
        "raw_dataset = load_dataset('json', data_files={'train': 'dataset.json', 'test': 'dataset_test.json'})"
      ],
      "metadata": {
        "colab": {
          "base_uri": "https://localhost:8080/",
          "height": 185,
          "referenced_widgets": [
            "754f5680d2cc4bf5a86b860b5950a8bb",
            "5ced0b440aad44ebaf86c34c7610805c",
            "1ae730fafed0426fbac54816066a1eb7",
            "2312b148c0e24fb4864f70898224e03f",
            "88b520f1317c4297979f8c33a7943c8a",
            "a791584c73fe44df992fcb5fb9555841",
            "faf938742dcb4422bf71188f08a9aa41",
            "ea4751deb1614f61988ca26e3d0d607f",
            "05e9566eefca4e9bbfe3fbf795158b25",
            "6f6ffb486cdf4f3d9a993362ad2144a4",
            "48b24c2244c847cc91e50f6b94062397",
            "a9a4c1a2f4bb48168a7a2afb6408247c",
            "95c92bbcbda7433db834e48b6a50a8c1",
            "d4c2e434ebe0461d94f22ea8873c1865",
            "dcc0b524012b48afb3d1f0d625c79ec3",
            "933d0cdd3fb64294b8d1dcee98988437",
            "42e6f4ee2170484bb3b627a2b98d73ef",
            "d4f7802fbe87481bb830f4daa47324cd",
            "23e0d802b43d4091a62c870daca9e0c4",
            "5f0779fc67b24843a054ebf067204898",
            "cde9fc6c5fbf4ea0ad282c36368cd3ca",
            "2fc1f8f548c842c19e1f83019405a05e",
            "3819f46c2d0f48f8bf1d1cb789143c3c",
            "69daaaa758c749c7a2ff46dcc51e134a",
            "d5b2195ef230492c9343033c34d799f5",
            "5f3453e347d54fec8cc090e00e11b23c",
            "a595d452a7d24f2db9ec7c7444883b8a",
            "7f41a7df5b4541b382c51510da91c700",
            "890feb3ca7984c3e9e2f3a1de81bfca6",
            "c9c33136cc34446a8090a9b9ae0b91b4",
            "c25c087ac1d049aa99c283b41d63eeab",
            "f6e4372fabf94cb3b2a917a6aa21b7ff",
            "2a1f2f9560b543dfab8b173cb98e7c5e",
            "a2ccf251f958400e84e404577ef60c6c",
            "56a71b666a1e428c89d9b73af066d4d4",
            "21df8beb640549ae9cb5b984c9b3af09",
            "f812347b556b42538814f53c00b8fa38",
            "6a2e3ed264824c488fe9db1f057b74bc",
            "1709302e7a3a4b0c9c13764c157824ec",
            "cc4dffe5c0c14eba86a66c24b42996f8",
            "bc7a9c3c49d14762823fb9bd8090fc99",
            "5513d9120d7d4bcfb0ff02b59e302040",
            "126b0f780b67491aa1abdca08ea2995a",
            "ed750adec97d4c8ea2615fd83622b9e6",
            "9199ba812cd34ad9b588ff57dc986dfa",
            "6b34618dcb1f42d9b2746710ce9f9637",
            "5625b7045eae4b26b640d2feb96d24c3",
            "1c4b2281d94a4b92b9172ba1a58a7dba",
            "68499c27fb9e43a78aa8856b673a6268",
            "5caa87b8d8144ba1bb9a3a12c2825c81",
            "3006512c5db34a95bc3f329480ffdfcb",
            "d4f544839df54699ac4fc59201c61bf5",
            "c5d78acc50204136b65986970e0dc1a6",
            "eff3773d25cb4326a1cbbc7ae7932334",
            "471e4b976d4241f58cd013730aef9058"
          ]
        },
        "id": "TlaBvbEIsrDe",
        "outputId": "2590a6af-999a-4e0c-cdcc-f818cc51f975"
      },
      "execution_count": null,
      "outputs": [
        {
          "output_type": "stream",
          "name": "stderr",
          "text": [
            "WARNING:datasets.builder:Using custom data configuration default-b00634fa56d80742\n"
          ]
        },
        {
          "output_type": "stream",
          "name": "stdout",
          "text": [
            "Downloading and preparing dataset json/default to /root/.cache/huggingface/datasets/json/default-b00634fa56d80742/0.0.0/a3e658c4731e59120d44081ac10bf85dc7e1388126b92338344ce9661907f253...\n"
          ]
        },
        {
          "output_type": "display_data",
          "data": {
            "text/plain": [
              "Downloading data files:   0%|          | 0/2 [00:00<?, ?it/s]"
            ],
            "application/vnd.jupyter.widget-view+json": {
              "version_major": 2,
              "version_minor": 0,
              "model_id": "754f5680d2cc4bf5a86b860b5950a8bb"
            }
          },
          "metadata": {}
        },
        {
          "output_type": "display_data",
          "data": {
            "text/plain": [
              "Extracting data files:   0%|          | 0/2 [00:00<?, ?it/s]"
            ],
            "application/vnd.jupyter.widget-view+json": {
              "version_major": 2,
              "version_minor": 0,
              "model_id": "a9a4c1a2f4bb48168a7a2afb6408247c"
            }
          },
          "metadata": {}
        },
        {
          "output_type": "display_data",
          "data": {
            "text/plain": [
              "0 tables [00:00, ? tables/s]"
            ],
            "application/vnd.jupyter.widget-view+json": {
              "version_major": 2,
              "version_minor": 0,
              "model_id": "3819f46c2d0f48f8bf1d1cb789143c3c"
            }
          },
          "metadata": {}
        },
        {
          "output_type": "display_data",
          "data": {
            "text/plain": [
              "0 tables [00:00, ? tables/s]"
            ],
            "application/vnd.jupyter.widget-view+json": {
              "version_major": 2,
              "version_minor": 0,
              "model_id": "a2ccf251f958400e84e404577ef60c6c"
            }
          },
          "metadata": {}
        },
        {
          "output_type": "stream",
          "name": "stdout",
          "text": [
            "Dataset json downloaded and prepared to /root/.cache/huggingface/datasets/json/default-b00634fa56d80742/0.0.0/a3e658c4731e59120d44081ac10bf85dc7e1388126b92338344ce9661907f253. Subsequent calls will reuse this data.\n"
          ]
        },
        {
          "output_type": "display_data",
          "data": {
            "text/plain": [
              "  0%|          | 0/2 [00:00<?, ?it/s]"
            ],
            "application/vnd.jupyter.widget-view+json": {
              "version_major": 2,
              "version_minor": 0,
              "model_id": "9199ba812cd34ad9b588ff57dc986dfa"
            }
          },
          "metadata": {}
        }
      ]
    },
    {
      "cell_type": "code",
      "source": [
        "def tokenize_function(example):\n",
        "  return tokenizer(example['input'], return_tensors='pt')\n",
        "\n",
        "def add_labels(example):\n",
        "  example['labels'] = example['input_ids']\n",
        "  return example\n",
        "# tokenizer.add_special_tokens({'pad_token': '[PAD]'})\n",
        "columns_to_remove = raw_dataset[\"train\"].column_names\n",
        "ds = raw_dataset.map(tokenize_function,  remove_columns=columns_to_remove, load_from_cache_file=False).map(add_labels, load_from_cache_file=False)\n",
        "ds['train'][0]"
      ],
      "metadata": {
        "colab": {
          "base_uri": "https://localhost:8080/",
          "height": 197,
          "referenced_widgets": [
            "7f5de49f94874b6f812ea3fea23b2eb2",
            "0be0217d3adf4c5f8363e7e07564e1a3",
            "a52733ee36004473a802e751f9e55808",
            "550e8519a3794f9dac46f8b903c12f30",
            "3045bd44827c4b7fb7e14ebfbbe4fe75",
            "524c60a73d2e4426a69a6b848ee8cb12",
            "4054267d809446d29cfda638f716d0b1",
            "223d94345ff5431a886828c326f2860c",
            "05ac1be60cd442d291c39484922e1c7d",
            "a9d3debc838a47629b2c06d89088714a",
            "07ff070da0a04ee1b51dd1c25afb3e9e",
            "4d41d2903511406d9e65508865d46e3e",
            "a7a55af540394901854a37424636fe43",
            "f521ad028d0e4b3bb467f6de3b98ff2b",
            "db17eba78fd44d0785bfb623b8717d2d",
            "3afa48542d0044dbb088d8d19c88fb77",
            "21b95f8bcaf04de485719b85d7275ba8",
            "463b3cece7c745419140d7feb177cc8c",
            "45ed395bd3964437b5d6fee8381a062a",
            "60f55087da014d378e9d1e4c1fc09545",
            "84f3575d705c4eeb928c791aa32aa08a",
            "661267fa13a346fbb76b1ac76bf4338c",
            "c464286da21f46459be8de9d0ec36b4c",
            "ca1c7d87ab0743708d04ea0d77b27ce4",
            "fcea10dfb4464adba7f24c377f7926d6",
            "a72f130b197d43759ccbe5bc9539b1d0",
            "13d7c06b75164e919731ab4fd2dcb157",
            "79509a9567a146b4b5081e2d870d9bdd",
            "b39cefbeedb84153989dd80520050962",
            "6bc5533c078a48f49d40c73575446123",
            "d3161aad0566436ba16726badd2911c4",
            "6b85593d43e74a0e9c93ed93f9d55604",
            "586f9011e03b4754ad936ea6e9820333",
            "8fec78b5ced142d19a22b000da8f3947",
            "88fffcc3ba50470f9774a25eaf5a0584",
            "762f0c4091fa4eb090937eedce220fcd",
            "f64153a8388e472d8c363cd5ecf19a60",
            "44986eb7a39e49628905bebebdc35a78",
            "fe98cba1d0e84e9bbb3950f54ce2e3ce",
            "9f29c6f2cb1e4972bdeb59af353e2b69",
            "45a20822f19d4e31b09179cd2fc403f0",
            "04bf6dad287f4a469ad59a4fc0d4acc0",
            "c94531abb61e46cfa89bd88ac2fce558",
            "5990703e3f8f48d684a1e241dbd66cfe"
          ]
        },
        "id": "aMzSHSreszyI",
        "outputId": "8ccf0292-eb54-410e-bb74-b84ae0033643"
      },
      "execution_count": null,
      "outputs": [
        {
          "output_type": "display_data",
          "data": {
            "text/plain": [
              "  0%|          | 0/479 [00:00<?, ?ex/s]"
            ],
            "application/vnd.jupyter.widget-view+json": {
              "version_major": 2,
              "version_minor": 0,
              "model_id": "7f5de49f94874b6f812ea3fea23b2eb2"
            }
          },
          "metadata": {}
        },
        {
          "output_type": "display_data",
          "data": {
            "text/plain": [
              "  0%|          | 0/160 [00:00<?, ?ex/s]"
            ],
            "application/vnd.jupyter.widget-view+json": {
              "version_major": 2,
              "version_minor": 0,
              "model_id": "4d41d2903511406d9e65508865d46e3e"
            }
          },
          "metadata": {}
        },
        {
          "output_type": "display_data",
          "data": {
            "text/plain": [
              "  0%|          | 0/479 [00:00<?, ?ex/s]"
            ],
            "application/vnd.jupyter.widget-view+json": {
              "version_major": 2,
              "version_minor": 0,
              "model_id": "c464286da21f46459be8de9d0ec36b4c"
            }
          },
          "metadata": {}
        },
        {
          "output_type": "display_data",
          "data": {
            "text/plain": [
              "  0%|          | 0/160 [00:00<?, ?ex/s]"
            ],
            "application/vnd.jupyter.widget-view+json": {
              "version_major": 2,
              "version_minor": 0,
              "model_id": "8fec78b5ced142d19a22b000da8f3947"
            }
          },
          "metadata": {}
        },
        {
          "output_type": "execute_result",
          "data": {
            "text/plain": [
              "{'attention_mask': [[1, 1]],\n",
              " 'input_ids': [[15078, 30]],\n",
              " 'labels': [[15078, 30]]}"
            ]
          },
          "metadata": {},
          "execution_count": 14
        }
      ]
    },
    {
      "cell_type": "code",
      "source": [
        "tokenizer.pad_token_id = 0\n",
        "tokenizer.pad_token = '<pad>'\n",
        "tokenizer.pad_token = tokenizer.get_vocab()\n",
        "\n",
        "\n",
        "dl = DataLoader(ds['train'], batch_size=1, collate_fn=transformers.DataCollatorForLanguageModeling(tokenizer, mlm=False))\n",
        "dl_test = DataLoader(ds['test'], batch_size=1, collate_fn=transformers.DataCollatorForLanguageModeling(tokenizer, mlm=False))"
      ],
      "metadata": {
        "id": "SHkWqDDps4dH"
      },
      "execution_count": null,
      "outputs": []
    },
    {
      "cell_type": "code",
      "source": [
        "next(iter(dl_test))"
      ],
      "metadata": {
        "colab": {
          "base_uri": "https://localhost:8080/"
        },
        "id": "v7uahVsp3yyV",
        "outputId": "0776a0a7-4d8e-4a9d-bd57-da665cd28188"
      },
      "execution_count": null,
      "outputs": [
        {
          "output_type": "execute_result",
          "data": {
            "text/plain": [
              "{'input_ids': tensor([[[ 3290,    30,   677,  6648,  7992,  1051,    16, 25085, 34209,   334,\n",
              "           2286, 27815,   309, 42409,   512,    16,   309, 25382,   289,   309,\n",
              "           8440,   291,    17, 10202,   554,   609,     5]]]), 'attention_mask': tensor([[[1, 1, 1, 1, 1, 1, 1, 1, 1, 1, 1, 1, 1, 1, 1, 1, 1, 1, 1, 1, 1, 1, 1,\n",
              "          1, 1, 1, 1]]]), 'labels': tensor([[[ 3290,    30,   677,  6648,  7992,  1051,    16, 25085, 34209,   334,\n",
              "           2286, 27815,   309, 42409,   512,    16,   309, 25382,   289,   309,\n",
              "           8440,   291,    17, 10202,   554,   609,     5]]])}"
            ]
          },
          "metadata": {},
          "execution_count": 16
        }
      ]
    },
    {
      "cell_type": "markdown",
      "source": [
        "### Дообучение модели\n",
        "\n",
        "Для дообучения модели нам нужны тексты. Для примера создадим маленький датасет."
      ],
      "metadata": {
        "id": "oBwoHZ5-UfIb"
      }
    },
    {
      "cell_type": "code",
      "source": [
        "lr = 1e-6\n",
        "optimizer = torch.optim.Adam(model.parameters(), lr)"
      ],
      "metadata": {
        "id": "HEAjCrtTdkyJ"
      },
      "execution_count": null,
      "outputs": []
    },
    {
      "cell_type": "code",
      "source": [
        "len(df)"
      ],
      "metadata": {
        "id": "o-9L8ty2o4f3",
        "colab": {
          "base_uri": "https://localhost:8080/"
        },
        "outputId": "68130a8e-3b94-428a-c9c3-782e2d2892ca"
      },
      "execution_count": null,
      "outputs": [
        {
          "output_type": "execute_result",
          "data": {
            "text/plain": [
              "535"
            ]
          },
          "metadata": {},
          "execution_count": 33
        }
      ]
    },
    {
      "cell_type": "code",
      "execution_count": null,
      "metadata": {
        "id": "41QrgOpkbcNY",
        "colab": {
          "base_uri": "https://localhost:8080/"
        },
        "outputId": "78afee4b-2431-4707-c3ee-f0b9ada29201"
      },
      "outputs": [
        {
          "output_type": "stream",
          "name": "stderr",
          "text": [
            "  3%|▎         | 1/32 [01:20<41:24, 80.14s/it]"
          ]
        },
        {
          "output_type": "stream",
          "name": "stdout",
          "text": [
            "Mean loss on epoch 0: train 0.478 test 9.027\n"
          ]
        },
        {
          "output_type": "stream",
          "name": "stderr",
          "text": [
            "\r  6%|▋         | 2/32 [02:40<40:04, 80.15s/it]"
          ]
        },
        {
          "output_type": "stream",
          "name": "stdout",
          "text": [
            "Mean loss on epoch 1: train 0.400 test 9.036\n"
          ]
        },
        {
          "output_type": "stream",
          "name": "stderr",
          "text": [
            "\r  9%|▉         | 3/32 [04:00<38:48, 80.30s/it]"
          ]
        },
        {
          "output_type": "stream",
          "name": "stdout",
          "text": [
            "Mean loss on epoch 2: train 0.362 test 9.067\n"
          ]
        },
        {
          "output_type": "stream",
          "name": "stderr",
          "text": [
            "\r 12%|█▎        | 4/32 [05:21<37:31, 80.40s/it]"
          ]
        },
        {
          "output_type": "stream",
          "name": "stdout",
          "text": [
            "Mean loss on epoch 3: train 0.334 test 9.120\n"
          ]
        },
        {
          "output_type": "stream",
          "name": "stderr",
          "text": [
            "\r 16%|█▌        | 5/32 [06:41<36:05, 80.20s/it]"
          ]
        },
        {
          "output_type": "stream",
          "name": "stdout",
          "text": [
            "Mean loss on epoch 4: train 0.312 test 9.182\n"
          ]
        },
        {
          "output_type": "stream",
          "name": "stderr",
          "text": [
            "\r 19%|█▉        | 6/32 [08:01<34:42, 80.08s/it]"
          ]
        },
        {
          "output_type": "stream",
          "name": "stdout",
          "text": [
            "Mean loss on epoch 5: train 0.296 test 9.255\n"
          ]
        },
        {
          "output_type": "stream",
          "name": "stderr",
          "text": [
            "\r 22%|██▏       | 7/32 [09:20<33:17, 79.88s/it]"
          ]
        },
        {
          "output_type": "stream",
          "name": "stdout",
          "text": [
            "Mean loss on epoch 6: train 0.282 test 9.330\n"
          ]
        },
        {
          "output_type": "stream",
          "name": "stderr",
          "text": [
            "\r 25%|██▌       | 8/32 [10:40<31:54, 79.79s/it]"
          ]
        },
        {
          "output_type": "stream",
          "name": "stdout",
          "text": [
            "Mean loss on epoch 7: train 0.272 test 9.412\n"
          ]
        },
        {
          "output_type": "stream",
          "name": "stderr",
          "text": [
            "\r 28%|██▊       | 9/32 [11:59<30:34, 79.76s/it]"
          ]
        },
        {
          "output_type": "stream",
          "name": "stdout",
          "text": [
            "Mean loss on epoch 8: train 0.263 test 9.464\n"
          ]
        },
        {
          "output_type": "stream",
          "name": "stderr",
          "text": [
            "\r 31%|███▏      | 10/32 [13:19<29:11, 79.62s/it]"
          ]
        },
        {
          "output_type": "stream",
          "name": "stdout",
          "text": [
            "Mean loss on epoch 9: train 0.255 test 9.531\n"
          ]
        },
        {
          "output_type": "stream",
          "name": "stderr",
          "text": [
            "\r 34%|███▍      | 11/32 [14:38<27:48, 79.45s/it]"
          ]
        },
        {
          "output_type": "stream",
          "name": "stdout",
          "text": [
            "Mean loss on epoch 10: train 0.248 test 9.586\n"
          ]
        },
        {
          "output_type": "stream",
          "name": "stderr",
          "text": [
            "\r 38%|███▊      | 12/32 [15:57<26:27, 79.38s/it]"
          ]
        },
        {
          "output_type": "stream",
          "name": "stdout",
          "text": [
            "Mean loss on epoch 11: train 0.241 test 9.647\n"
          ]
        },
        {
          "output_type": "stream",
          "name": "stderr",
          "text": [
            "\r 41%|████      | 13/32 [17:16<25:06, 79.30s/it]"
          ]
        },
        {
          "output_type": "stream",
          "name": "stdout",
          "text": [
            "Mean loss on epoch 12: train 0.237 test 9.666\n"
          ]
        },
        {
          "output_type": "stream",
          "name": "stderr",
          "text": [
            "\r 44%|████▍     | 14/32 [18:35<23:48, 79.34s/it]"
          ]
        },
        {
          "output_type": "stream",
          "name": "stdout",
          "text": [
            "Mean loss on epoch 13: train 0.234 test 9.706\n"
          ]
        },
        {
          "output_type": "stream",
          "name": "stderr",
          "text": [
            "\r 47%|████▋     | 15/32 [19:55<22:27, 79.28s/it]"
          ]
        },
        {
          "output_type": "stream",
          "name": "stdout",
          "text": [
            "Mean loss on epoch 14: train 0.233 test 9.728\n"
          ]
        },
        {
          "output_type": "stream",
          "name": "stderr",
          "text": [
            "\r 50%|█████     | 16/32 [21:14<21:07, 79.21s/it]"
          ]
        },
        {
          "output_type": "stream",
          "name": "stdout",
          "text": [
            "Mean loss on epoch 15: train 0.231 test 9.761\n"
          ]
        },
        {
          "output_type": "stream",
          "name": "stderr",
          "text": [
            "\r 53%|█████▎    | 17/32 [22:33<19:47, 79.16s/it]"
          ]
        },
        {
          "output_type": "stream",
          "name": "stdout",
          "text": [
            "Mean loss on epoch 16: train 0.231 test 9.763\n"
          ]
        },
        {
          "output_type": "stream",
          "name": "stderr",
          "text": [
            "\r 56%|█████▋    | 18/32 [23:52<18:28, 79.19s/it]"
          ]
        },
        {
          "output_type": "stream",
          "name": "stdout",
          "text": [
            "Mean loss on epoch 17: train 0.237 test 9.795\n"
          ]
        },
        {
          "output_type": "stream",
          "name": "stderr",
          "text": [
            "\r 59%|█████▉    | 19/32 [25:13<17:17, 79.79s/it]"
          ]
        },
        {
          "output_type": "stream",
          "name": "stdout",
          "text": [
            "Mean loss on epoch 18: train 0.246 test 9.830\n"
          ]
        },
        {
          "output_type": "stream",
          "name": "stderr",
          "text": [
            "\r 62%|██████▎   | 20/32 [26:34<16:00, 80.02s/it]"
          ]
        },
        {
          "output_type": "stream",
          "name": "stdout",
          "text": [
            "Mean loss on epoch 19: train 0.230 test 9.834\n"
          ]
        },
        {
          "output_type": "stream",
          "name": "stderr",
          "text": [
            "\r 66%|██████▌   | 21/32 [27:53<14:38, 79.85s/it]"
          ]
        },
        {
          "output_type": "stream",
          "name": "stdout",
          "text": [
            "Mean loss on epoch 20: train 0.233 test 9.838\n"
          ]
        },
        {
          "output_type": "stream",
          "name": "stderr",
          "text": [
            "\r 69%|██████▉   | 22/32 [29:13<13:19, 79.96s/it]"
          ]
        },
        {
          "output_type": "stream",
          "name": "stdout",
          "text": [
            "Mean loss on epoch 21: train 0.241 test 9.881\n"
          ]
        },
        {
          "output_type": "stream",
          "name": "stderr",
          "text": [
            "\r 72%|███████▏  | 23/32 [30:33<11:58, 79.79s/it]"
          ]
        },
        {
          "output_type": "stream",
          "name": "stdout",
          "text": [
            "Mean loss on epoch 22: train 0.224 test 9.882\n"
          ]
        },
        {
          "output_type": "stream",
          "name": "stderr",
          "text": [
            "\r 75%|███████▌  | 24/32 [31:53<10:39, 79.94s/it]"
          ]
        },
        {
          "output_type": "stream",
          "name": "stdout",
          "text": [
            "Mean loss on epoch 23: train 0.232 test 9.888\n"
          ]
        },
        {
          "output_type": "stream",
          "name": "stderr",
          "text": [
            "\r 78%|███████▊  | 25/32 [33:13<09:19, 79.92s/it]"
          ]
        },
        {
          "output_type": "stream",
          "name": "stdout",
          "text": [
            "Mean loss on epoch 24: train 0.229 test 9.888\n"
          ]
        },
        {
          "output_type": "stream",
          "name": "stderr",
          "text": [
            "\r 81%|████████▏ | 26/32 [34:33<07:59, 79.97s/it]"
          ]
        },
        {
          "output_type": "stream",
          "name": "stdout",
          "text": [
            "Mean loss on epoch 25: train 0.229 test 9.899\n"
          ]
        },
        {
          "output_type": "stream",
          "name": "stderr",
          "text": [
            "\r 84%|████████▍ | 27/32 [35:52<06:38, 79.80s/it]"
          ]
        },
        {
          "output_type": "stream",
          "name": "stdout",
          "text": [
            "Mean loss on epoch 26: train 0.227 test 9.923\n"
          ]
        },
        {
          "output_type": "stream",
          "name": "stderr",
          "text": [
            "\r 88%|████████▊ | 28/32 [37:14<05:20, 80.24s/it]"
          ]
        },
        {
          "output_type": "stream",
          "name": "stdout",
          "text": [
            "Mean loss on epoch 27: train 0.226 test 9.938\n"
          ]
        },
        {
          "output_type": "stream",
          "name": "stderr",
          "text": [
            "\r 91%|█████████ | 29/32 [38:34<04:00, 80.24s/it]"
          ]
        },
        {
          "output_type": "stream",
          "name": "stdout",
          "text": [
            "Mean loss on epoch 28: train 0.226 test 9.970\n"
          ]
        },
        {
          "output_type": "stream",
          "name": "stderr",
          "text": [
            "\r 94%|█████████▍| 30/32 [39:54<02:40, 80.29s/it]"
          ]
        },
        {
          "output_type": "stream",
          "name": "stdout",
          "text": [
            "Mean loss on epoch 29: train 0.223 test 9.969\n"
          ]
        },
        {
          "output_type": "stream",
          "name": "stderr",
          "text": [
            "\r 97%|█████████▋| 31/32 [41:14<01:20, 80.26s/it]"
          ]
        },
        {
          "output_type": "stream",
          "name": "stdout",
          "text": [
            "Mean loss on epoch 30: train 0.223 test 9.983\n"
          ]
        },
        {
          "output_type": "stream",
          "name": "stderr",
          "text": [
            "100%|██████████| 32/32 [42:35<00:00, 79.85s/it]"
          ]
        },
        {
          "output_type": "stream",
          "name": "stdout",
          "text": [
            "Mean loss on epoch 31: train 0.222 test 9.981\n"
          ]
        },
        {
          "output_type": "stream",
          "name": "stderr",
          "text": [
            "\n"
          ]
        }
      ],
      "source": [
        "epochs = 32\n",
        "\n",
        "for epoch in tqdm(range(epochs)):\n",
        "  total_loss = 0\n",
        "  for batch in dl:\n",
        "    optimizer.zero_grad()\n",
        "    output = model(**batch.to(device))\n",
        "    output.loss.backward()\n",
        "    optimizer.step()\n",
        "    total_loss += output.loss.item()\n",
        "\n",
        "  # Оцениваем loss на тестовой выборке\n",
        "  # Экономим память чтобы не хранить информацию для градиентов\n",
        "  with torch.no_grad():\n",
        "    total_loss_test = 0\n",
        "    for batch in dl_test:\n",
        "      output = model(**batch.to(device))\n",
        "      total_loss_test += output.loss.item()\n",
        "  \n",
        "  print(f'Mean loss on epoch {epoch}: train {total_loss / len(dl):.3f} test {total_loss_test / len(dl_test):.3f}')"
      ]
    },
    {
      "cell_type": "code",
      "source": [
        "import warnings\n",
        "warnings.filterwarnings('ignore')"
      ],
      "metadata": {
        "id": "wFaRYFHOF8oK"
      },
      "execution_count": null,
      "outputs": []
    },
    {
      "cell_type": "code",
      "source": [
        "d2 = {}  \n",
        "for l in 'вечер, утро, перерыв, работа, еда, спорт'.split(', '):\n",
        "  for i in range(30):\n",
        "    out = model.generate(**tokenizer('работа:', return_tensors='pt').to(device), return_dict_in_generate=True, output_scores=True, do_sample=True, max_length=30,  pad_token_id=tokenizer.eos_token_id)\n",
        "    txt = tokenizer.batch_decode(out.sequences)[0]\n",
        "    # for j in '?!.':\n",
        "    try:\n",
        "      d2[l].append(txt)\n",
        "    except KeyError:\n",
        "      d2[l] = [txt]\n",
        "\n",
        "      "
      ],
      "metadata": {
        "id": "SA1QLVZsCpVf"
      },
      "execution_count": null,
      "outputs": []
    },
    {
      "cell_type": "code",
      "source": [
        "d"
      ],
      "metadata": {
        "colab": {
          "base_uri": "https://localhost:8080/"
        },
        "id": "3MMSeNdJG-J2",
        "outputId": "323d0589-02b9-4ac0-d73e-e18d5496fb7d"
      },
      "execution_count": null,
      "outputs": [
        {
          "output_type": "execute_result",
          "data": {
            "text/plain": [
              "{'вечер': ['работа:Случайностей не бывает! Что в ней проку? Скажите-ка мне, кем вы будете, если лишить вас совпадению?          ',\n",
              "  'работа:Что бы потом с нами ни случилось, это был великий день и великий час! В великий час мы стали еще больней, назло!  Которого мы не имеем?   великий день',\n",
              "  'работа:Время делает шаг… вторник убивает среда… вторник убивает среда…  вторгается гнет, а не дар!  Четверть может, кому-то секрет… Вовочка, кому-то',\n",
              "  'работа:В конце концов, именно такой человек и нужен… Который сам приходит, когда необходим… Которого никогда не нужно просить…  Которого никогда не нужно просить…  Которого никогда не нужно',\n",
              "  'работа:Случайно все, но не случайно лишь последствие… учайно все, последствие — мачеха логики…  зачем-то случайность…  следствия, причины, следствия',\n",
              "  'работа:<…> всякому деревцу родная земля слаще <…> <…> всё растёт, растёт… растёт…  растёт… растёт…  растёт… чтобы земля земля, нужно бы день и великий час! Вот',\n",
              "  'работа:Найти лучшего друга — самая большая удача в жизни… но очень вкусный!  так вмазал по Украине, что хрен она теперь когда поднимется…  Клинок вернется на рукоять,',\n",
              "  'работа:Позарастают беды быльем, Вспыхнет клинок снова И Короля назовут королем В честь короля иного… Который сам приходит, когда необходим… Которого никогда не нужно просить…',\n",
              "  'работа:Девушка пришла на подготовительные курсы и кокетливо спрашивает преподавателя:- А чему вы будете меня учить?Преподаватель кокетливо отвечает:- Пока нету 18-ти, только математике! Вы только представьте',\n",
              "  'работа:Позарастают беды быльем, Вспыхнет клинок снова И Короля назовут королем В честь короля иного… «never died» — так, кому нужна судьба?  Король',\n",
              "  'работа:Сегодня уже среда, а мне еще стыдно за пятницу…  Абрамовские жесть!  Как они на экзамене вытащить билет в кино?          ',\n",
              "  'работа:Мой друг Борух Фарбер, фотограф, говорил: «сыр», а не «утюг»! Что, Дмитрия Губерниева после биатлона перебросили окончательно угнали',\n",
              "  'работа:Случайностей не бывает! Неучайно ли это опять за поворот! Вот мы опять в числе человеков! Значит, кем мы будем, если лишить станем еще больней, назло',\n",
              "  'работа:Чем отличается понедельник от вторника? Вторник от среды? Вот сегодня среда, а как будто тот же понедельник…  как будто тот же понедельник… но не как будто тот же понедельник',\n",
              "  'работа:Как на экзамене вытащить билет в кино?                актрисами в           ',\n",
              "  'работа:Когда мы встречаем особенного человека, мы отдаем ему все свое время, он поглощает все наши мысли, и всякий раз нам приходится его терять…  … … … ',\n",
              "  'работа:За поворот! Меня там ждет судьба бывает!  Я бы мог, конечно, купить эту машину, но тогда я должен был быть из той категории людей, которые смотрят на свою сестру и думают',\n",
              "  'работа:Учитель арифметики спрашивает на уроке:- Вовочка, сколько будет восемьдесят плюс девяносто?- Рубль семьдесят! Вовочка, а вы, еще больней оказались! Цилечка,',\n",
              "  'работа:Время делает шаг… вторник убивает среда… вторник убивает среда… В этом шаг… вторник убивает среда… В этом — искусство! а не дар!          Пап,',\n",
              "  'работа:Шутим, шутим, а тоска всё растёт, растёт… растёт… растёт… растёт…  растёт… растёт…  растёт… растёт… чтобы в некоторых местах похудеть, нужно в',\n",
              "  'работа:Сегодня уже среда, а мне еще стыдно за пятницу…  Я иду, как будто тот же понедельник… éwe! Хотите похудеть — закройте рот!  Хотите похудеть — закройте',\n",
              "  'работа:Мой друг Борух Фарбер, фотограф, говорил: «сыр», а не «утюг»! Купил велик!- заслуги перед спортом! Купил велик!- Вовочка',\n",
              "  'работа:Как на экзамене вытащить билет в кино?                             ',\n",
              "  'работа:Если ты можешь сделать нечто случайно, почему бы тебе не сделать этого нарочно?                       ',\n",
              "  'работа:Чтобы машина называлась суперкаром, ее двигатель должен располагаться в средней части, но, как я всегда говорил, если бы Господь подразумевал, что мы будем пихать мотор в середину машины',\n",
              "  'работа:Вдвойне благословенна помощь, приходящая нежданно! Чем она только питается, когда поблизости нет никого нет хоббитов?  Присаживайтесь, здрасьте! Не поз',\n",
              "  'работа:Найти лучшего друга — самая большая удача в жизни…  Так понедельник, вторник, среда, четверг проходим, проходим поскорее, не задерживаем пятницу!  Не задерживаем пятницу!',\n",
              "  'работа:Девушка пришла на подготовительные курсы и кокетливо спрашивает преподавателя:- А чему вы будете меня учить?Преподаватель кокетливо отвечает:- Пока нету 18-ти, только математике! Вы только представьте',\n",
              "  'работа:Случайность — мачеха логики… φ��! ����: - Почему ты решил не отдавать детей в школу?- Там прививают детям любовь к',\n",
              "  'работа:Жизнь бывает странной, жестокой, иногда просто чумовой, однако, самое главное, всё в ней — чистая случайность…  ней мы совершаем подвиги…  Бог посылает на землю ангела –'],\n",
              " 'еда': ['работа:Ну не меняться же мне из-за каждого идиота!  Папа, а то денег не будет! У тебя тут в столе шоколадка лежала, можно, я ее уже съел?-',\n",
              "  'работа:Знаете, какое у меня чувство? Будто я внутри песни – понимаете? – понимаете, зачем вы?  Х#й угадаете, кто ты и злишься!  А',\n",
              "  'работа:Если официантам дают на чай, то врачам надо давать на спирт, а учителям - на чернила!  Завтра же воскресенье!   18 декабря - на чернила!  Чтобы снова',\n",
              "  'работа:Сегодня уже среда, а мне еще стыдно за пятницу…  Почему так трудно отпустить?  Хмельсенье пока здесь столько лет?  Вот только слезы…  Вот только слезы высохнут',\n",
              "  'работа:Позарастают беды быльем, Вспыхнет клинок снова И Короля назовут королем В честь короля иного… Который сам приходит, когда необходим… Которого никогда не нужно просить…',\n",
              "  'работа:Мой друг Борух Фарбер, фотограф, говорил: «сыр», а не «утюг»!! Купил более обеспеченные пельмени, шутим, а тоска',\n",
              "  'работа:Если ты можешь сделать нечто случайно, почему бы тебе не сделать этого нарочно?                       ',\n",
              "  'работа:Никто из нас не знает своей судьбы — но мы всегда надеемся на лучшее…  бы нам не дали бы кто-то санкциями стратим?         ',\n",
              "  'работа:Случайно все, но не случайно лишь последствие…  Так понедельник, вторник, среда, четверг проходим, проходим поскорее, не задерживаем пятницу!  У нас пятницу',\n",
              "  'работа:Такой вот парадокс: мы совершаем подвиги для тех, кому до нас уже нет никакого дела, а любят нас те, кому мы нужны и без всяких подвигов…  а без всяких',\n",
              "  'работа:– Люди – странные существа, Леголас! Они владеют чудом из чудес, какого нет на всем-каверно нужно, и как они его называют? „Пещеры“!',\n",
              "  'работа:Иногда момент, который ты так долго ждал, приходит в самое неподходящее время… В нее бросают всегда щепоточку любви! Да и сам приходит… Да, когда вы обе правы,',\n",
              "  'работа:Какая это роскошь — в любую минуту иметь возможность обнять любимого человека…  Это дело наладятся…  жена так вкусно приготовила…  сын так вкусно обнимается…  Дочь так',\n",
              "  'работа:Случайными кажутся события, причины которых мы не знаем…  случайно выиграли чемпионат мира по керлингу…         нас   Х#й уга',\n",
              "  'работа:Вы не знаете, что подарить подруге на 8 Марта? Значит вы её не знаете… Значит вы её не знаете… Да вы её не знаете…  Значит вы её не знаете… Значит вы',\n",
              "  'работа:Случайностей не бывает! Это лишь последствие…  Почему так трудно отпустить?  Пап, может, раз жена, а потом все испортить…  Почему так трудно отпустить?',\n",
              "  'работа:Среда — не суббота, но помечтать охота!  Такой вот парадокс: среди болельщиков сборной России по футболу среди болельщиков сборной России по футболу среди болельщиков сборной России по футболу среди болельщиков',\n",
              "  'работа:Среда пришла — неделя прошла!  Не неделя прошла!  Не неделя прошла!  Не неделя прошла!  Не неделя прошла!  Купидона теперь - раз ты из гетто,',\n",
              "  'работа:За поворот! Меня там ждет судьба судьба строить — человека! Я и использую земное занятие, когда нужно, а не дар! Еще хуже школы! é я из-за каждого иди',\n",
              "  'работа:Я бы мог, конечно, купить эту машину, но тогда я должен был быть из той категории людей, которые смотрят на свою сестру и думают… Мммм» — Мммм»',\n",
              "  'работа:Случайностей не бывает! Люди думают: раз ты из гетто, значит стоит чуток потусоваться, и ты впишешься куда угодно, только на студенческом фестивале! ',\n",
              "  'работа:Такой вот парадокс: мы совершаем подвиги для тех, кому до нас уже нет никакого дела, а любят нас те, кому мы нужны и без всяких подвигов…  ____________',\n",
              "  'работа:Знаете, какое у меня чувство? Будто я внутри песни – понимаете?  Лично я не плен и мне следует есть только белое, и при этом главным тренером сборной России по футболу является не',\n",
              "  'работа:– Мошкарные Болота называется! Да тут больше мошкары, чем болот! – И чем они только питаются, когда поблизости нет хоббитов? – Пап,',\n",
              "  'работа:Вам нужно имя? Что в нем проку? Скажите-ка мне, кем вы будете, если лишить вас имен? Вы будете еще больней, назло!  Присаживайтесь, з',\n",
              "  'работа:Настроение классное, весеннее! Я иду, улыбки не тая… У меня сегодня воскресенье и мне пофиг, что у всех среда! Что вы в числе человеков! Значит вы',\n",
              "  'работа:Позарастают беды быльем, Вспыхнет клинок снова И Короля назовут королем В честь короля иного… Который сам приходит, когда необходим… Которого никогда не нужно просить…',\n",
              "  'работа:Сегодня уже среда, а мне еще стыдно за пятницу…   Хмельсенье само по тем, что в субботу пришла — неделя прошла!  Не суббота, а не суббота! ',\n",
              "  'работа:Среда — апатия переходит в меланхолию…  Не суббота, не суббота!  вторник, не суббота!  жена так вкусно приготовила пасьянсы, что только чуд',\n",
              "  'работа:Время делает шаг… вторник убивает среда… а гульнуть уже хочется как вечером 31 декабря! … Боже, какое у меня чувство? Будто я внутри песни, понимаете? ر'],\n",
              " 'перерыв': ['работа:Иногда момент, который ты не понимаешь, приходит в самое неподходящее время… Ты понимаешь, зачем тебе настоящее… и не понимаешь, зачем тебе настоящее…  понимаешь, зачем тебе настоящее… зачем',\n",
              "  'работа:В конце концов, именно такой человек и нужен… Который сам приходит, когда необходим… Которого никогда не нужно просить…  Которого никогда не нужно просить… Которого никогда не нужно просить',\n",
              "  'работа:Найти лучшего друга — самая большая удача в жизни… \\xa0… он такой могучий и ужасный! \\xa0 удача — самая большая удача в жизни… \\xa0 �� приглашение — на',\n",
              "  'работа:Никто из нас не знает своей судьбы — но мы всегда надеемся на лучшее…  Однако, как всегда может человек, если бы Господь подразумевал, что мы будем пихать мотор в середину машины',\n",
              "  'работа:Он съел пищу, которую я приготовил, и по случайному совпадению его желудок разорвало…........… Вот он опять в числе человеков! Дорогой! Дорогой! Да он',\n",
              "  'работа:Ну почему то единственное, что мы не имеем, мешает нам наслаждаться всем тем, что мы имеем?  имеем?  Зато наслаждаясь каждым моментом, мы имеем?  Бог посылает на землю ангела',\n",
              "  'работа:…Случайность — мачеха логики… ipsoisa — не случайно слопал пятый хачапури! ipsover, кому нужна судьба?  Хотите похудеть',\n",
              "  'работа:Время делает шаг… вторник убивает среда… четверг убивает среда…  бысть, а не суббота!  футбол!  Господь посылает на землю ангела – человека, который придет и вытрет наши',\n",
              "  'работа:Случайность — мачеха логики… учайность — мачеха логики…  жрица — мачеха логики… élensedberryry, что',\n",
              "  'работа:Случайности в этом мире обладают весьма продуманными схемами…  там они не мешают мне видеть сны…  Там я добыл это случайно, и мне по-то… ',\n",
              "  'работа:Ну не меняться же мне из-за каждого идиота! Меня там ждет…  я обязана спагетти, когда фотографируетесь, надо говорить! Мммм» - это будет',\n",
              "  'работа:Иногда момент, который ты так долго ждал, приходит в самое неподходящее время……  самое неподходящее время…  самое неподходящее время… Люди думают… Мммм» — раз',\n",
              "  'работа:Жизнь бывает странной, жестокой, иногда просто чумовой, однако, самое главное, всё в ней — чистая случайность…  Вот я её любил, и в один момент забываешь и о',\n",
              "  'работа:Что бы потом с нами ни случилось, это был великий день и великий час!  Он такой могучий и ужасный!  Можно, я ее любил, да и сейчас люблю…  Клин',\n",
              "  'работа:Мой друг Борух Фарбер, фотограф, говорил: «самир», а не «утюг»! »!!  cam сегодня уже среда, а гульнуть уже',\n",
              "  'работа:Иногда момент, который ты так долго ждал, приходит в самое неподходящее время…  самое неподходящее время…  самое неподходящее время…  самое неподходящее время…   человек,',\n",
              "  'работа:Настроение классное, весеннее! Я иду, улыбки не тая… У меня сегодня воскресенье и мне пофиг, что у всех среда! Что вы в один день и мне пофиг',\n",
              "  'работа:Время делает шаг… вторник убивает среда… вторник убивает среда… четверг убивает среда… И что-то случайно…  Вот сегодня среда, а как будто тот же понедельник…  А как будто',\n",
              "  'работа:Я не видел в Великобритании ни одного кенгуру, но удар «кенгурятником» гарантирует, что пешеход отправится к праотцам еще раньше, чем вы закончите тормозной',\n",
              "  'работа:Ну не меняться же мне из-за каждого идиота!  Купидона!Она проглянула, и я опять в числе человеков! Купидона прочная, можно,',\n",
              "  'работа:Шутим, шутим, а тоска всё растёт, растёт… растёт… растёт…  растёт… растёт…  растёт…  растёт… растёт… растёт…  растёт…  растёт',\n",
              "  'работа:Если ты можешь сделать нечто случайно, почему бы тебе не сделать этого нарочно?                 нарочно сделать этого нарочно?  ',\n",
              "  'работа:Супруга так вкусно приготовила борщ, что хрен она теперь когда поднимется! Да она жесть! Не позволь загнать себя в стойло, да и не позволь',\n",
              "  'работа:Там, во Франции, я привык смотреть как умирают люди, но не привык к виду умирающих лошадей, они тяжело умирают…  я один считаю, что эта пришла в самое неподходящее время',\n",
              "  'работа:В конце концов, именно такой человек и нужен… Который сам приходит, когда необходим… Которого никогда не нужно просить…  Которого никогда не нужно просить…  -  Которого никогда',\n",
              "  'работа:Случайностей не бывает! Я не случайно, что мачеха логики?! — свиньи повсюду находят грязь!  Да вы её любил, как-то паршиво всё… ',\n",
              "  'работа:Позарастают беды быльем, Вспыхнет клинок снова И Короля назовут королем В честь короля иного… Который сам приходит, когда необходим… Которого никогда не нужно просить…',\n",
              "  'работа:Я ведь… маленький, слабый, а Враг — он такой могучий и ужасный!  Хотите похудеть — закройте рот! ройте рот! Независимо от крепости жести оставаться',\n",
              "  'работа:Ну не меняться же мне из-за каждого идиота!  Пап, может ты из гетто, или ты из-за каждого идиота!  Вот только одного идиота! ',\n",
              "  'работа:Превратим окружающую нас среду в окружающую нас пятницу!  Вот только помечтать охота!  Девченки! - Пап, а жена это надолго?  Да, еще хуже'],\n",
              " 'работа': ['работа:Найти лучшего друга — самая большая удача в жизни… а лучшего друга — самая большая удача в спорте: когда ловят рыбу друзья! é ветер-на чай, а когда рассказывают об',\n",
              "  'работа:Ну конечно! Это же просто до нелепости, как и все остальные загадки, когда найдешь ответ! Х#й угадаешь, кто придет, когда ответят за всех, а',\n",
              "  'работа:Чтобы машина называлась суперкаром, ее двигатель должен располагаться в средней части, но, как я всегда говорил, если бы Господь подразумевал, что мы будем пихать мотор в середину машины',\n",
              "  'работа:Если ты можешь сделать нечто случайно, почему бы тебе не сделать этого нарочно?                       ',\n",
              "  'работа:Позарастают беды быльем, Вспыхнет клинок снова И Короля назовут королем В честь короля иного… Который сам приходит, когда необходим… Которого никогда не нужно просить…',\n",
              "  'работа:Среда — апатия переходит в меланхолию…  Почему так трудно отпустить?  Можно, конечно, просто за пивом и сигаретами!  кто-то строчит комментарий,',\n",
              "  'работа:Шутим, шутим, а тоска всё растёт, растёт… растёт… растёт… растёт… растёт… чтобы в некоторых местах похудеть, нужно в некоторых местах не жрать!  Не нужно',\n",
              "  'работа:Когда мы встречаем особенного человека, мы отдаем ему все свое время, он поглощает все наши мысли, и всякий раз нам приходится его терять… …  Мошкарные Боло',\n",
              "  'работа:Я ведь… маленький, слабый, а Враг — он такой могучий и ужасный!  Я же… маленький, слабый, а Враг — вообще не нужен мне из-за каждого',\n",
              "  'работа:Вы не знаете, что подарить подруге на 8 Марта? Значит вы её не знаете…  Значит вы её не знаете…  Значит вы её не знаете…  Значит вы её редко её из',\n",
              "  'работа:В конце концов, именно такой человек и нужен… Который сам приходит, когда необходим… Которого никогда не нужно просить… … Которого никогда не нужно просить… Которого никогда не нужно',\n",
              "  'работа:Учитель арифметики спрашивает на уроке:- Вовочка, сколько будет восемьдесят плюс девяносто?- Рубль семьдесят! Честь, сколько будет еще больней, назло!  Вовочка,',\n",
              "  'работа:Время делает шаг… вторник убивает среда… А вы с тещей живете, как будто тот же понедельник… rom избежит среда… Вы только представьте, что способны американцы, если наберут',\n",
              "  'работа:Мой друг Борух Фарбер, фотограф, говорил: «сыр», а не «утюг»! Не «утюг»! — не «утюг»! Хотите похудеть',\n",
              "  'работа:Ну не меняться же мне из-за каждого идиота! Не меняться же мне из-за каждого идиота!  Вы матом ругаетесь, а не тем, что вы видите!',\n",
              "  'работа:Сегодня уже среда, а мне еще стыдно за пятницу…  Что мчится к облакам!  Хотите похудеть — закройте рот!  Хотите похудеть — закройте рот!  Хотите похудеть',\n",
              "  'работа:Время делает шаг… вторник убивает среда… четверг убивает среда… Четвертый хачапури! Четвертьян! Х#й угадает, кто будет еще больней, назло! Из',\n",
              "  'работа:Зарифмую без труда, что мне нравится среда, и мне пофиг, что у всех среда! !  Что бы я опять в числе человеков!  Вот только',\n",
              "  'работа:Оставаться наедине со своими мыслями — весьма опасное занятие… но очень полезное! ς чем он того не стоит!  любимого друга — самая большая удача в жизни!  Дорогой Ле',\n",
              "  'работа:Мой друг Борух Фарбер, фотограф, говорил: «сыр», а не «утюг»! Ваше дело — по мячу бить! \\u2002 Пап, а по',\n",
              "  'работа:Девушка пришла на подготовительные курсы и кокетливо спрашивает преподавателя:- А чему вы будете меня учить?Преподаватель кокетливо отвечает:- Пока нету 18-ти, только математике! Вы только представьте',\n",
              "  'работа:Вам нужно имя? Что в нем проку? Скажите-ка мне, кем вы будете, если лишить вас имен? Что вы в числе человеков? ронождает угрозу на черных',\n",
              "  'работа:Время делает шаг… вторник убивает среда… Вторник… вторник убивает среда… Вот только последствие… – жена, а не дар… - не суббота! Ваше дело – по- по',\n",
              "  'работа:Вы не знаете, что подарить подруге на 8 Марта? Значит вы её не знаете… … ы…  бездельника  — значит много работать!  любите, как можно больше,',\n",
              "  'работа:Эй, дурень! У тебя пол-земного шара к плугу прилипло! Что ты в самом деле! - землю! Да и Бог посылает на землю ангела – человека, который',\n",
              "  'работа:Что бы потом с нами ни случилось, это был великий день и великий час! великий час! великий час и великий час! великий час! великий час! великий час! великий час! великий',\n",
              "  'работа:Вы не знаете, что подарить подруге на 8 Марта? Значит вы её не знаете…???…  Вы её не знаете…  Что вы её любил, да и сейчас люблю… ',\n",
              "  'работа:Найти лучшего друга — самая большая удача в жизни… \\xa0 Когда нам грустно, Бог посылает на землю ангела – человека, который придет и вытрет наши слезы… \\xa0 Вот только грустно',\n",
              "  'работа:Барак Обама, выступая перед австралийскими студентами, заявил, что русские представляет собой мировую угрозу для всех тех, кто на них нападает! Не слушай никого, лишь бы этот год побыстрее закончился',\n",
              "  'работа:Время делает шаг… вторник убивает среда… четверг убивает среда…  Блондинка в один день… И что-то особенного человека… который всегда хорошо смотрелся на заднем сиденье четырехместного'],\n",
              " 'спорт': ['работа:Я ведь… маленький, слабый, а Враг — он такой могучий и ужасный! ن удача — удача в настольном футбольном: играешь рукой — значит, свободен!',\n",
              "  'работа:Среда пришла — неделя прошла!  Купидона пришла — неделя прошла!  Цилечка, что опять затишь? Купидона! В нее зал всегда играет роль, а',\n",
              "  'работа:Вам нужно имя? Что в нем проку? Скажите-ка мне, кем вы будете, если лишить вас имен? Что вы в числе человеков? Что вы будете еще больней,',\n",
              "  'работа:Я бы мог, конечно, купить эту машину, но тогда я должен был быть из той категории людей, которые смотрят на свою сестру и думают… Мммм» — раз ты из гетто',\n",
              "  'работа:Ну не меняться же мне из-за каждого идиота! Купил велик, облачка к облакам! Я теперь веду спортивный образ жизни! Купил велик, и что-то из',\n",
              "  'работа:Там, во Франции, я привык смотреть как умирают люди, но не привык к виду умирающих лошадей, они тяжело умирают…........релия мировую жору лучше видно, кто-то',\n",
              "  'работа:Найти лучшего друга — самая большая удача в жизни…  друга — самая большая удача в жизни…  другу — самая большая удача в жизни…  другу — самая большая удача в жизни…',\n",
              "  'работа:Эй, дурень! У тебя пол-земного шара к плугу прилипло! Не верьте в стойло, когда поднимется к плугу! Не вечна судьба — на',\n",
              "  'работа:Мой друг Борух Фарбер, фотограф, говорил: «сыр», а не «утюг»! — «утюг»! ert!erring! - и что',\n",
              "  'работа:Найти лучшего друга — самая большая удача в жизни…  Так он же… маленький, слабый, а Враг — он такой могучий и ужасный! ن�лядя на',\n",
              "  'работа:Мой друг Борух Фарбер, фотограф, говорил: «сыр», а не «утюг»! Что, Дмитрия Губерниева после биатлона перебросили окончательно угроб',\n",
              "  'работа:Случайность — мачеха логики… φ плыла в этом мире… q:TATATA, подготовительное занятие…  тебя там земное, как в',\n",
              "  'работа:Ну просто! Это же просто до нелепости, как и все остальные загадки, когда найдешь ответ! И так трудно загадки, когда найдешь ответ!    Вот только загадки',\n",
              "  'работа:Я ведь… маленький, слабый, а Враг — он такой могучий и ужасный!  Я и использую его вчера, а как будто тот же понедельник!  Мелодраму!',\n",
              "  'работа:Мой друг Борух Фарбер, фотограф, говорил: «сыр», а не «утюг»!! Купил велик!- Ого! За здоровье взялся — да и по',\n",
              "  'работа:В раздумьях о диете и культуре случайно слопал пятый хачапури! Это уже пятый хачапури!........�!  Мошкарные Болота называется!',\n",
              "  'работа:Никто из нас не знает своей судьбы — но мы всегда надеемся на лучшее…  бы нас никто не научил говорить слово стоп! ف мы всегда надеемся на лучшее…  удача — опять',\n",
              "  'работа:Эй, дурень! У тебя пол-земного шара к плугу прилипло! Можно, я ее уже съел? Купил телевизор, а не был бычком, да и сейчас',\n",
              "  'работа:Вдвойне благословенна помощь, приходящая нежданно! Это кто-то строчит комментарий, меня обвиняющий в грязном пиаре: я его прочитаю, уже даже не',\n",
              "  'работа:Что бы потом с нами ни случилось, это был великий день и великий час! великий час! великий час и великий час! великий час! великий час! великий час! великий час! великий',\n",
              "  'работа:Найти лучшего друга — самая большая удача в жизни… но… самое главное, что мы имеем — это мы… \\xadтаки имеем…  наслаждаясь каждый момент, мы отдаем ему все',\n",
              "  'работа:Никто из нас не знает своей судьбы — но мы всегда надеемся на лучшее…  бы нас кто-то санкциями стратим…            ',\n",
              "  'работа:Такой вот парадокс: мы совершаем подвиги для тех, кому до нас уже нет никакого дела, а любят нас те, кому мы нужны и без всяких подвигов…  простых покупок…',\n",
              "  'работа:Позарастают беды быльем, Вспыхнет клинок снова И Короля назовут королем В честь короля иного… Который сам приходит, и всякий раз, когда необходим…  Которого',\n",
              "  'работа:Как на экзамене вытащить билет в кино?                             ',\n",
              "  'работа:Никто из нас не знает своей судьбы — но мы всегда надеемся на лучшее…  надеемся на лучшее…  как у нас в дни войны служат именно такой человек, а не такой…  как',\n",
              "  'работа:Я бы мог, конечно, купить эту машину, но тогда я должен был быть из той категории людей, которые смотрят на свою сестру и думают… Мммм» — раз ты из гетто',\n",
              "  'работа:Ну не меняться же мне из-за каждого идиота!  Клинок вернется назад, дела наладятся… ruelexte из-за каждого идиота!  В конце концов',\n",
              "  'работа:Как на экзамене вытащить билет в кино?                             ',\n",
              "  'работа:Что бы потом с нами ни случилось, это был великий день и великий час!  Люди стали много кушать и при этом вели странные (надеюсь, это кто-то строчит комментарий,'],\n",
              " 'утро': ['работа:Я ведь… маленький, слабый, а Враг — он такой могучий и ужасный! نя между Персидскими ири: «МАМА, Я ТЕБЯ ЛЮБ',\n",
              "  'работа:Время делает шаг… вторник убивает среда… Вторник на пятницу… Что бы потом с того, кому бы потом с эдакой женой жить только на-то, что ей нравится среда…',\n",
              "  'работа:Шутим, шутим, а тоска всё растёт, растёт…  Корни земля хранит Зола обратится огнем опять, Клинок вернется на рукоять, Корону Король обретет! Коро',\n",
              "  'работа:Ну почему то единственное, что мы не имеем, мешает нам наслаждаться всем тем, что мы имеем?   имеем?  и наслаждаться всем тем, что мы имеем?  Чтобы снова наслаждаться',\n",
              "  'работа:Там, во Франции, я привык смотреть как умирают люди, но не привык к виду умирающих лошадей, они тяжело умирают…  Меня там земное, как можно больше святого сделали пожертвовали',\n",
              "  'работа:За поворот! Меня там ждет удача! Я обязана спагетти, у меня сегодня воскресенье и мне пофиг, что у всех среда! а как будто тот же понедельник… ================ Я',\n",
              "  'работа:Превратим окружающую нас среду в окружающую нас пятницу!  Пап, известно, что придет пора из этого?  Пап, что мы будем еще больней, назло!  Из',\n",
              "  'работа:Что бы потом с нами ни случилось, это был великий день и великий час!  Когда мы встречаем особенного человека, мы отдаем ему все свое время, он поглощает все наши мысли',\n",
              "  'работа:Никто из нас не знает своей судьбы — но мы всегда надеемся на лучшее…  бы нас никто не знаем, что мы будем пихать мотор в середину, и будем еще больней, назло',\n",
              "  'работа:Так понедельник, вторник, среда, четверг проходим, проходим поскорее, не задерживаем пятницу!  Не задерживаем пятницу!  Вторник бездельник, поглядывающая на часы,',\n",
              "  'работа:Мой друг Борух Фарбер, фотограф, говорил: «сыр», а не «утюг»! Мммм»!  Это огромный успех — так много, что я и',\n",
              "  'работа:Эй, дурень! У тебя пол-земного шара к плугу прилипло! Не слушай никого, лишь твоё сердце — оно всё знает, что ты записался в зал и блеска',\n",
              "  'работа:За поворот! Меня там ждет что-то более утомительного, нежели хорошей пищи!  - искусство!  Я надеюсь на лучшее… urrent на настала уже среда, а мне',\n",
              "  'работа:Что бы потом с нами ни случилось, это был великий день и великий час!  Это великий день и великий час!  великий час и великий час!!  великий час и великий',\n",
              "  'работа:Найти лучшего друга — самая большая удача в жизни… _ лучшего друга — самая большая удача в жизни… ____ ____ ____ ____ ____  ____  ____',\n",
              "  'работа:Найти лучшего друга — самая большая удача в жизни…  другу — самая большая удача в жизни…  Когда вы встречаете особенного человека, надо говорить «сыр», а не «ут',\n",
              "  'работа:Я ведь… маленький, слабый, а Враг — он такой могучий и ужасный!  ужасный!  Скажите, что вы видите?  Присаживайтесь, здрасьте! Не',\n",
              "  'работа:Зарифмую без труда, что мне нравится среда, и мне пофиг, что у всех среда!  Что вы, вообще в один уже нет никакого…  У всех бездельника',\n",
              "  'работа:Среда пришла — неделя прошла!  Вторник неделя прошла!  Девченки! Не суббота, а гульнуть уже хочется как вечером 31 декабря!  Не суббота, но',\n",
              "  'работа:Время делает шаг… вторник убивает среда… вторник убивает среда… Четверть! В этом жесть — от нечего делать! Да нет, как подставлять друга… так, чтобы в некоторых местах',\n",
              "  'работа:Позарастают беды быльем, Вспыхнет клинок снова И Короля назовут королем В честь короля иного…  Леголас вернется назад, дела наладятся…  Клин',\n",
              "  'работа:Найти лучшего друга — самая большая удача в жизни…  другу — и очень полезное занятие…  Вот только слезы…  силу даст — «Ещё вчера ты верил в прекрасное будущее с',\n",
              "  'работа:Случайности в этом мире обладают весьма продуманными схемами…  там, во Франции, я привык смотреть как умирают люди, как умирают они…  они владеют весьма продуманными схем',\n",
              "  'работа:Ну почему то единственное, что мы не имеем, мешает нам наслаждаться всем тем, что мы имеем?  имеем?  Чтобы снова хотеть есть? Чтобы снова хотеть есть? Чтобы опять',\n",
              "  'работа:Там, во Франции, я привык смотреть как умирают люди, но не привык к виду умирающих лошадей, они тяжело умирают…  Меня там ждет паралимпийские игры, а не дарят',\n",
              "  'работа:Что бы потом с нами ни случилось, это был великий день и великий час! великий день и великий час! великий час! великий час! великий час и великий час! великий час! великий',\n",
              "  'работа:Только среда, а гульнуть уже хочется как вечером 31 декабря!  Будто сердце у 31 декабря!  Будто сердце футбольное, или в один раз уже съел!  Да и в',\n",
              "  'работа:Дружба! Вообще нужно ли это понятие?  Вообще ли это понятие?  Когда мы встречаем особенного человека, мы отдаем ему все свое время, он поглощает все наши мысли',\n",
              "  'работа:Найти лучшего друга — самая большая удача в жизни…  друга — самая большая удача в жизни… é он такой могучий и ужасный! é с него бросают всегда щепо',\n",
              "  'работа:Единственным человеком, который всегда хорошо смотрелся на заднем сиденье четырехместного кабриолета, был Адольф Гитлер! По случайному совпадению он тоже человек! Но богат! Что']}"
            ]
          },
          "metadata": {},
          "execution_count": 63
        }
      ]
    },
    {
      "cell_type": "code",
      "execution_count": null,
      "metadata": {
        "id": "24oiLwFGbt8Z",
        "colab": {
          "base_uri": "https://localhost:8080/"
        },
        "outputId": "5b822846-c578-41d9-f725-9043d4435bbf"
      },
      "outputs": [
        {
          "output_type": "stream",
          "name": "stderr",
          "text": [
            "Setting `pad_token_id` to `eos_token_id`:50256 for open-end generation.\n"
          ]
        }
      ],
      "source": [
        "out = model.generate(**tokenizer('работа:', return_tensors='pt').to(device), return_dict_in_generate=True, output_scores=True, do_sample=True, max_length=40)"
      ]
    },
    {
      "cell_type": "code",
      "source": [
        "out.sequences"
      ],
      "metadata": {
        "colab": {
          "base_uri": "https://localhost:8080/"
        },
        "id": "TOUWOLUB3IXS",
        "outputId": "a8144e72-8539-4b50-f128-71b06756ac77"
      },
      "execution_count": null,
      "outputs": [
        {
          "output_type": "execute_result",
          "data": {
            "text/plain": [
              "tensor([[ 3290,    30, 19563,  3991,  5406,    16,  1029,  1494,  1904,  1590,\n",
              "         21899,   309, 27941, 19600,  6566,   482,  7385,  2974,   312,   303,\n",
              "           871,    16,   685,  4508, 13426, 17542,     5,   889,   492,   289,\n",
              "         12387,  1119,   289, 12387,  1808,     5,  1397,   492,  1574,   757]],\n",
              "       device='cuda:0')"
            ]
          },
          "metadata": {},
          "execution_count": 53
        }
      ]
    },
    {
      "cell_type": "code",
      "execution_count": null,
      "metadata": {
        "id": "hwkdMldyfrzi",
        "colab": {
          "base_uri": "https://localhost:8080/",
          "height": 53
        },
        "outputId": "a45af811-24fb-47fd-9872-e79be9bf75be"
      },
      "outputs": [
        {
          "output_type": "execute_result",
          "data": {
            "text/plain": [
              "'работа:Единственным человеком, который всегда хорошо смотрелся на заднем сиденье четырехместного кабриолета, был Адольф Гитлер! Это он и великий день и великий час! Что он такой мог'"
            ],
            "application/vnd.google.colaboratory.intrinsic+json": {
              "type": "string"
            }
          },
          "metadata": {},
          "execution_count": 54
        }
      ],
      "source": [
        "tokenizer.batch_decode(out.sequences)[0]"
      ]
    },
    {
      "cell_type": "code",
      "source": [
        "import json\n",
        "with open('data.json', 'w') as f:\n",
        "  json.dump(d2, f)"
      ],
      "metadata": {
        "id": "m_b0nxAL5c7l"
      },
      "execution_count": null,
      "outputs": []
    }
  ],
  "metadata": {
    "accelerator": "GPU",
    "colab": {
      "collapsed_sections": [],
      "name": "Кахатончики.ipynb",
      "provenance": []
    },
    "gpuClass": "standard",
    "kernelspec": {
      "display_name": "Python 3",
      "name": "python3"
    },
    "language_info": {
      "name": "python"
    },
    "widgets": {
      "application/vnd.jupyter.widget-state+json": {
        "e26b7718f4614307b0e8b3d39829f030": {
          "model_module": "@jupyter-widgets/controls",
          "model_name": "HBoxModel",
          "model_module_version": "1.5.0",
          "state": {
            "_dom_classes": [],
            "_model_module": "@jupyter-widgets/controls",
            "_model_module_version": "1.5.0",
            "_model_name": "HBoxModel",
            "_view_count": null,
            "_view_module": "@jupyter-widgets/controls",
            "_view_module_version": "1.5.0",
            "_view_name": "HBoxView",
            "box_style": "",
            "children": [
              "IPY_MODEL_58eabe673e8c45c1911e59348ec36a2e",
              "IPY_MODEL_4201cded25904f52ad3b1d10c4c03d2c",
              "IPY_MODEL_d007fe88acf24be4b71ea0ae15ba226b"
            ],
            "layout": "IPY_MODEL_a5f759f4bc914d71be7dbe46573f335a"
          }
        },
        "58eabe673e8c45c1911e59348ec36a2e": {
          "model_module": "@jupyter-widgets/controls",
          "model_name": "HTMLModel",
          "model_module_version": "1.5.0",
          "state": {
            "_dom_classes": [],
            "_model_module": "@jupyter-widgets/controls",
            "_model_module_version": "1.5.0",
            "_model_name": "HTMLModel",
            "_view_count": null,
            "_view_module": "@jupyter-widgets/controls",
            "_view_module_version": "1.5.0",
            "_view_name": "HTMLView",
            "description": "",
            "description_tooltip": null,
            "layout": "IPY_MODEL_3a55cefd595b43cda95ecbfa88068927",
            "placeholder": "​",
            "style": "IPY_MODEL_cb34ebc10e3644f9913c3516850e19bd",
            "value": "Downloading config.json: 100%"
          }
        },
        "4201cded25904f52ad3b1d10c4c03d2c": {
          "model_module": "@jupyter-widgets/controls",
          "model_name": "FloatProgressModel",
          "model_module_version": "1.5.0",
          "state": {
            "_dom_classes": [],
            "_model_module": "@jupyter-widgets/controls",
            "_model_module_version": "1.5.0",
            "_model_name": "FloatProgressModel",
            "_view_count": null,
            "_view_module": "@jupyter-widgets/controls",
            "_view_module_version": "1.5.0",
            "_view_name": "ProgressView",
            "bar_style": "success",
            "description": "",
            "description_tooltip": null,
            "layout": "IPY_MODEL_f7d2725fdb5542a39d15ad6671587edf",
            "max": 608,
            "min": 0,
            "orientation": "horizontal",
            "style": "IPY_MODEL_82a61de01e87443cb6751716dff47cd3",
            "value": 608
          }
        },
        "d007fe88acf24be4b71ea0ae15ba226b": {
          "model_module": "@jupyter-widgets/controls",
          "model_name": "HTMLModel",
          "model_module_version": "1.5.0",
          "state": {
            "_dom_classes": [],
            "_model_module": "@jupyter-widgets/controls",
            "_model_module_version": "1.5.0",
            "_model_name": "HTMLModel",
            "_view_count": null,
            "_view_module": "@jupyter-widgets/controls",
            "_view_module_version": "1.5.0",
            "_view_name": "HTMLView",
            "description": "",
            "description_tooltip": null,
            "layout": "IPY_MODEL_2376da76c64d4f98986db882356d9662",
            "placeholder": "​",
            "style": "IPY_MODEL_706e2525fb6e446da80fe55c0c39f078",
            "value": " 608/608 [00:00&lt;00:00, 15.4kB/s]"
          }
        },
        "a5f759f4bc914d71be7dbe46573f335a": {
          "model_module": "@jupyter-widgets/base",
          "model_name": "LayoutModel",
          "model_module_version": "1.2.0",
          "state": {
            "_model_module": "@jupyter-widgets/base",
            "_model_module_version": "1.2.0",
            "_model_name": "LayoutModel",
            "_view_count": null,
            "_view_module": "@jupyter-widgets/base",
            "_view_module_version": "1.2.0",
            "_view_name": "LayoutView",
            "align_content": null,
            "align_items": null,
            "align_self": null,
            "border": null,
            "bottom": null,
            "display": null,
            "flex": null,
            "flex_flow": null,
            "grid_area": null,
            "grid_auto_columns": null,
            "grid_auto_flow": null,
            "grid_auto_rows": null,
            "grid_column": null,
            "grid_gap": null,
            "grid_row": null,
            "grid_template_areas": null,
            "grid_template_columns": null,
            "grid_template_rows": null,
            "height": null,
            "justify_content": null,
            "justify_items": null,
            "left": null,
            "margin": null,
            "max_height": null,
            "max_width": null,
            "min_height": null,
            "min_width": null,
            "object_fit": null,
            "object_position": null,
            "order": null,
            "overflow": null,
            "overflow_x": null,
            "overflow_y": null,
            "padding": null,
            "right": null,
            "top": null,
            "visibility": null,
            "width": null
          }
        },
        "3a55cefd595b43cda95ecbfa88068927": {
          "model_module": "@jupyter-widgets/base",
          "model_name": "LayoutModel",
          "model_module_version": "1.2.0",
          "state": {
            "_model_module": "@jupyter-widgets/base",
            "_model_module_version": "1.2.0",
            "_model_name": "LayoutModel",
            "_view_count": null,
            "_view_module": "@jupyter-widgets/base",
            "_view_module_version": "1.2.0",
            "_view_name": "LayoutView",
            "align_content": null,
            "align_items": null,
            "align_self": null,
            "border": null,
            "bottom": null,
            "display": null,
            "flex": null,
            "flex_flow": null,
            "grid_area": null,
            "grid_auto_columns": null,
            "grid_auto_flow": null,
            "grid_auto_rows": null,
            "grid_column": null,
            "grid_gap": null,
            "grid_row": null,
            "grid_template_areas": null,
            "grid_template_columns": null,
            "grid_template_rows": null,
            "height": null,
            "justify_content": null,
            "justify_items": null,
            "left": null,
            "margin": null,
            "max_height": null,
            "max_width": null,
            "min_height": null,
            "min_width": null,
            "object_fit": null,
            "object_position": null,
            "order": null,
            "overflow": null,
            "overflow_x": null,
            "overflow_y": null,
            "padding": null,
            "right": null,
            "top": null,
            "visibility": null,
            "width": null
          }
        },
        "cb34ebc10e3644f9913c3516850e19bd": {
          "model_module": "@jupyter-widgets/controls",
          "model_name": "DescriptionStyleModel",
          "model_module_version": "1.5.0",
          "state": {
            "_model_module": "@jupyter-widgets/controls",
            "_model_module_version": "1.5.0",
            "_model_name": "DescriptionStyleModel",
            "_view_count": null,
            "_view_module": "@jupyter-widgets/base",
            "_view_module_version": "1.2.0",
            "_view_name": "StyleView",
            "description_width": ""
          }
        },
        "f7d2725fdb5542a39d15ad6671587edf": {
          "model_module": "@jupyter-widgets/base",
          "model_name": "LayoutModel",
          "model_module_version": "1.2.0",
          "state": {
            "_model_module": "@jupyter-widgets/base",
            "_model_module_version": "1.2.0",
            "_model_name": "LayoutModel",
            "_view_count": null,
            "_view_module": "@jupyter-widgets/base",
            "_view_module_version": "1.2.0",
            "_view_name": "LayoutView",
            "align_content": null,
            "align_items": null,
            "align_self": null,
            "border": null,
            "bottom": null,
            "display": null,
            "flex": null,
            "flex_flow": null,
            "grid_area": null,
            "grid_auto_columns": null,
            "grid_auto_flow": null,
            "grid_auto_rows": null,
            "grid_column": null,
            "grid_gap": null,
            "grid_row": null,
            "grid_template_areas": null,
            "grid_template_columns": null,
            "grid_template_rows": null,
            "height": null,
            "justify_content": null,
            "justify_items": null,
            "left": null,
            "margin": null,
            "max_height": null,
            "max_width": null,
            "min_height": null,
            "min_width": null,
            "object_fit": null,
            "object_position": null,
            "order": null,
            "overflow": null,
            "overflow_x": null,
            "overflow_y": null,
            "padding": null,
            "right": null,
            "top": null,
            "visibility": null,
            "width": null
          }
        },
        "82a61de01e87443cb6751716dff47cd3": {
          "model_module": "@jupyter-widgets/controls",
          "model_name": "ProgressStyleModel",
          "model_module_version": "1.5.0",
          "state": {
            "_model_module": "@jupyter-widgets/controls",
            "_model_module_version": "1.5.0",
            "_model_name": "ProgressStyleModel",
            "_view_count": null,
            "_view_module": "@jupyter-widgets/base",
            "_view_module_version": "1.2.0",
            "_view_name": "StyleView",
            "bar_color": null,
            "description_width": ""
          }
        },
        "2376da76c64d4f98986db882356d9662": {
          "model_module": "@jupyter-widgets/base",
          "model_name": "LayoutModel",
          "model_module_version": "1.2.0",
          "state": {
            "_model_module": "@jupyter-widgets/base",
            "_model_module_version": "1.2.0",
            "_model_name": "LayoutModel",
            "_view_count": null,
            "_view_module": "@jupyter-widgets/base",
            "_view_module_version": "1.2.0",
            "_view_name": "LayoutView",
            "align_content": null,
            "align_items": null,
            "align_self": null,
            "border": null,
            "bottom": null,
            "display": null,
            "flex": null,
            "flex_flow": null,
            "grid_area": null,
            "grid_auto_columns": null,
            "grid_auto_flow": null,
            "grid_auto_rows": null,
            "grid_column": null,
            "grid_gap": null,
            "grid_row": null,
            "grid_template_areas": null,
            "grid_template_columns": null,
            "grid_template_rows": null,
            "height": null,
            "justify_content": null,
            "justify_items": null,
            "left": null,
            "margin": null,
            "max_height": null,
            "max_width": null,
            "min_height": null,
            "min_width": null,
            "object_fit": null,
            "object_position": null,
            "order": null,
            "overflow": null,
            "overflow_x": null,
            "overflow_y": null,
            "padding": null,
            "right": null,
            "top": null,
            "visibility": null,
            "width": null
          }
        },
        "706e2525fb6e446da80fe55c0c39f078": {
          "model_module": "@jupyter-widgets/controls",
          "model_name": "DescriptionStyleModel",
          "model_module_version": "1.5.0",
          "state": {
            "_model_module": "@jupyter-widgets/controls",
            "_model_module_version": "1.5.0",
            "_model_name": "DescriptionStyleModel",
            "_view_count": null,
            "_view_module": "@jupyter-widgets/base",
            "_view_module_version": "1.2.0",
            "_view_name": "StyleView",
            "description_width": ""
          }
        },
        "f34866bf48304d4d836534f804504e64": {
          "model_module": "@jupyter-widgets/controls",
          "model_name": "HBoxModel",
          "model_module_version": "1.5.0",
          "state": {
            "_dom_classes": [],
            "_model_module": "@jupyter-widgets/controls",
            "_model_module_version": "1.5.0",
            "_model_name": "HBoxModel",
            "_view_count": null,
            "_view_module": "@jupyter-widgets/controls",
            "_view_module_version": "1.5.0",
            "_view_name": "HBoxView",
            "box_style": "",
            "children": [
              "IPY_MODEL_3f43b82a416d4acb9de19d377314e59f",
              "IPY_MODEL_8c7f76eea8a24bf6ae6e887d6bdcd472",
              "IPY_MODEL_83ed47b574bf4f3999649f4e5001b034"
            ],
            "layout": "IPY_MODEL_c56c4f509cfb4e199d9d7b84fe2b7797"
          }
        },
        "3f43b82a416d4acb9de19d377314e59f": {
          "model_module": "@jupyter-widgets/controls",
          "model_name": "HTMLModel",
          "model_module_version": "1.5.0",
          "state": {
            "_dom_classes": [],
            "_model_module": "@jupyter-widgets/controls",
            "_model_module_version": "1.5.0",
            "_model_name": "HTMLModel",
            "_view_count": null,
            "_view_module": "@jupyter-widgets/controls",
            "_view_module_version": "1.5.0",
            "_view_name": "HTMLView",
            "description": "",
            "description_tooltip": null,
            "layout": "IPY_MODEL_5434a62e08694808944c9cbd581d1f9c",
            "placeholder": "​",
            "style": "IPY_MODEL_e26321cb3deb4b56938521982abb4e6b",
            "value": "Downloading pytorch_model.bin: 100%"
          }
        },
        "8c7f76eea8a24bf6ae6e887d6bdcd472": {
          "model_module": "@jupyter-widgets/controls",
          "model_name": "FloatProgressModel",
          "model_module_version": "1.5.0",
          "state": {
            "_dom_classes": [],
            "_model_module": "@jupyter-widgets/controls",
            "_model_module_version": "1.5.0",
            "_model_name": "FloatProgressModel",
            "_view_count": null,
            "_view_module": "@jupyter-widgets/controls",
            "_view_module_version": "1.5.0",
            "_view_name": "ProgressView",
            "bar_style": "success",
            "description": "",
            "description_tooltip": null,
            "layout": "IPY_MODEL_98b2f526e05e421cace4fca790c8e497",
            "max": 551290714,
            "min": 0,
            "orientation": "horizontal",
            "style": "IPY_MODEL_8ce584a270df4382aa45af1e52559ce2",
            "value": 551290714
          }
        },
        "83ed47b574bf4f3999649f4e5001b034": {
          "model_module": "@jupyter-widgets/controls",
          "model_name": "HTMLModel",
          "model_module_version": "1.5.0",
          "state": {
            "_dom_classes": [],
            "_model_module": "@jupyter-widgets/controls",
            "_model_module_version": "1.5.0",
            "_model_name": "HTMLModel",
            "_view_count": null,
            "_view_module": "@jupyter-widgets/controls",
            "_view_module_version": "1.5.0",
            "_view_name": "HTMLView",
            "description": "",
            "description_tooltip": null,
            "layout": "IPY_MODEL_c6da29440b9a4ee4b813b27a4efe3ef8",
            "placeholder": "​",
            "style": "IPY_MODEL_b83fb78a10814ade9930bd33da8e3f78",
            "value": " 526M/526M [00:15&lt;00:00, 23.7MB/s]"
          }
        },
        "c56c4f509cfb4e199d9d7b84fe2b7797": {
          "model_module": "@jupyter-widgets/base",
          "model_name": "LayoutModel",
          "model_module_version": "1.2.0",
          "state": {
            "_model_module": "@jupyter-widgets/base",
            "_model_module_version": "1.2.0",
            "_model_name": "LayoutModel",
            "_view_count": null,
            "_view_module": "@jupyter-widgets/base",
            "_view_module_version": "1.2.0",
            "_view_name": "LayoutView",
            "align_content": null,
            "align_items": null,
            "align_self": null,
            "border": null,
            "bottom": null,
            "display": null,
            "flex": null,
            "flex_flow": null,
            "grid_area": null,
            "grid_auto_columns": null,
            "grid_auto_flow": null,
            "grid_auto_rows": null,
            "grid_column": null,
            "grid_gap": null,
            "grid_row": null,
            "grid_template_areas": null,
            "grid_template_columns": null,
            "grid_template_rows": null,
            "height": null,
            "justify_content": null,
            "justify_items": null,
            "left": null,
            "margin": null,
            "max_height": null,
            "max_width": null,
            "min_height": null,
            "min_width": null,
            "object_fit": null,
            "object_position": null,
            "order": null,
            "overflow": null,
            "overflow_x": null,
            "overflow_y": null,
            "padding": null,
            "right": null,
            "top": null,
            "visibility": null,
            "width": null
          }
        },
        "5434a62e08694808944c9cbd581d1f9c": {
          "model_module": "@jupyter-widgets/base",
          "model_name": "LayoutModel",
          "model_module_version": "1.2.0",
          "state": {
            "_model_module": "@jupyter-widgets/base",
            "_model_module_version": "1.2.0",
            "_model_name": "LayoutModel",
            "_view_count": null,
            "_view_module": "@jupyter-widgets/base",
            "_view_module_version": "1.2.0",
            "_view_name": "LayoutView",
            "align_content": null,
            "align_items": null,
            "align_self": null,
            "border": null,
            "bottom": null,
            "display": null,
            "flex": null,
            "flex_flow": null,
            "grid_area": null,
            "grid_auto_columns": null,
            "grid_auto_flow": null,
            "grid_auto_rows": null,
            "grid_column": null,
            "grid_gap": null,
            "grid_row": null,
            "grid_template_areas": null,
            "grid_template_columns": null,
            "grid_template_rows": null,
            "height": null,
            "justify_content": null,
            "justify_items": null,
            "left": null,
            "margin": null,
            "max_height": null,
            "max_width": null,
            "min_height": null,
            "min_width": null,
            "object_fit": null,
            "object_position": null,
            "order": null,
            "overflow": null,
            "overflow_x": null,
            "overflow_y": null,
            "padding": null,
            "right": null,
            "top": null,
            "visibility": null,
            "width": null
          }
        },
        "e26321cb3deb4b56938521982abb4e6b": {
          "model_module": "@jupyter-widgets/controls",
          "model_name": "DescriptionStyleModel",
          "model_module_version": "1.5.0",
          "state": {
            "_model_module": "@jupyter-widgets/controls",
            "_model_module_version": "1.5.0",
            "_model_name": "DescriptionStyleModel",
            "_view_count": null,
            "_view_module": "@jupyter-widgets/base",
            "_view_module_version": "1.2.0",
            "_view_name": "StyleView",
            "description_width": ""
          }
        },
        "98b2f526e05e421cace4fca790c8e497": {
          "model_module": "@jupyter-widgets/base",
          "model_name": "LayoutModel",
          "model_module_version": "1.2.0",
          "state": {
            "_model_module": "@jupyter-widgets/base",
            "_model_module_version": "1.2.0",
            "_model_name": "LayoutModel",
            "_view_count": null,
            "_view_module": "@jupyter-widgets/base",
            "_view_module_version": "1.2.0",
            "_view_name": "LayoutView",
            "align_content": null,
            "align_items": null,
            "align_self": null,
            "border": null,
            "bottom": null,
            "display": null,
            "flex": null,
            "flex_flow": null,
            "grid_area": null,
            "grid_auto_columns": null,
            "grid_auto_flow": null,
            "grid_auto_rows": null,
            "grid_column": null,
            "grid_gap": null,
            "grid_row": null,
            "grid_template_areas": null,
            "grid_template_columns": null,
            "grid_template_rows": null,
            "height": null,
            "justify_content": null,
            "justify_items": null,
            "left": null,
            "margin": null,
            "max_height": null,
            "max_width": null,
            "min_height": null,
            "min_width": null,
            "object_fit": null,
            "object_position": null,
            "order": null,
            "overflow": null,
            "overflow_x": null,
            "overflow_y": null,
            "padding": null,
            "right": null,
            "top": null,
            "visibility": null,
            "width": null
          }
        },
        "8ce584a270df4382aa45af1e52559ce2": {
          "model_module": "@jupyter-widgets/controls",
          "model_name": "ProgressStyleModel",
          "model_module_version": "1.5.0",
          "state": {
            "_model_module": "@jupyter-widgets/controls",
            "_model_module_version": "1.5.0",
            "_model_name": "ProgressStyleModel",
            "_view_count": null,
            "_view_module": "@jupyter-widgets/base",
            "_view_module_version": "1.2.0",
            "_view_name": "StyleView",
            "bar_color": null,
            "description_width": ""
          }
        },
        "c6da29440b9a4ee4b813b27a4efe3ef8": {
          "model_module": "@jupyter-widgets/base",
          "model_name": "LayoutModel",
          "model_module_version": "1.2.0",
          "state": {
            "_model_module": "@jupyter-widgets/base",
            "_model_module_version": "1.2.0",
            "_model_name": "LayoutModel",
            "_view_count": null,
            "_view_module": "@jupyter-widgets/base",
            "_view_module_version": "1.2.0",
            "_view_name": "LayoutView",
            "align_content": null,
            "align_items": null,
            "align_self": null,
            "border": null,
            "bottom": null,
            "display": null,
            "flex": null,
            "flex_flow": null,
            "grid_area": null,
            "grid_auto_columns": null,
            "grid_auto_flow": null,
            "grid_auto_rows": null,
            "grid_column": null,
            "grid_gap": null,
            "grid_row": null,
            "grid_template_areas": null,
            "grid_template_columns": null,
            "grid_template_rows": null,
            "height": null,
            "justify_content": null,
            "justify_items": null,
            "left": null,
            "margin": null,
            "max_height": null,
            "max_width": null,
            "min_height": null,
            "min_width": null,
            "object_fit": null,
            "object_position": null,
            "order": null,
            "overflow": null,
            "overflow_x": null,
            "overflow_y": null,
            "padding": null,
            "right": null,
            "top": null,
            "visibility": null,
            "width": null
          }
        },
        "b83fb78a10814ade9930bd33da8e3f78": {
          "model_module": "@jupyter-widgets/controls",
          "model_name": "DescriptionStyleModel",
          "model_module_version": "1.5.0",
          "state": {
            "_model_module": "@jupyter-widgets/controls",
            "_model_module_version": "1.5.0",
            "_model_name": "DescriptionStyleModel",
            "_view_count": null,
            "_view_module": "@jupyter-widgets/base",
            "_view_module_version": "1.2.0",
            "_view_name": "StyleView",
            "description_width": ""
          }
        },
        "b23b3f36947c43ebb9477c85ffe8dd4c": {
          "model_module": "@jupyter-widgets/controls",
          "model_name": "HBoxModel",
          "model_module_version": "1.5.0",
          "state": {
            "_dom_classes": [],
            "_model_module": "@jupyter-widgets/controls",
            "_model_module_version": "1.5.0",
            "_model_name": "HBoxModel",
            "_view_count": null,
            "_view_module": "@jupyter-widgets/controls",
            "_view_module_version": "1.5.0",
            "_view_name": "HBoxView",
            "box_style": "",
            "children": [
              "IPY_MODEL_efddc3ed079545b8af40f036d59ce491",
              "IPY_MODEL_ced71e974bd84746a966f7c0ae863aa4",
              "IPY_MODEL_0d06976545904c179aa16355b37d83e4"
            ],
            "layout": "IPY_MODEL_6209c211d4164081bdfef047ff3776be"
          }
        },
        "efddc3ed079545b8af40f036d59ce491": {
          "model_module": "@jupyter-widgets/controls",
          "model_name": "HTMLModel",
          "model_module_version": "1.5.0",
          "state": {
            "_dom_classes": [],
            "_model_module": "@jupyter-widgets/controls",
            "_model_module_version": "1.5.0",
            "_model_name": "HTMLModel",
            "_view_count": null,
            "_view_module": "@jupyter-widgets/controls",
            "_view_module_version": "1.5.0",
            "_view_name": "HTMLView",
            "description": "",
            "description_tooltip": null,
            "layout": "IPY_MODEL_28b527af0b6b47b0b6a6ff3968675fc4",
            "placeholder": "​",
            "style": "IPY_MODEL_0fc8264f7a694b8ab6c58fa913f099d3",
            "value": "Downloading vocab.json: 100%"
          }
        },
        "ced71e974bd84746a966f7c0ae863aa4": {
          "model_module": "@jupyter-widgets/controls",
          "model_name": "FloatProgressModel",
          "model_module_version": "1.5.0",
          "state": {
            "_dom_classes": [],
            "_model_module": "@jupyter-widgets/controls",
            "_model_module_version": "1.5.0",
            "_model_name": "FloatProgressModel",
            "_view_count": null,
            "_view_module": "@jupyter-widgets/controls",
            "_view_module_version": "1.5.0",
            "_view_name": "ProgressView",
            "bar_style": "success",
            "description": "",
            "description_tooltip": null,
            "layout": "IPY_MODEL_4d0b688296fb484281a670c4dbd016bd",
            "max": 1713123,
            "min": 0,
            "orientation": "horizontal",
            "style": "IPY_MODEL_c16ca9efa184486a9372c1c2d4d1c43a",
            "value": 1713123
          }
        },
        "0d06976545904c179aa16355b37d83e4": {
          "model_module": "@jupyter-widgets/controls",
          "model_name": "HTMLModel",
          "model_module_version": "1.5.0",
          "state": {
            "_dom_classes": [],
            "_model_module": "@jupyter-widgets/controls",
            "_model_module_version": "1.5.0",
            "_model_name": "HTMLModel",
            "_view_count": null,
            "_view_module": "@jupyter-widgets/controls",
            "_view_module_version": "1.5.0",
            "_view_name": "HTMLView",
            "description": "",
            "description_tooltip": null,
            "layout": "IPY_MODEL_11872dd8525143269d8cbe44ab3ba9e1",
            "placeholder": "​",
            "style": "IPY_MODEL_9f9da9a47e984dc39fcc10a4f3c0d72e",
            "value": " 1.63M/1.63M [00:01&lt;00:00, 1.05MB/s]"
          }
        },
        "6209c211d4164081bdfef047ff3776be": {
          "model_module": "@jupyter-widgets/base",
          "model_name": "LayoutModel",
          "model_module_version": "1.2.0",
          "state": {
            "_model_module": "@jupyter-widgets/base",
            "_model_module_version": "1.2.0",
            "_model_name": "LayoutModel",
            "_view_count": null,
            "_view_module": "@jupyter-widgets/base",
            "_view_module_version": "1.2.0",
            "_view_name": "LayoutView",
            "align_content": null,
            "align_items": null,
            "align_self": null,
            "border": null,
            "bottom": null,
            "display": null,
            "flex": null,
            "flex_flow": null,
            "grid_area": null,
            "grid_auto_columns": null,
            "grid_auto_flow": null,
            "grid_auto_rows": null,
            "grid_column": null,
            "grid_gap": null,
            "grid_row": null,
            "grid_template_areas": null,
            "grid_template_columns": null,
            "grid_template_rows": null,
            "height": null,
            "justify_content": null,
            "justify_items": null,
            "left": null,
            "margin": null,
            "max_height": null,
            "max_width": null,
            "min_height": null,
            "min_width": null,
            "object_fit": null,
            "object_position": null,
            "order": null,
            "overflow": null,
            "overflow_x": null,
            "overflow_y": null,
            "padding": null,
            "right": null,
            "top": null,
            "visibility": null,
            "width": null
          }
        },
        "28b527af0b6b47b0b6a6ff3968675fc4": {
          "model_module": "@jupyter-widgets/base",
          "model_name": "LayoutModel",
          "model_module_version": "1.2.0",
          "state": {
            "_model_module": "@jupyter-widgets/base",
            "_model_module_version": "1.2.0",
            "_model_name": "LayoutModel",
            "_view_count": null,
            "_view_module": "@jupyter-widgets/base",
            "_view_module_version": "1.2.0",
            "_view_name": "LayoutView",
            "align_content": null,
            "align_items": null,
            "align_self": null,
            "border": null,
            "bottom": null,
            "display": null,
            "flex": null,
            "flex_flow": null,
            "grid_area": null,
            "grid_auto_columns": null,
            "grid_auto_flow": null,
            "grid_auto_rows": null,
            "grid_column": null,
            "grid_gap": null,
            "grid_row": null,
            "grid_template_areas": null,
            "grid_template_columns": null,
            "grid_template_rows": null,
            "height": null,
            "justify_content": null,
            "justify_items": null,
            "left": null,
            "margin": null,
            "max_height": null,
            "max_width": null,
            "min_height": null,
            "min_width": null,
            "object_fit": null,
            "object_position": null,
            "order": null,
            "overflow": null,
            "overflow_x": null,
            "overflow_y": null,
            "padding": null,
            "right": null,
            "top": null,
            "visibility": null,
            "width": null
          }
        },
        "0fc8264f7a694b8ab6c58fa913f099d3": {
          "model_module": "@jupyter-widgets/controls",
          "model_name": "DescriptionStyleModel",
          "model_module_version": "1.5.0",
          "state": {
            "_model_module": "@jupyter-widgets/controls",
            "_model_module_version": "1.5.0",
            "_model_name": "DescriptionStyleModel",
            "_view_count": null,
            "_view_module": "@jupyter-widgets/base",
            "_view_module_version": "1.2.0",
            "_view_name": "StyleView",
            "description_width": ""
          }
        },
        "4d0b688296fb484281a670c4dbd016bd": {
          "model_module": "@jupyter-widgets/base",
          "model_name": "LayoutModel",
          "model_module_version": "1.2.0",
          "state": {
            "_model_module": "@jupyter-widgets/base",
            "_model_module_version": "1.2.0",
            "_model_name": "LayoutModel",
            "_view_count": null,
            "_view_module": "@jupyter-widgets/base",
            "_view_module_version": "1.2.0",
            "_view_name": "LayoutView",
            "align_content": null,
            "align_items": null,
            "align_self": null,
            "border": null,
            "bottom": null,
            "display": null,
            "flex": null,
            "flex_flow": null,
            "grid_area": null,
            "grid_auto_columns": null,
            "grid_auto_flow": null,
            "grid_auto_rows": null,
            "grid_column": null,
            "grid_gap": null,
            "grid_row": null,
            "grid_template_areas": null,
            "grid_template_columns": null,
            "grid_template_rows": null,
            "height": null,
            "justify_content": null,
            "justify_items": null,
            "left": null,
            "margin": null,
            "max_height": null,
            "max_width": null,
            "min_height": null,
            "min_width": null,
            "object_fit": null,
            "object_position": null,
            "order": null,
            "overflow": null,
            "overflow_x": null,
            "overflow_y": null,
            "padding": null,
            "right": null,
            "top": null,
            "visibility": null,
            "width": null
          }
        },
        "c16ca9efa184486a9372c1c2d4d1c43a": {
          "model_module": "@jupyter-widgets/controls",
          "model_name": "ProgressStyleModel",
          "model_module_version": "1.5.0",
          "state": {
            "_model_module": "@jupyter-widgets/controls",
            "_model_module_version": "1.5.0",
            "_model_name": "ProgressStyleModel",
            "_view_count": null,
            "_view_module": "@jupyter-widgets/base",
            "_view_module_version": "1.2.0",
            "_view_name": "StyleView",
            "bar_color": null,
            "description_width": ""
          }
        },
        "11872dd8525143269d8cbe44ab3ba9e1": {
          "model_module": "@jupyter-widgets/base",
          "model_name": "LayoutModel",
          "model_module_version": "1.2.0",
          "state": {
            "_model_module": "@jupyter-widgets/base",
            "_model_module_version": "1.2.0",
            "_model_name": "LayoutModel",
            "_view_count": null,
            "_view_module": "@jupyter-widgets/base",
            "_view_module_version": "1.2.0",
            "_view_name": "LayoutView",
            "align_content": null,
            "align_items": null,
            "align_self": null,
            "border": null,
            "bottom": null,
            "display": null,
            "flex": null,
            "flex_flow": null,
            "grid_area": null,
            "grid_auto_columns": null,
            "grid_auto_flow": null,
            "grid_auto_rows": null,
            "grid_column": null,
            "grid_gap": null,
            "grid_row": null,
            "grid_template_areas": null,
            "grid_template_columns": null,
            "grid_template_rows": null,
            "height": null,
            "justify_content": null,
            "justify_items": null,
            "left": null,
            "margin": null,
            "max_height": null,
            "max_width": null,
            "min_height": null,
            "min_width": null,
            "object_fit": null,
            "object_position": null,
            "order": null,
            "overflow": null,
            "overflow_x": null,
            "overflow_y": null,
            "padding": null,
            "right": null,
            "top": null,
            "visibility": null,
            "width": null
          }
        },
        "9f9da9a47e984dc39fcc10a4f3c0d72e": {
          "model_module": "@jupyter-widgets/controls",
          "model_name": "DescriptionStyleModel",
          "model_module_version": "1.5.0",
          "state": {
            "_model_module": "@jupyter-widgets/controls",
            "_model_module_version": "1.5.0",
            "_model_name": "DescriptionStyleModel",
            "_view_count": null,
            "_view_module": "@jupyter-widgets/base",
            "_view_module_version": "1.2.0",
            "_view_name": "StyleView",
            "description_width": ""
          }
        },
        "db4a32e973f741258d3729c78b97c600": {
          "model_module": "@jupyter-widgets/controls",
          "model_name": "HBoxModel",
          "model_module_version": "1.5.0",
          "state": {
            "_dom_classes": [],
            "_model_module": "@jupyter-widgets/controls",
            "_model_module_version": "1.5.0",
            "_model_name": "HBoxModel",
            "_view_count": null,
            "_view_module": "@jupyter-widgets/controls",
            "_view_module_version": "1.5.0",
            "_view_name": "HBoxView",
            "box_style": "",
            "children": [
              "IPY_MODEL_d844cc6240a144eb8e1559057896a924",
              "IPY_MODEL_8de95afcfeaf40c4b9d61f42e2dbc9e3",
              "IPY_MODEL_d36f729b3c014ffe9ef0ce26920dae8d"
            ],
            "layout": "IPY_MODEL_df501799a6a74718979e0640d34ac43b"
          }
        },
        "d844cc6240a144eb8e1559057896a924": {
          "model_module": "@jupyter-widgets/controls",
          "model_name": "HTMLModel",
          "model_module_version": "1.5.0",
          "state": {
            "_dom_classes": [],
            "_model_module": "@jupyter-widgets/controls",
            "_model_module_version": "1.5.0",
            "_model_name": "HTMLModel",
            "_view_count": null,
            "_view_module": "@jupyter-widgets/controls",
            "_view_module_version": "1.5.0",
            "_view_name": "HTMLView",
            "description": "",
            "description_tooltip": null,
            "layout": "IPY_MODEL_2061bd22050843d4814ccf4aeab3375b",
            "placeholder": "​",
            "style": "IPY_MODEL_7c34c448e3fa432db93950df3314b605",
            "value": "Downloading merges.txt: 100%"
          }
        },
        "8de95afcfeaf40c4b9d61f42e2dbc9e3": {
          "model_module": "@jupyter-widgets/controls",
          "model_name": "FloatProgressModel",
          "model_module_version": "1.5.0",
          "state": {
            "_dom_classes": [],
            "_model_module": "@jupyter-widgets/controls",
            "_model_module_version": "1.5.0",
            "_model_name": "FloatProgressModel",
            "_view_count": null,
            "_view_module": "@jupyter-widgets/controls",
            "_view_module_version": "1.5.0",
            "_view_name": "ProgressView",
            "bar_style": "success",
            "description": "",
            "description_tooltip": null,
            "layout": "IPY_MODEL_733d854cc4cd4efb9c102c2b8058a0c4",
            "max": 1270925,
            "min": 0,
            "orientation": "horizontal",
            "style": "IPY_MODEL_d3bdeed75c2642a284407ea818474175",
            "value": 1270925
          }
        },
        "d36f729b3c014ffe9ef0ce26920dae8d": {
          "model_module": "@jupyter-widgets/controls",
          "model_name": "HTMLModel",
          "model_module_version": "1.5.0",
          "state": {
            "_dom_classes": [],
            "_model_module": "@jupyter-widgets/controls",
            "_model_module_version": "1.5.0",
            "_model_name": "HTMLModel",
            "_view_count": null,
            "_view_module": "@jupyter-widgets/controls",
            "_view_module_version": "1.5.0",
            "_view_name": "HTMLView",
            "description": "",
            "description_tooltip": null,
            "layout": "IPY_MODEL_55270b2c4e914ff4ac764dac5df5c720",
            "placeholder": "​",
            "style": "IPY_MODEL_c7e482a609b84529ab194e3c7e6f41f0",
            "value": " 1.21M/1.21M [00:01&lt;00:00, 969kB/s]"
          }
        },
        "df501799a6a74718979e0640d34ac43b": {
          "model_module": "@jupyter-widgets/base",
          "model_name": "LayoutModel",
          "model_module_version": "1.2.0",
          "state": {
            "_model_module": "@jupyter-widgets/base",
            "_model_module_version": "1.2.0",
            "_model_name": "LayoutModel",
            "_view_count": null,
            "_view_module": "@jupyter-widgets/base",
            "_view_module_version": "1.2.0",
            "_view_name": "LayoutView",
            "align_content": null,
            "align_items": null,
            "align_self": null,
            "border": null,
            "bottom": null,
            "display": null,
            "flex": null,
            "flex_flow": null,
            "grid_area": null,
            "grid_auto_columns": null,
            "grid_auto_flow": null,
            "grid_auto_rows": null,
            "grid_column": null,
            "grid_gap": null,
            "grid_row": null,
            "grid_template_areas": null,
            "grid_template_columns": null,
            "grid_template_rows": null,
            "height": null,
            "justify_content": null,
            "justify_items": null,
            "left": null,
            "margin": null,
            "max_height": null,
            "max_width": null,
            "min_height": null,
            "min_width": null,
            "object_fit": null,
            "object_position": null,
            "order": null,
            "overflow": null,
            "overflow_x": null,
            "overflow_y": null,
            "padding": null,
            "right": null,
            "top": null,
            "visibility": null,
            "width": null
          }
        },
        "2061bd22050843d4814ccf4aeab3375b": {
          "model_module": "@jupyter-widgets/base",
          "model_name": "LayoutModel",
          "model_module_version": "1.2.0",
          "state": {
            "_model_module": "@jupyter-widgets/base",
            "_model_module_version": "1.2.0",
            "_model_name": "LayoutModel",
            "_view_count": null,
            "_view_module": "@jupyter-widgets/base",
            "_view_module_version": "1.2.0",
            "_view_name": "LayoutView",
            "align_content": null,
            "align_items": null,
            "align_self": null,
            "border": null,
            "bottom": null,
            "display": null,
            "flex": null,
            "flex_flow": null,
            "grid_area": null,
            "grid_auto_columns": null,
            "grid_auto_flow": null,
            "grid_auto_rows": null,
            "grid_column": null,
            "grid_gap": null,
            "grid_row": null,
            "grid_template_areas": null,
            "grid_template_columns": null,
            "grid_template_rows": null,
            "height": null,
            "justify_content": null,
            "justify_items": null,
            "left": null,
            "margin": null,
            "max_height": null,
            "max_width": null,
            "min_height": null,
            "min_width": null,
            "object_fit": null,
            "object_position": null,
            "order": null,
            "overflow": null,
            "overflow_x": null,
            "overflow_y": null,
            "padding": null,
            "right": null,
            "top": null,
            "visibility": null,
            "width": null
          }
        },
        "7c34c448e3fa432db93950df3314b605": {
          "model_module": "@jupyter-widgets/controls",
          "model_name": "DescriptionStyleModel",
          "model_module_version": "1.5.0",
          "state": {
            "_model_module": "@jupyter-widgets/controls",
            "_model_module_version": "1.5.0",
            "_model_name": "DescriptionStyleModel",
            "_view_count": null,
            "_view_module": "@jupyter-widgets/base",
            "_view_module_version": "1.2.0",
            "_view_name": "StyleView",
            "description_width": ""
          }
        },
        "733d854cc4cd4efb9c102c2b8058a0c4": {
          "model_module": "@jupyter-widgets/base",
          "model_name": "LayoutModel",
          "model_module_version": "1.2.0",
          "state": {
            "_model_module": "@jupyter-widgets/base",
            "_model_module_version": "1.2.0",
            "_model_name": "LayoutModel",
            "_view_count": null,
            "_view_module": "@jupyter-widgets/base",
            "_view_module_version": "1.2.0",
            "_view_name": "LayoutView",
            "align_content": null,
            "align_items": null,
            "align_self": null,
            "border": null,
            "bottom": null,
            "display": null,
            "flex": null,
            "flex_flow": null,
            "grid_area": null,
            "grid_auto_columns": null,
            "grid_auto_flow": null,
            "grid_auto_rows": null,
            "grid_column": null,
            "grid_gap": null,
            "grid_row": null,
            "grid_template_areas": null,
            "grid_template_columns": null,
            "grid_template_rows": null,
            "height": null,
            "justify_content": null,
            "justify_items": null,
            "left": null,
            "margin": null,
            "max_height": null,
            "max_width": null,
            "min_height": null,
            "min_width": null,
            "object_fit": null,
            "object_position": null,
            "order": null,
            "overflow": null,
            "overflow_x": null,
            "overflow_y": null,
            "padding": null,
            "right": null,
            "top": null,
            "visibility": null,
            "width": null
          }
        },
        "d3bdeed75c2642a284407ea818474175": {
          "model_module": "@jupyter-widgets/controls",
          "model_name": "ProgressStyleModel",
          "model_module_version": "1.5.0",
          "state": {
            "_model_module": "@jupyter-widgets/controls",
            "_model_module_version": "1.5.0",
            "_model_name": "ProgressStyleModel",
            "_view_count": null,
            "_view_module": "@jupyter-widgets/base",
            "_view_module_version": "1.2.0",
            "_view_name": "StyleView",
            "bar_color": null,
            "description_width": ""
          }
        },
        "55270b2c4e914ff4ac764dac5df5c720": {
          "model_module": "@jupyter-widgets/base",
          "model_name": "LayoutModel",
          "model_module_version": "1.2.0",
          "state": {
            "_model_module": "@jupyter-widgets/base",
            "_model_module_version": "1.2.0",
            "_model_name": "LayoutModel",
            "_view_count": null,
            "_view_module": "@jupyter-widgets/base",
            "_view_module_version": "1.2.0",
            "_view_name": "LayoutView",
            "align_content": null,
            "align_items": null,
            "align_self": null,
            "border": null,
            "bottom": null,
            "display": null,
            "flex": null,
            "flex_flow": null,
            "grid_area": null,
            "grid_auto_columns": null,
            "grid_auto_flow": null,
            "grid_auto_rows": null,
            "grid_column": null,
            "grid_gap": null,
            "grid_row": null,
            "grid_template_areas": null,
            "grid_template_columns": null,
            "grid_template_rows": null,
            "height": null,
            "justify_content": null,
            "justify_items": null,
            "left": null,
            "margin": null,
            "max_height": null,
            "max_width": null,
            "min_height": null,
            "min_width": null,
            "object_fit": null,
            "object_position": null,
            "order": null,
            "overflow": null,
            "overflow_x": null,
            "overflow_y": null,
            "padding": null,
            "right": null,
            "top": null,
            "visibility": null,
            "width": null
          }
        },
        "c7e482a609b84529ab194e3c7e6f41f0": {
          "model_module": "@jupyter-widgets/controls",
          "model_name": "DescriptionStyleModel",
          "model_module_version": "1.5.0",
          "state": {
            "_model_module": "@jupyter-widgets/controls",
            "_model_module_version": "1.5.0",
            "_model_name": "DescriptionStyleModel",
            "_view_count": null,
            "_view_module": "@jupyter-widgets/base",
            "_view_module_version": "1.2.0",
            "_view_name": "StyleView",
            "description_width": ""
          }
        },
        "754f5680d2cc4bf5a86b860b5950a8bb": {
          "model_module": "@jupyter-widgets/controls",
          "model_name": "HBoxModel",
          "model_module_version": "1.5.0",
          "state": {
            "_dom_classes": [],
            "_model_module": "@jupyter-widgets/controls",
            "_model_module_version": "1.5.0",
            "_model_name": "HBoxModel",
            "_view_count": null,
            "_view_module": "@jupyter-widgets/controls",
            "_view_module_version": "1.5.0",
            "_view_name": "HBoxView",
            "box_style": "",
            "children": [
              "IPY_MODEL_5ced0b440aad44ebaf86c34c7610805c",
              "IPY_MODEL_1ae730fafed0426fbac54816066a1eb7",
              "IPY_MODEL_2312b148c0e24fb4864f70898224e03f"
            ],
            "layout": "IPY_MODEL_88b520f1317c4297979f8c33a7943c8a"
          }
        },
        "5ced0b440aad44ebaf86c34c7610805c": {
          "model_module": "@jupyter-widgets/controls",
          "model_name": "HTMLModel",
          "model_module_version": "1.5.0",
          "state": {
            "_dom_classes": [],
            "_model_module": "@jupyter-widgets/controls",
            "_model_module_version": "1.5.0",
            "_model_name": "HTMLModel",
            "_view_count": null,
            "_view_module": "@jupyter-widgets/controls",
            "_view_module_version": "1.5.0",
            "_view_name": "HTMLView",
            "description": "",
            "description_tooltip": null,
            "layout": "IPY_MODEL_a791584c73fe44df992fcb5fb9555841",
            "placeholder": "​",
            "style": "IPY_MODEL_faf938742dcb4422bf71188f08a9aa41",
            "value": "Downloading data files: 100%"
          }
        },
        "1ae730fafed0426fbac54816066a1eb7": {
          "model_module": "@jupyter-widgets/controls",
          "model_name": "FloatProgressModel",
          "model_module_version": "1.5.0",
          "state": {
            "_dom_classes": [],
            "_model_module": "@jupyter-widgets/controls",
            "_model_module_version": "1.5.0",
            "_model_name": "FloatProgressModel",
            "_view_count": null,
            "_view_module": "@jupyter-widgets/controls",
            "_view_module_version": "1.5.0",
            "_view_name": "ProgressView",
            "bar_style": "success",
            "description": "",
            "description_tooltip": null,
            "layout": "IPY_MODEL_ea4751deb1614f61988ca26e3d0d607f",
            "max": 2,
            "min": 0,
            "orientation": "horizontal",
            "style": "IPY_MODEL_05e9566eefca4e9bbfe3fbf795158b25",
            "value": 2
          }
        },
        "2312b148c0e24fb4864f70898224e03f": {
          "model_module": "@jupyter-widgets/controls",
          "model_name": "HTMLModel",
          "model_module_version": "1.5.0",
          "state": {
            "_dom_classes": [],
            "_model_module": "@jupyter-widgets/controls",
            "_model_module_version": "1.5.0",
            "_model_name": "HTMLModel",
            "_view_count": null,
            "_view_module": "@jupyter-widgets/controls",
            "_view_module_version": "1.5.0",
            "_view_name": "HTMLView",
            "description": "",
            "description_tooltip": null,
            "layout": "IPY_MODEL_6f6ffb486cdf4f3d9a993362ad2144a4",
            "placeholder": "​",
            "style": "IPY_MODEL_48b24c2244c847cc91e50f6b94062397",
            "value": " 2/2 [00:00&lt;00:00, 76.80it/s]"
          }
        },
        "88b520f1317c4297979f8c33a7943c8a": {
          "model_module": "@jupyter-widgets/base",
          "model_name": "LayoutModel",
          "model_module_version": "1.2.0",
          "state": {
            "_model_module": "@jupyter-widgets/base",
            "_model_module_version": "1.2.0",
            "_model_name": "LayoutModel",
            "_view_count": null,
            "_view_module": "@jupyter-widgets/base",
            "_view_module_version": "1.2.0",
            "_view_name": "LayoutView",
            "align_content": null,
            "align_items": null,
            "align_self": null,
            "border": null,
            "bottom": null,
            "display": null,
            "flex": null,
            "flex_flow": null,
            "grid_area": null,
            "grid_auto_columns": null,
            "grid_auto_flow": null,
            "grid_auto_rows": null,
            "grid_column": null,
            "grid_gap": null,
            "grid_row": null,
            "grid_template_areas": null,
            "grid_template_columns": null,
            "grid_template_rows": null,
            "height": null,
            "justify_content": null,
            "justify_items": null,
            "left": null,
            "margin": null,
            "max_height": null,
            "max_width": null,
            "min_height": null,
            "min_width": null,
            "object_fit": null,
            "object_position": null,
            "order": null,
            "overflow": null,
            "overflow_x": null,
            "overflow_y": null,
            "padding": null,
            "right": null,
            "top": null,
            "visibility": null,
            "width": null
          }
        },
        "a791584c73fe44df992fcb5fb9555841": {
          "model_module": "@jupyter-widgets/base",
          "model_name": "LayoutModel",
          "model_module_version": "1.2.0",
          "state": {
            "_model_module": "@jupyter-widgets/base",
            "_model_module_version": "1.2.0",
            "_model_name": "LayoutModel",
            "_view_count": null,
            "_view_module": "@jupyter-widgets/base",
            "_view_module_version": "1.2.0",
            "_view_name": "LayoutView",
            "align_content": null,
            "align_items": null,
            "align_self": null,
            "border": null,
            "bottom": null,
            "display": null,
            "flex": null,
            "flex_flow": null,
            "grid_area": null,
            "grid_auto_columns": null,
            "grid_auto_flow": null,
            "grid_auto_rows": null,
            "grid_column": null,
            "grid_gap": null,
            "grid_row": null,
            "grid_template_areas": null,
            "grid_template_columns": null,
            "grid_template_rows": null,
            "height": null,
            "justify_content": null,
            "justify_items": null,
            "left": null,
            "margin": null,
            "max_height": null,
            "max_width": null,
            "min_height": null,
            "min_width": null,
            "object_fit": null,
            "object_position": null,
            "order": null,
            "overflow": null,
            "overflow_x": null,
            "overflow_y": null,
            "padding": null,
            "right": null,
            "top": null,
            "visibility": null,
            "width": null
          }
        },
        "faf938742dcb4422bf71188f08a9aa41": {
          "model_module": "@jupyter-widgets/controls",
          "model_name": "DescriptionStyleModel",
          "model_module_version": "1.5.0",
          "state": {
            "_model_module": "@jupyter-widgets/controls",
            "_model_module_version": "1.5.0",
            "_model_name": "DescriptionStyleModel",
            "_view_count": null,
            "_view_module": "@jupyter-widgets/base",
            "_view_module_version": "1.2.0",
            "_view_name": "StyleView",
            "description_width": ""
          }
        },
        "ea4751deb1614f61988ca26e3d0d607f": {
          "model_module": "@jupyter-widgets/base",
          "model_name": "LayoutModel",
          "model_module_version": "1.2.0",
          "state": {
            "_model_module": "@jupyter-widgets/base",
            "_model_module_version": "1.2.0",
            "_model_name": "LayoutModel",
            "_view_count": null,
            "_view_module": "@jupyter-widgets/base",
            "_view_module_version": "1.2.0",
            "_view_name": "LayoutView",
            "align_content": null,
            "align_items": null,
            "align_self": null,
            "border": null,
            "bottom": null,
            "display": null,
            "flex": null,
            "flex_flow": null,
            "grid_area": null,
            "grid_auto_columns": null,
            "grid_auto_flow": null,
            "grid_auto_rows": null,
            "grid_column": null,
            "grid_gap": null,
            "grid_row": null,
            "grid_template_areas": null,
            "grid_template_columns": null,
            "grid_template_rows": null,
            "height": null,
            "justify_content": null,
            "justify_items": null,
            "left": null,
            "margin": null,
            "max_height": null,
            "max_width": null,
            "min_height": null,
            "min_width": null,
            "object_fit": null,
            "object_position": null,
            "order": null,
            "overflow": null,
            "overflow_x": null,
            "overflow_y": null,
            "padding": null,
            "right": null,
            "top": null,
            "visibility": null,
            "width": null
          }
        },
        "05e9566eefca4e9bbfe3fbf795158b25": {
          "model_module": "@jupyter-widgets/controls",
          "model_name": "ProgressStyleModel",
          "model_module_version": "1.5.0",
          "state": {
            "_model_module": "@jupyter-widgets/controls",
            "_model_module_version": "1.5.0",
            "_model_name": "ProgressStyleModel",
            "_view_count": null,
            "_view_module": "@jupyter-widgets/base",
            "_view_module_version": "1.2.0",
            "_view_name": "StyleView",
            "bar_color": null,
            "description_width": ""
          }
        },
        "6f6ffb486cdf4f3d9a993362ad2144a4": {
          "model_module": "@jupyter-widgets/base",
          "model_name": "LayoutModel",
          "model_module_version": "1.2.0",
          "state": {
            "_model_module": "@jupyter-widgets/base",
            "_model_module_version": "1.2.0",
            "_model_name": "LayoutModel",
            "_view_count": null,
            "_view_module": "@jupyter-widgets/base",
            "_view_module_version": "1.2.0",
            "_view_name": "LayoutView",
            "align_content": null,
            "align_items": null,
            "align_self": null,
            "border": null,
            "bottom": null,
            "display": null,
            "flex": null,
            "flex_flow": null,
            "grid_area": null,
            "grid_auto_columns": null,
            "grid_auto_flow": null,
            "grid_auto_rows": null,
            "grid_column": null,
            "grid_gap": null,
            "grid_row": null,
            "grid_template_areas": null,
            "grid_template_columns": null,
            "grid_template_rows": null,
            "height": null,
            "justify_content": null,
            "justify_items": null,
            "left": null,
            "margin": null,
            "max_height": null,
            "max_width": null,
            "min_height": null,
            "min_width": null,
            "object_fit": null,
            "object_position": null,
            "order": null,
            "overflow": null,
            "overflow_x": null,
            "overflow_y": null,
            "padding": null,
            "right": null,
            "top": null,
            "visibility": null,
            "width": null
          }
        },
        "48b24c2244c847cc91e50f6b94062397": {
          "model_module": "@jupyter-widgets/controls",
          "model_name": "DescriptionStyleModel",
          "model_module_version": "1.5.0",
          "state": {
            "_model_module": "@jupyter-widgets/controls",
            "_model_module_version": "1.5.0",
            "_model_name": "DescriptionStyleModel",
            "_view_count": null,
            "_view_module": "@jupyter-widgets/base",
            "_view_module_version": "1.2.0",
            "_view_name": "StyleView",
            "description_width": ""
          }
        },
        "a9a4c1a2f4bb48168a7a2afb6408247c": {
          "model_module": "@jupyter-widgets/controls",
          "model_name": "HBoxModel",
          "model_module_version": "1.5.0",
          "state": {
            "_dom_classes": [],
            "_model_module": "@jupyter-widgets/controls",
            "_model_module_version": "1.5.0",
            "_model_name": "HBoxModel",
            "_view_count": null,
            "_view_module": "@jupyter-widgets/controls",
            "_view_module_version": "1.5.0",
            "_view_name": "HBoxView",
            "box_style": "",
            "children": [
              "IPY_MODEL_95c92bbcbda7433db834e48b6a50a8c1",
              "IPY_MODEL_d4c2e434ebe0461d94f22ea8873c1865",
              "IPY_MODEL_dcc0b524012b48afb3d1f0d625c79ec3"
            ],
            "layout": "IPY_MODEL_933d0cdd3fb64294b8d1dcee98988437"
          }
        },
        "95c92bbcbda7433db834e48b6a50a8c1": {
          "model_module": "@jupyter-widgets/controls",
          "model_name": "HTMLModel",
          "model_module_version": "1.5.0",
          "state": {
            "_dom_classes": [],
            "_model_module": "@jupyter-widgets/controls",
            "_model_module_version": "1.5.0",
            "_model_name": "HTMLModel",
            "_view_count": null,
            "_view_module": "@jupyter-widgets/controls",
            "_view_module_version": "1.5.0",
            "_view_name": "HTMLView",
            "description": "",
            "description_tooltip": null,
            "layout": "IPY_MODEL_42e6f4ee2170484bb3b627a2b98d73ef",
            "placeholder": "​",
            "style": "IPY_MODEL_d4f7802fbe87481bb830f4daa47324cd",
            "value": "Extracting data files: 100%"
          }
        },
        "d4c2e434ebe0461d94f22ea8873c1865": {
          "model_module": "@jupyter-widgets/controls",
          "model_name": "FloatProgressModel",
          "model_module_version": "1.5.0",
          "state": {
            "_dom_classes": [],
            "_model_module": "@jupyter-widgets/controls",
            "_model_module_version": "1.5.0",
            "_model_name": "FloatProgressModel",
            "_view_count": null,
            "_view_module": "@jupyter-widgets/controls",
            "_view_module_version": "1.5.0",
            "_view_name": "ProgressView",
            "bar_style": "success",
            "description": "",
            "description_tooltip": null,
            "layout": "IPY_MODEL_23e0d802b43d4091a62c870daca9e0c4",
            "max": 2,
            "min": 0,
            "orientation": "horizontal",
            "style": "IPY_MODEL_5f0779fc67b24843a054ebf067204898",
            "value": 2
          }
        },
        "dcc0b524012b48afb3d1f0d625c79ec3": {
          "model_module": "@jupyter-widgets/controls",
          "model_name": "HTMLModel",
          "model_module_version": "1.5.0",
          "state": {
            "_dom_classes": [],
            "_model_module": "@jupyter-widgets/controls",
            "_model_module_version": "1.5.0",
            "_model_name": "HTMLModel",
            "_view_count": null,
            "_view_module": "@jupyter-widgets/controls",
            "_view_module_version": "1.5.0",
            "_view_name": "HTMLView",
            "description": "",
            "description_tooltip": null,
            "layout": "IPY_MODEL_cde9fc6c5fbf4ea0ad282c36368cd3ca",
            "placeholder": "​",
            "style": "IPY_MODEL_2fc1f8f548c842c19e1f83019405a05e",
            "value": " 2/2 [00:00&lt;00:00, 39.27it/s]"
          }
        },
        "933d0cdd3fb64294b8d1dcee98988437": {
          "model_module": "@jupyter-widgets/base",
          "model_name": "LayoutModel",
          "model_module_version": "1.2.0",
          "state": {
            "_model_module": "@jupyter-widgets/base",
            "_model_module_version": "1.2.0",
            "_model_name": "LayoutModel",
            "_view_count": null,
            "_view_module": "@jupyter-widgets/base",
            "_view_module_version": "1.2.0",
            "_view_name": "LayoutView",
            "align_content": null,
            "align_items": null,
            "align_self": null,
            "border": null,
            "bottom": null,
            "display": null,
            "flex": null,
            "flex_flow": null,
            "grid_area": null,
            "grid_auto_columns": null,
            "grid_auto_flow": null,
            "grid_auto_rows": null,
            "grid_column": null,
            "grid_gap": null,
            "grid_row": null,
            "grid_template_areas": null,
            "grid_template_columns": null,
            "grid_template_rows": null,
            "height": null,
            "justify_content": null,
            "justify_items": null,
            "left": null,
            "margin": null,
            "max_height": null,
            "max_width": null,
            "min_height": null,
            "min_width": null,
            "object_fit": null,
            "object_position": null,
            "order": null,
            "overflow": null,
            "overflow_x": null,
            "overflow_y": null,
            "padding": null,
            "right": null,
            "top": null,
            "visibility": null,
            "width": null
          }
        },
        "42e6f4ee2170484bb3b627a2b98d73ef": {
          "model_module": "@jupyter-widgets/base",
          "model_name": "LayoutModel",
          "model_module_version": "1.2.0",
          "state": {
            "_model_module": "@jupyter-widgets/base",
            "_model_module_version": "1.2.0",
            "_model_name": "LayoutModel",
            "_view_count": null,
            "_view_module": "@jupyter-widgets/base",
            "_view_module_version": "1.2.0",
            "_view_name": "LayoutView",
            "align_content": null,
            "align_items": null,
            "align_self": null,
            "border": null,
            "bottom": null,
            "display": null,
            "flex": null,
            "flex_flow": null,
            "grid_area": null,
            "grid_auto_columns": null,
            "grid_auto_flow": null,
            "grid_auto_rows": null,
            "grid_column": null,
            "grid_gap": null,
            "grid_row": null,
            "grid_template_areas": null,
            "grid_template_columns": null,
            "grid_template_rows": null,
            "height": null,
            "justify_content": null,
            "justify_items": null,
            "left": null,
            "margin": null,
            "max_height": null,
            "max_width": null,
            "min_height": null,
            "min_width": null,
            "object_fit": null,
            "object_position": null,
            "order": null,
            "overflow": null,
            "overflow_x": null,
            "overflow_y": null,
            "padding": null,
            "right": null,
            "top": null,
            "visibility": null,
            "width": null
          }
        },
        "d4f7802fbe87481bb830f4daa47324cd": {
          "model_module": "@jupyter-widgets/controls",
          "model_name": "DescriptionStyleModel",
          "model_module_version": "1.5.0",
          "state": {
            "_model_module": "@jupyter-widgets/controls",
            "_model_module_version": "1.5.0",
            "_model_name": "DescriptionStyleModel",
            "_view_count": null,
            "_view_module": "@jupyter-widgets/base",
            "_view_module_version": "1.2.0",
            "_view_name": "StyleView",
            "description_width": ""
          }
        },
        "23e0d802b43d4091a62c870daca9e0c4": {
          "model_module": "@jupyter-widgets/base",
          "model_name": "LayoutModel",
          "model_module_version": "1.2.0",
          "state": {
            "_model_module": "@jupyter-widgets/base",
            "_model_module_version": "1.2.0",
            "_model_name": "LayoutModel",
            "_view_count": null,
            "_view_module": "@jupyter-widgets/base",
            "_view_module_version": "1.2.0",
            "_view_name": "LayoutView",
            "align_content": null,
            "align_items": null,
            "align_self": null,
            "border": null,
            "bottom": null,
            "display": null,
            "flex": null,
            "flex_flow": null,
            "grid_area": null,
            "grid_auto_columns": null,
            "grid_auto_flow": null,
            "grid_auto_rows": null,
            "grid_column": null,
            "grid_gap": null,
            "grid_row": null,
            "grid_template_areas": null,
            "grid_template_columns": null,
            "grid_template_rows": null,
            "height": null,
            "justify_content": null,
            "justify_items": null,
            "left": null,
            "margin": null,
            "max_height": null,
            "max_width": null,
            "min_height": null,
            "min_width": null,
            "object_fit": null,
            "object_position": null,
            "order": null,
            "overflow": null,
            "overflow_x": null,
            "overflow_y": null,
            "padding": null,
            "right": null,
            "top": null,
            "visibility": null,
            "width": null
          }
        },
        "5f0779fc67b24843a054ebf067204898": {
          "model_module": "@jupyter-widgets/controls",
          "model_name": "ProgressStyleModel",
          "model_module_version": "1.5.0",
          "state": {
            "_model_module": "@jupyter-widgets/controls",
            "_model_module_version": "1.5.0",
            "_model_name": "ProgressStyleModel",
            "_view_count": null,
            "_view_module": "@jupyter-widgets/base",
            "_view_module_version": "1.2.0",
            "_view_name": "StyleView",
            "bar_color": null,
            "description_width": ""
          }
        },
        "cde9fc6c5fbf4ea0ad282c36368cd3ca": {
          "model_module": "@jupyter-widgets/base",
          "model_name": "LayoutModel",
          "model_module_version": "1.2.0",
          "state": {
            "_model_module": "@jupyter-widgets/base",
            "_model_module_version": "1.2.0",
            "_model_name": "LayoutModel",
            "_view_count": null,
            "_view_module": "@jupyter-widgets/base",
            "_view_module_version": "1.2.0",
            "_view_name": "LayoutView",
            "align_content": null,
            "align_items": null,
            "align_self": null,
            "border": null,
            "bottom": null,
            "display": null,
            "flex": null,
            "flex_flow": null,
            "grid_area": null,
            "grid_auto_columns": null,
            "grid_auto_flow": null,
            "grid_auto_rows": null,
            "grid_column": null,
            "grid_gap": null,
            "grid_row": null,
            "grid_template_areas": null,
            "grid_template_columns": null,
            "grid_template_rows": null,
            "height": null,
            "justify_content": null,
            "justify_items": null,
            "left": null,
            "margin": null,
            "max_height": null,
            "max_width": null,
            "min_height": null,
            "min_width": null,
            "object_fit": null,
            "object_position": null,
            "order": null,
            "overflow": null,
            "overflow_x": null,
            "overflow_y": null,
            "padding": null,
            "right": null,
            "top": null,
            "visibility": null,
            "width": null
          }
        },
        "2fc1f8f548c842c19e1f83019405a05e": {
          "model_module": "@jupyter-widgets/controls",
          "model_name": "DescriptionStyleModel",
          "model_module_version": "1.5.0",
          "state": {
            "_model_module": "@jupyter-widgets/controls",
            "_model_module_version": "1.5.0",
            "_model_name": "DescriptionStyleModel",
            "_view_count": null,
            "_view_module": "@jupyter-widgets/base",
            "_view_module_version": "1.2.0",
            "_view_name": "StyleView",
            "description_width": ""
          }
        },
        "3819f46c2d0f48f8bf1d1cb789143c3c": {
          "model_module": "@jupyter-widgets/controls",
          "model_name": "HBoxModel",
          "model_module_version": "1.5.0",
          "state": {
            "_dom_classes": [],
            "_model_module": "@jupyter-widgets/controls",
            "_model_module_version": "1.5.0",
            "_model_name": "HBoxModel",
            "_view_count": null,
            "_view_module": "@jupyter-widgets/controls",
            "_view_module_version": "1.5.0",
            "_view_name": "HBoxView",
            "box_style": "",
            "children": [
              "IPY_MODEL_69daaaa758c749c7a2ff46dcc51e134a",
              "IPY_MODEL_d5b2195ef230492c9343033c34d799f5",
              "IPY_MODEL_5f3453e347d54fec8cc090e00e11b23c"
            ],
            "layout": "IPY_MODEL_a595d452a7d24f2db9ec7c7444883b8a"
          }
        },
        "69daaaa758c749c7a2ff46dcc51e134a": {
          "model_module": "@jupyter-widgets/controls",
          "model_name": "HTMLModel",
          "model_module_version": "1.5.0",
          "state": {
            "_dom_classes": [],
            "_model_module": "@jupyter-widgets/controls",
            "_model_module_version": "1.5.0",
            "_model_name": "HTMLModel",
            "_view_count": null,
            "_view_module": "@jupyter-widgets/controls",
            "_view_module_version": "1.5.0",
            "_view_name": "HTMLView",
            "description": "",
            "description_tooltip": null,
            "layout": "IPY_MODEL_7f41a7df5b4541b382c51510da91c700",
            "placeholder": "​",
            "style": "IPY_MODEL_890feb3ca7984c3e9e2f3a1de81bfca6",
            "value": ""
          }
        },
        "d5b2195ef230492c9343033c34d799f5": {
          "model_module": "@jupyter-widgets/controls",
          "model_name": "FloatProgressModel",
          "model_module_version": "1.5.0",
          "state": {
            "_dom_classes": [],
            "_model_module": "@jupyter-widgets/controls",
            "_model_module_version": "1.5.0",
            "_model_name": "FloatProgressModel",
            "_view_count": null,
            "_view_module": "@jupyter-widgets/controls",
            "_view_module_version": "1.5.0",
            "_view_name": "ProgressView",
            "bar_style": "info",
            "description": "",
            "description_tooltip": null,
            "layout": "IPY_MODEL_c9c33136cc34446a8090a9b9ae0b91b4",
            "max": 1,
            "min": 0,
            "orientation": "horizontal",
            "style": "IPY_MODEL_c25c087ac1d049aa99c283b41d63eeab",
            "value": 1
          }
        },
        "5f3453e347d54fec8cc090e00e11b23c": {
          "model_module": "@jupyter-widgets/controls",
          "model_name": "HTMLModel",
          "model_module_version": "1.5.0",
          "state": {
            "_dom_classes": [],
            "_model_module": "@jupyter-widgets/controls",
            "_model_module_version": "1.5.0",
            "_model_name": "HTMLModel",
            "_view_count": null,
            "_view_module": "@jupyter-widgets/controls",
            "_view_module_version": "1.5.0",
            "_view_name": "HTMLView",
            "description": "",
            "description_tooltip": null,
            "layout": "IPY_MODEL_f6e4372fabf94cb3b2a917a6aa21b7ff",
            "placeholder": "​",
            "style": "IPY_MODEL_2a1f2f9560b543dfab8b173cb98e7c5e",
            "value": " 0/? [00:00&lt;?, ? tables/s]"
          }
        },
        "a595d452a7d24f2db9ec7c7444883b8a": {
          "model_module": "@jupyter-widgets/base",
          "model_name": "LayoutModel",
          "model_module_version": "1.2.0",
          "state": {
            "_model_module": "@jupyter-widgets/base",
            "_model_module_version": "1.2.0",
            "_model_name": "LayoutModel",
            "_view_count": null,
            "_view_module": "@jupyter-widgets/base",
            "_view_module_version": "1.2.0",
            "_view_name": "LayoutView",
            "align_content": null,
            "align_items": null,
            "align_self": null,
            "border": null,
            "bottom": null,
            "display": null,
            "flex": null,
            "flex_flow": null,
            "grid_area": null,
            "grid_auto_columns": null,
            "grid_auto_flow": null,
            "grid_auto_rows": null,
            "grid_column": null,
            "grid_gap": null,
            "grid_row": null,
            "grid_template_areas": null,
            "grid_template_columns": null,
            "grid_template_rows": null,
            "height": null,
            "justify_content": null,
            "justify_items": null,
            "left": null,
            "margin": null,
            "max_height": null,
            "max_width": null,
            "min_height": null,
            "min_width": null,
            "object_fit": null,
            "object_position": null,
            "order": null,
            "overflow": null,
            "overflow_x": null,
            "overflow_y": null,
            "padding": null,
            "right": null,
            "top": null,
            "visibility": null,
            "width": null
          }
        },
        "7f41a7df5b4541b382c51510da91c700": {
          "model_module": "@jupyter-widgets/base",
          "model_name": "LayoutModel",
          "model_module_version": "1.2.0",
          "state": {
            "_model_module": "@jupyter-widgets/base",
            "_model_module_version": "1.2.0",
            "_model_name": "LayoutModel",
            "_view_count": null,
            "_view_module": "@jupyter-widgets/base",
            "_view_module_version": "1.2.0",
            "_view_name": "LayoutView",
            "align_content": null,
            "align_items": null,
            "align_self": null,
            "border": null,
            "bottom": null,
            "display": null,
            "flex": null,
            "flex_flow": null,
            "grid_area": null,
            "grid_auto_columns": null,
            "grid_auto_flow": null,
            "grid_auto_rows": null,
            "grid_column": null,
            "grid_gap": null,
            "grid_row": null,
            "grid_template_areas": null,
            "grid_template_columns": null,
            "grid_template_rows": null,
            "height": null,
            "justify_content": null,
            "justify_items": null,
            "left": null,
            "margin": null,
            "max_height": null,
            "max_width": null,
            "min_height": null,
            "min_width": null,
            "object_fit": null,
            "object_position": null,
            "order": null,
            "overflow": null,
            "overflow_x": null,
            "overflow_y": null,
            "padding": null,
            "right": null,
            "top": null,
            "visibility": null,
            "width": null
          }
        },
        "890feb3ca7984c3e9e2f3a1de81bfca6": {
          "model_module": "@jupyter-widgets/controls",
          "model_name": "DescriptionStyleModel",
          "model_module_version": "1.5.0",
          "state": {
            "_model_module": "@jupyter-widgets/controls",
            "_model_module_version": "1.5.0",
            "_model_name": "DescriptionStyleModel",
            "_view_count": null,
            "_view_module": "@jupyter-widgets/base",
            "_view_module_version": "1.2.0",
            "_view_name": "StyleView",
            "description_width": ""
          }
        },
        "c9c33136cc34446a8090a9b9ae0b91b4": {
          "model_module": "@jupyter-widgets/base",
          "model_name": "LayoutModel",
          "model_module_version": "1.2.0",
          "state": {
            "_model_module": "@jupyter-widgets/base",
            "_model_module_version": "1.2.0",
            "_model_name": "LayoutModel",
            "_view_count": null,
            "_view_module": "@jupyter-widgets/base",
            "_view_module_version": "1.2.0",
            "_view_name": "LayoutView",
            "align_content": null,
            "align_items": null,
            "align_self": null,
            "border": null,
            "bottom": null,
            "display": null,
            "flex": null,
            "flex_flow": null,
            "grid_area": null,
            "grid_auto_columns": null,
            "grid_auto_flow": null,
            "grid_auto_rows": null,
            "grid_column": null,
            "grid_gap": null,
            "grid_row": null,
            "grid_template_areas": null,
            "grid_template_columns": null,
            "grid_template_rows": null,
            "height": null,
            "justify_content": null,
            "justify_items": null,
            "left": null,
            "margin": null,
            "max_height": null,
            "max_width": null,
            "min_height": null,
            "min_width": null,
            "object_fit": null,
            "object_position": null,
            "order": null,
            "overflow": null,
            "overflow_x": null,
            "overflow_y": null,
            "padding": null,
            "right": null,
            "top": null,
            "visibility": null,
            "width": "20px"
          }
        },
        "c25c087ac1d049aa99c283b41d63eeab": {
          "model_module": "@jupyter-widgets/controls",
          "model_name": "ProgressStyleModel",
          "model_module_version": "1.5.0",
          "state": {
            "_model_module": "@jupyter-widgets/controls",
            "_model_module_version": "1.5.0",
            "_model_name": "ProgressStyleModel",
            "_view_count": null,
            "_view_module": "@jupyter-widgets/base",
            "_view_module_version": "1.2.0",
            "_view_name": "StyleView",
            "bar_color": null,
            "description_width": ""
          }
        },
        "f6e4372fabf94cb3b2a917a6aa21b7ff": {
          "model_module": "@jupyter-widgets/base",
          "model_name": "LayoutModel",
          "model_module_version": "1.2.0",
          "state": {
            "_model_module": "@jupyter-widgets/base",
            "_model_module_version": "1.2.0",
            "_model_name": "LayoutModel",
            "_view_count": null,
            "_view_module": "@jupyter-widgets/base",
            "_view_module_version": "1.2.0",
            "_view_name": "LayoutView",
            "align_content": null,
            "align_items": null,
            "align_self": null,
            "border": null,
            "bottom": null,
            "display": null,
            "flex": null,
            "flex_flow": null,
            "grid_area": null,
            "grid_auto_columns": null,
            "grid_auto_flow": null,
            "grid_auto_rows": null,
            "grid_column": null,
            "grid_gap": null,
            "grid_row": null,
            "grid_template_areas": null,
            "grid_template_columns": null,
            "grid_template_rows": null,
            "height": null,
            "justify_content": null,
            "justify_items": null,
            "left": null,
            "margin": null,
            "max_height": null,
            "max_width": null,
            "min_height": null,
            "min_width": null,
            "object_fit": null,
            "object_position": null,
            "order": null,
            "overflow": null,
            "overflow_x": null,
            "overflow_y": null,
            "padding": null,
            "right": null,
            "top": null,
            "visibility": null,
            "width": null
          }
        },
        "2a1f2f9560b543dfab8b173cb98e7c5e": {
          "model_module": "@jupyter-widgets/controls",
          "model_name": "DescriptionStyleModel",
          "model_module_version": "1.5.0",
          "state": {
            "_model_module": "@jupyter-widgets/controls",
            "_model_module_version": "1.5.0",
            "_model_name": "DescriptionStyleModel",
            "_view_count": null,
            "_view_module": "@jupyter-widgets/base",
            "_view_module_version": "1.2.0",
            "_view_name": "StyleView",
            "description_width": ""
          }
        },
        "a2ccf251f958400e84e404577ef60c6c": {
          "model_module": "@jupyter-widgets/controls",
          "model_name": "HBoxModel",
          "model_module_version": "1.5.0",
          "state": {
            "_dom_classes": [],
            "_model_module": "@jupyter-widgets/controls",
            "_model_module_version": "1.5.0",
            "_model_name": "HBoxModel",
            "_view_count": null,
            "_view_module": "@jupyter-widgets/controls",
            "_view_module_version": "1.5.0",
            "_view_name": "HBoxView",
            "box_style": "",
            "children": [
              "IPY_MODEL_56a71b666a1e428c89d9b73af066d4d4",
              "IPY_MODEL_21df8beb640549ae9cb5b984c9b3af09",
              "IPY_MODEL_f812347b556b42538814f53c00b8fa38"
            ],
            "layout": "IPY_MODEL_6a2e3ed264824c488fe9db1f057b74bc"
          }
        },
        "56a71b666a1e428c89d9b73af066d4d4": {
          "model_module": "@jupyter-widgets/controls",
          "model_name": "HTMLModel",
          "model_module_version": "1.5.0",
          "state": {
            "_dom_classes": [],
            "_model_module": "@jupyter-widgets/controls",
            "_model_module_version": "1.5.0",
            "_model_name": "HTMLModel",
            "_view_count": null,
            "_view_module": "@jupyter-widgets/controls",
            "_view_module_version": "1.5.0",
            "_view_name": "HTMLView",
            "description": "",
            "description_tooltip": null,
            "layout": "IPY_MODEL_1709302e7a3a4b0c9c13764c157824ec",
            "placeholder": "​",
            "style": "IPY_MODEL_cc4dffe5c0c14eba86a66c24b42996f8",
            "value": ""
          }
        },
        "21df8beb640549ae9cb5b984c9b3af09": {
          "model_module": "@jupyter-widgets/controls",
          "model_name": "FloatProgressModel",
          "model_module_version": "1.5.0",
          "state": {
            "_dom_classes": [],
            "_model_module": "@jupyter-widgets/controls",
            "_model_module_version": "1.5.0",
            "_model_name": "FloatProgressModel",
            "_view_count": null,
            "_view_module": "@jupyter-widgets/controls",
            "_view_module_version": "1.5.0",
            "_view_name": "ProgressView",
            "bar_style": "info",
            "description": "",
            "description_tooltip": null,
            "layout": "IPY_MODEL_bc7a9c3c49d14762823fb9bd8090fc99",
            "max": 1,
            "min": 0,
            "orientation": "horizontal",
            "style": "IPY_MODEL_5513d9120d7d4bcfb0ff02b59e302040",
            "value": 1
          }
        },
        "f812347b556b42538814f53c00b8fa38": {
          "model_module": "@jupyter-widgets/controls",
          "model_name": "HTMLModel",
          "model_module_version": "1.5.0",
          "state": {
            "_dom_classes": [],
            "_model_module": "@jupyter-widgets/controls",
            "_model_module_version": "1.5.0",
            "_model_name": "HTMLModel",
            "_view_count": null,
            "_view_module": "@jupyter-widgets/controls",
            "_view_module_version": "1.5.0",
            "_view_name": "HTMLView",
            "description": "",
            "description_tooltip": null,
            "layout": "IPY_MODEL_126b0f780b67491aa1abdca08ea2995a",
            "placeholder": "​",
            "style": "IPY_MODEL_ed750adec97d4c8ea2615fd83622b9e6",
            "value": " 0/? [00:00&lt;?, ? tables/s]"
          }
        },
        "6a2e3ed264824c488fe9db1f057b74bc": {
          "model_module": "@jupyter-widgets/base",
          "model_name": "LayoutModel",
          "model_module_version": "1.2.0",
          "state": {
            "_model_module": "@jupyter-widgets/base",
            "_model_module_version": "1.2.0",
            "_model_name": "LayoutModel",
            "_view_count": null,
            "_view_module": "@jupyter-widgets/base",
            "_view_module_version": "1.2.0",
            "_view_name": "LayoutView",
            "align_content": null,
            "align_items": null,
            "align_self": null,
            "border": null,
            "bottom": null,
            "display": null,
            "flex": null,
            "flex_flow": null,
            "grid_area": null,
            "grid_auto_columns": null,
            "grid_auto_flow": null,
            "grid_auto_rows": null,
            "grid_column": null,
            "grid_gap": null,
            "grid_row": null,
            "grid_template_areas": null,
            "grid_template_columns": null,
            "grid_template_rows": null,
            "height": null,
            "justify_content": null,
            "justify_items": null,
            "left": null,
            "margin": null,
            "max_height": null,
            "max_width": null,
            "min_height": null,
            "min_width": null,
            "object_fit": null,
            "object_position": null,
            "order": null,
            "overflow": null,
            "overflow_x": null,
            "overflow_y": null,
            "padding": null,
            "right": null,
            "top": null,
            "visibility": null,
            "width": null
          }
        },
        "1709302e7a3a4b0c9c13764c157824ec": {
          "model_module": "@jupyter-widgets/base",
          "model_name": "LayoutModel",
          "model_module_version": "1.2.0",
          "state": {
            "_model_module": "@jupyter-widgets/base",
            "_model_module_version": "1.2.0",
            "_model_name": "LayoutModel",
            "_view_count": null,
            "_view_module": "@jupyter-widgets/base",
            "_view_module_version": "1.2.0",
            "_view_name": "LayoutView",
            "align_content": null,
            "align_items": null,
            "align_self": null,
            "border": null,
            "bottom": null,
            "display": null,
            "flex": null,
            "flex_flow": null,
            "grid_area": null,
            "grid_auto_columns": null,
            "grid_auto_flow": null,
            "grid_auto_rows": null,
            "grid_column": null,
            "grid_gap": null,
            "grid_row": null,
            "grid_template_areas": null,
            "grid_template_columns": null,
            "grid_template_rows": null,
            "height": null,
            "justify_content": null,
            "justify_items": null,
            "left": null,
            "margin": null,
            "max_height": null,
            "max_width": null,
            "min_height": null,
            "min_width": null,
            "object_fit": null,
            "object_position": null,
            "order": null,
            "overflow": null,
            "overflow_x": null,
            "overflow_y": null,
            "padding": null,
            "right": null,
            "top": null,
            "visibility": null,
            "width": null
          }
        },
        "cc4dffe5c0c14eba86a66c24b42996f8": {
          "model_module": "@jupyter-widgets/controls",
          "model_name": "DescriptionStyleModel",
          "model_module_version": "1.5.0",
          "state": {
            "_model_module": "@jupyter-widgets/controls",
            "_model_module_version": "1.5.0",
            "_model_name": "DescriptionStyleModel",
            "_view_count": null,
            "_view_module": "@jupyter-widgets/base",
            "_view_module_version": "1.2.0",
            "_view_name": "StyleView",
            "description_width": ""
          }
        },
        "bc7a9c3c49d14762823fb9bd8090fc99": {
          "model_module": "@jupyter-widgets/base",
          "model_name": "LayoutModel",
          "model_module_version": "1.2.0",
          "state": {
            "_model_module": "@jupyter-widgets/base",
            "_model_module_version": "1.2.0",
            "_model_name": "LayoutModel",
            "_view_count": null,
            "_view_module": "@jupyter-widgets/base",
            "_view_module_version": "1.2.0",
            "_view_name": "LayoutView",
            "align_content": null,
            "align_items": null,
            "align_self": null,
            "border": null,
            "bottom": null,
            "display": null,
            "flex": null,
            "flex_flow": null,
            "grid_area": null,
            "grid_auto_columns": null,
            "grid_auto_flow": null,
            "grid_auto_rows": null,
            "grid_column": null,
            "grid_gap": null,
            "grid_row": null,
            "grid_template_areas": null,
            "grid_template_columns": null,
            "grid_template_rows": null,
            "height": null,
            "justify_content": null,
            "justify_items": null,
            "left": null,
            "margin": null,
            "max_height": null,
            "max_width": null,
            "min_height": null,
            "min_width": null,
            "object_fit": null,
            "object_position": null,
            "order": null,
            "overflow": null,
            "overflow_x": null,
            "overflow_y": null,
            "padding": null,
            "right": null,
            "top": null,
            "visibility": null,
            "width": "20px"
          }
        },
        "5513d9120d7d4bcfb0ff02b59e302040": {
          "model_module": "@jupyter-widgets/controls",
          "model_name": "ProgressStyleModel",
          "model_module_version": "1.5.0",
          "state": {
            "_model_module": "@jupyter-widgets/controls",
            "_model_module_version": "1.5.0",
            "_model_name": "ProgressStyleModel",
            "_view_count": null,
            "_view_module": "@jupyter-widgets/base",
            "_view_module_version": "1.2.0",
            "_view_name": "StyleView",
            "bar_color": null,
            "description_width": ""
          }
        },
        "126b0f780b67491aa1abdca08ea2995a": {
          "model_module": "@jupyter-widgets/base",
          "model_name": "LayoutModel",
          "model_module_version": "1.2.0",
          "state": {
            "_model_module": "@jupyter-widgets/base",
            "_model_module_version": "1.2.0",
            "_model_name": "LayoutModel",
            "_view_count": null,
            "_view_module": "@jupyter-widgets/base",
            "_view_module_version": "1.2.0",
            "_view_name": "LayoutView",
            "align_content": null,
            "align_items": null,
            "align_self": null,
            "border": null,
            "bottom": null,
            "display": null,
            "flex": null,
            "flex_flow": null,
            "grid_area": null,
            "grid_auto_columns": null,
            "grid_auto_flow": null,
            "grid_auto_rows": null,
            "grid_column": null,
            "grid_gap": null,
            "grid_row": null,
            "grid_template_areas": null,
            "grid_template_columns": null,
            "grid_template_rows": null,
            "height": null,
            "justify_content": null,
            "justify_items": null,
            "left": null,
            "margin": null,
            "max_height": null,
            "max_width": null,
            "min_height": null,
            "min_width": null,
            "object_fit": null,
            "object_position": null,
            "order": null,
            "overflow": null,
            "overflow_x": null,
            "overflow_y": null,
            "padding": null,
            "right": null,
            "top": null,
            "visibility": null,
            "width": null
          }
        },
        "ed750adec97d4c8ea2615fd83622b9e6": {
          "model_module": "@jupyter-widgets/controls",
          "model_name": "DescriptionStyleModel",
          "model_module_version": "1.5.0",
          "state": {
            "_model_module": "@jupyter-widgets/controls",
            "_model_module_version": "1.5.0",
            "_model_name": "DescriptionStyleModel",
            "_view_count": null,
            "_view_module": "@jupyter-widgets/base",
            "_view_module_version": "1.2.0",
            "_view_name": "StyleView",
            "description_width": ""
          }
        },
        "9199ba812cd34ad9b588ff57dc986dfa": {
          "model_module": "@jupyter-widgets/controls",
          "model_name": "HBoxModel",
          "model_module_version": "1.5.0",
          "state": {
            "_dom_classes": [],
            "_model_module": "@jupyter-widgets/controls",
            "_model_module_version": "1.5.0",
            "_model_name": "HBoxModel",
            "_view_count": null,
            "_view_module": "@jupyter-widgets/controls",
            "_view_module_version": "1.5.0",
            "_view_name": "HBoxView",
            "box_style": "",
            "children": [
              "IPY_MODEL_6b34618dcb1f42d9b2746710ce9f9637",
              "IPY_MODEL_5625b7045eae4b26b640d2feb96d24c3",
              "IPY_MODEL_1c4b2281d94a4b92b9172ba1a58a7dba"
            ],
            "layout": "IPY_MODEL_68499c27fb9e43a78aa8856b673a6268"
          }
        },
        "6b34618dcb1f42d9b2746710ce9f9637": {
          "model_module": "@jupyter-widgets/controls",
          "model_name": "HTMLModel",
          "model_module_version": "1.5.0",
          "state": {
            "_dom_classes": [],
            "_model_module": "@jupyter-widgets/controls",
            "_model_module_version": "1.5.0",
            "_model_name": "HTMLModel",
            "_view_count": null,
            "_view_module": "@jupyter-widgets/controls",
            "_view_module_version": "1.5.0",
            "_view_name": "HTMLView",
            "description": "",
            "description_tooltip": null,
            "layout": "IPY_MODEL_5caa87b8d8144ba1bb9a3a12c2825c81",
            "placeholder": "​",
            "style": "IPY_MODEL_3006512c5db34a95bc3f329480ffdfcb",
            "value": "100%"
          }
        },
        "5625b7045eae4b26b640d2feb96d24c3": {
          "model_module": "@jupyter-widgets/controls",
          "model_name": "FloatProgressModel",
          "model_module_version": "1.5.0",
          "state": {
            "_dom_classes": [],
            "_model_module": "@jupyter-widgets/controls",
            "_model_module_version": "1.5.0",
            "_model_name": "FloatProgressModel",
            "_view_count": null,
            "_view_module": "@jupyter-widgets/controls",
            "_view_module_version": "1.5.0",
            "_view_name": "ProgressView",
            "bar_style": "success",
            "description": "",
            "description_tooltip": null,
            "layout": "IPY_MODEL_d4f544839df54699ac4fc59201c61bf5",
            "max": 2,
            "min": 0,
            "orientation": "horizontal",
            "style": "IPY_MODEL_c5d78acc50204136b65986970e0dc1a6",
            "value": 2
          }
        },
        "1c4b2281d94a4b92b9172ba1a58a7dba": {
          "model_module": "@jupyter-widgets/controls",
          "model_name": "HTMLModel",
          "model_module_version": "1.5.0",
          "state": {
            "_dom_classes": [],
            "_model_module": "@jupyter-widgets/controls",
            "_model_module_version": "1.5.0",
            "_model_name": "HTMLModel",
            "_view_count": null,
            "_view_module": "@jupyter-widgets/controls",
            "_view_module_version": "1.5.0",
            "_view_name": "HTMLView",
            "description": "",
            "description_tooltip": null,
            "layout": "IPY_MODEL_eff3773d25cb4326a1cbbc7ae7932334",
            "placeholder": "​",
            "style": "IPY_MODEL_471e4b976d4241f58cd013730aef9058",
            "value": " 2/2 [00:00&lt;00:00, 33.79it/s]"
          }
        },
        "68499c27fb9e43a78aa8856b673a6268": {
          "model_module": "@jupyter-widgets/base",
          "model_name": "LayoutModel",
          "model_module_version": "1.2.0",
          "state": {
            "_model_module": "@jupyter-widgets/base",
            "_model_module_version": "1.2.0",
            "_model_name": "LayoutModel",
            "_view_count": null,
            "_view_module": "@jupyter-widgets/base",
            "_view_module_version": "1.2.0",
            "_view_name": "LayoutView",
            "align_content": null,
            "align_items": null,
            "align_self": null,
            "border": null,
            "bottom": null,
            "display": null,
            "flex": null,
            "flex_flow": null,
            "grid_area": null,
            "grid_auto_columns": null,
            "grid_auto_flow": null,
            "grid_auto_rows": null,
            "grid_column": null,
            "grid_gap": null,
            "grid_row": null,
            "grid_template_areas": null,
            "grid_template_columns": null,
            "grid_template_rows": null,
            "height": null,
            "justify_content": null,
            "justify_items": null,
            "left": null,
            "margin": null,
            "max_height": null,
            "max_width": null,
            "min_height": null,
            "min_width": null,
            "object_fit": null,
            "object_position": null,
            "order": null,
            "overflow": null,
            "overflow_x": null,
            "overflow_y": null,
            "padding": null,
            "right": null,
            "top": null,
            "visibility": null,
            "width": null
          }
        },
        "5caa87b8d8144ba1bb9a3a12c2825c81": {
          "model_module": "@jupyter-widgets/base",
          "model_name": "LayoutModel",
          "model_module_version": "1.2.0",
          "state": {
            "_model_module": "@jupyter-widgets/base",
            "_model_module_version": "1.2.0",
            "_model_name": "LayoutModel",
            "_view_count": null,
            "_view_module": "@jupyter-widgets/base",
            "_view_module_version": "1.2.0",
            "_view_name": "LayoutView",
            "align_content": null,
            "align_items": null,
            "align_self": null,
            "border": null,
            "bottom": null,
            "display": null,
            "flex": null,
            "flex_flow": null,
            "grid_area": null,
            "grid_auto_columns": null,
            "grid_auto_flow": null,
            "grid_auto_rows": null,
            "grid_column": null,
            "grid_gap": null,
            "grid_row": null,
            "grid_template_areas": null,
            "grid_template_columns": null,
            "grid_template_rows": null,
            "height": null,
            "justify_content": null,
            "justify_items": null,
            "left": null,
            "margin": null,
            "max_height": null,
            "max_width": null,
            "min_height": null,
            "min_width": null,
            "object_fit": null,
            "object_position": null,
            "order": null,
            "overflow": null,
            "overflow_x": null,
            "overflow_y": null,
            "padding": null,
            "right": null,
            "top": null,
            "visibility": null,
            "width": null
          }
        },
        "3006512c5db34a95bc3f329480ffdfcb": {
          "model_module": "@jupyter-widgets/controls",
          "model_name": "DescriptionStyleModel",
          "model_module_version": "1.5.0",
          "state": {
            "_model_module": "@jupyter-widgets/controls",
            "_model_module_version": "1.5.0",
            "_model_name": "DescriptionStyleModel",
            "_view_count": null,
            "_view_module": "@jupyter-widgets/base",
            "_view_module_version": "1.2.0",
            "_view_name": "StyleView",
            "description_width": ""
          }
        },
        "d4f544839df54699ac4fc59201c61bf5": {
          "model_module": "@jupyter-widgets/base",
          "model_name": "LayoutModel",
          "model_module_version": "1.2.0",
          "state": {
            "_model_module": "@jupyter-widgets/base",
            "_model_module_version": "1.2.0",
            "_model_name": "LayoutModel",
            "_view_count": null,
            "_view_module": "@jupyter-widgets/base",
            "_view_module_version": "1.2.0",
            "_view_name": "LayoutView",
            "align_content": null,
            "align_items": null,
            "align_self": null,
            "border": null,
            "bottom": null,
            "display": null,
            "flex": null,
            "flex_flow": null,
            "grid_area": null,
            "grid_auto_columns": null,
            "grid_auto_flow": null,
            "grid_auto_rows": null,
            "grid_column": null,
            "grid_gap": null,
            "grid_row": null,
            "grid_template_areas": null,
            "grid_template_columns": null,
            "grid_template_rows": null,
            "height": null,
            "justify_content": null,
            "justify_items": null,
            "left": null,
            "margin": null,
            "max_height": null,
            "max_width": null,
            "min_height": null,
            "min_width": null,
            "object_fit": null,
            "object_position": null,
            "order": null,
            "overflow": null,
            "overflow_x": null,
            "overflow_y": null,
            "padding": null,
            "right": null,
            "top": null,
            "visibility": null,
            "width": null
          }
        },
        "c5d78acc50204136b65986970e0dc1a6": {
          "model_module": "@jupyter-widgets/controls",
          "model_name": "ProgressStyleModel",
          "model_module_version": "1.5.0",
          "state": {
            "_model_module": "@jupyter-widgets/controls",
            "_model_module_version": "1.5.0",
            "_model_name": "ProgressStyleModel",
            "_view_count": null,
            "_view_module": "@jupyter-widgets/base",
            "_view_module_version": "1.2.0",
            "_view_name": "StyleView",
            "bar_color": null,
            "description_width": ""
          }
        },
        "eff3773d25cb4326a1cbbc7ae7932334": {
          "model_module": "@jupyter-widgets/base",
          "model_name": "LayoutModel",
          "model_module_version": "1.2.0",
          "state": {
            "_model_module": "@jupyter-widgets/base",
            "_model_module_version": "1.2.0",
            "_model_name": "LayoutModel",
            "_view_count": null,
            "_view_module": "@jupyter-widgets/base",
            "_view_module_version": "1.2.0",
            "_view_name": "LayoutView",
            "align_content": null,
            "align_items": null,
            "align_self": null,
            "border": null,
            "bottom": null,
            "display": null,
            "flex": null,
            "flex_flow": null,
            "grid_area": null,
            "grid_auto_columns": null,
            "grid_auto_flow": null,
            "grid_auto_rows": null,
            "grid_column": null,
            "grid_gap": null,
            "grid_row": null,
            "grid_template_areas": null,
            "grid_template_columns": null,
            "grid_template_rows": null,
            "height": null,
            "justify_content": null,
            "justify_items": null,
            "left": null,
            "margin": null,
            "max_height": null,
            "max_width": null,
            "min_height": null,
            "min_width": null,
            "object_fit": null,
            "object_position": null,
            "order": null,
            "overflow": null,
            "overflow_x": null,
            "overflow_y": null,
            "padding": null,
            "right": null,
            "top": null,
            "visibility": null,
            "width": null
          }
        },
        "471e4b976d4241f58cd013730aef9058": {
          "model_module": "@jupyter-widgets/controls",
          "model_name": "DescriptionStyleModel",
          "model_module_version": "1.5.0",
          "state": {
            "_model_module": "@jupyter-widgets/controls",
            "_model_module_version": "1.5.0",
            "_model_name": "DescriptionStyleModel",
            "_view_count": null,
            "_view_module": "@jupyter-widgets/base",
            "_view_module_version": "1.2.0",
            "_view_name": "StyleView",
            "description_width": ""
          }
        },
        "7f5de49f94874b6f812ea3fea23b2eb2": {
          "model_module": "@jupyter-widgets/controls",
          "model_name": "HBoxModel",
          "model_module_version": "1.5.0",
          "state": {
            "_dom_classes": [],
            "_model_module": "@jupyter-widgets/controls",
            "_model_module_version": "1.5.0",
            "_model_name": "HBoxModel",
            "_view_count": null,
            "_view_module": "@jupyter-widgets/controls",
            "_view_module_version": "1.5.0",
            "_view_name": "HBoxView",
            "box_style": "",
            "children": [
              "IPY_MODEL_0be0217d3adf4c5f8363e7e07564e1a3",
              "IPY_MODEL_a52733ee36004473a802e751f9e55808",
              "IPY_MODEL_550e8519a3794f9dac46f8b903c12f30"
            ],
            "layout": "IPY_MODEL_3045bd44827c4b7fb7e14ebfbbe4fe75"
          }
        },
        "0be0217d3adf4c5f8363e7e07564e1a3": {
          "model_module": "@jupyter-widgets/controls",
          "model_name": "HTMLModel",
          "model_module_version": "1.5.0",
          "state": {
            "_dom_classes": [],
            "_model_module": "@jupyter-widgets/controls",
            "_model_module_version": "1.5.0",
            "_model_name": "HTMLModel",
            "_view_count": null,
            "_view_module": "@jupyter-widgets/controls",
            "_view_module_version": "1.5.0",
            "_view_name": "HTMLView",
            "description": "",
            "description_tooltip": null,
            "layout": "IPY_MODEL_524c60a73d2e4426a69a6b848ee8cb12",
            "placeholder": "​",
            "style": "IPY_MODEL_4054267d809446d29cfda638f716d0b1",
            "value": "100%"
          }
        },
        "a52733ee36004473a802e751f9e55808": {
          "model_module": "@jupyter-widgets/controls",
          "model_name": "FloatProgressModel",
          "model_module_version": "1.5.0",
          "state": {
            "_dom_classes": [],
            "_model_module": "@jupyter-widgets/controls",
            "_model_module_version": "1.5.0",
            "_model_name": "FloatProgressModel",
            "_view_count": null,
            "_view_module": "@jupyter-widgets/controls",
            "_view_module_version": "1.5.0",
            "_view_name": "ProgressView",
            "bar_style": "success",
            "description": "",
            "description_tooltip": null,
            "layout": "IPY_MODEL_223d94345ff5431a886828c326f2860c",
            "max": 479,
            "min": 0,
            "orientation": "horizontal",
            "style": "IPY_MODEL_05ac1be60cd442d291c39484922e1c7d",
            "value": 479
          }
        },
        "550e8519a3794f9dac46f8b903c12f30": {
          "model_module": "@jupyter-widgets/controls",
          "model_name": "HTMLModel",
          "model_module_version": "1.5.0",
          "state": {
            "_dom_classes": [],
            "_model_module": "@jupyter-widgets/controls",
            "_model_module_version": "1.5.0",
            "_model_name": "HTMLModel",
            "_view_count": null,
            "_view_module": "@jupyter-widgets/controls",
            "_view_module_version": "1.5.0",
            "_view_name": "HTMLView",
            "description": "",
            "description_tooltip": null,
            "layout": "IPY_MODEL_a9d3debc838a47629b2c06d89088714a",
            "placeholder": "​",
            "style": "IPY_MODEL_07ff070da0a04ee1b51dd1c25afb3e9e",
            "value": " 479/479 [00:00&lt;00:00, 2201.06ex/s]"
          }
        },
        "3045bd44827c4b7fb7e14ebfbbe4fe75": {
          "model_module": "@jupyter-widgets/base",
          "model_name": "LayoutModel",
          "model_module_version": "1.2.0",
          "state": {
            "_model_module": "@jupyter-widgets/base",
            "_model_module_version": "1.2.0",
            "_model_name": "LayoutModel",
            "_view_count": null,
            "_view_module": "@jupyter-widgets/base",
            "_view_module_version": "1.2.0",
            "_view_name": "LayoutView",
            "align_content": null,
            "align_items": null,
            "align_self": null,
            "border": null,
            "bottom": null,
            "display": null,
            "flex": null,
            "flex_flow": null,
            "grid_area": null,
            "grid_auto_columns": null,
            "grid_auto_flow": null,
            "grid_auto_rows": null,
            "grid_column": null,
            "grid_gap": null,
            "grid_row": null,
            "grid_template_areas": null,
            "grid_template_columns": null,
            "grid_template_rows": null,
            "height": null,
            "justify_content": null,
            "justify_items": null,
            "left": null,
            "margin": null,
            "max_height": null,
            "max_width": null,
            "min_height": null,
            "min_width": null,
            "object_fit": null,
            "object_position": null,
            "order": null,
            "overflow": null,
            "overflow_x": null,
            "overflow_y": null,
            "padding": null,
            "right": null,
            "top": null,
            "visibility": null,
            "width": null
          }
        },
        "524c60a73d2e4426a69a6b848ee8cb12": {
          "model_module": "@jupyter-widgets/base",
          "model_name": "LayoutModel",
          "model_module_version": "1.2.0",
          "state": {
            "_model_module": "@jupyter-widgets/base",
            "_model_module_version": "1.2.0",
            "_model_name": "LayoutModel",
            "_view_count": null,
            "_view_module": "@jupyter-widgets/base",
            "_view_module_version": "1.2.0",
            "_view_name": "LayoutView",
            "align_content": null,
            "align_items": null,
            "align_self": null,
            "border": null,
            "bottom": null,
            "display": null,
            "flex": null,
            "flex_flow": null,
            "grid_area": null,
            "grid_auto_columns": null,
            "grid_auto_flow": null,
            "grid_auto_rows": null,
            "grid_column": null,
            "grid_gap": null,
            "grid_row": null,
            "grid_template_areas": null,
            "grid_template_columns": null,
            "grid_template_rows": null,
            "height": null,
            "justify_content": null,
            "justify_items": null,
            "left": null,
            "margin": null,
            "max_height": null,
            "max_width": null,
            "min_height": null,
            "min_width": null,
            "object_fit": null,
            "object_position": null,
            "order": null,
            "overflow": null,
            "overflow_x": null,
            "overflow_y": null,
            "padding": null,
            "right": null,
            "top": null,
            "visibility": null,
            "width": null
          }
        },
        "4054267d809446d29cfda638f716d0b1": {
          "model_module": "@jupyter-widgets/controls",
          "model_name": "DescriptionStyleModel",
          "model_module_version": "1.5.0",
          "state": {
            "_model_module": "@jupyter-widgets/controls",
            "_model_module_version": "1.5.0",
            "_model_name": "DescriptionStyleModel",
            "_view_count": null,
            "_view_module": "@jupyter-widgets/base",
            "_view_module_version": "1.2.0",
            "_view_name": "StyleView",
            "description_width": ""
          }
        },
        "223d94345ff5431a886828c326f2860c": {
          "model_module": "@jupyter-widgets/base",
          "model_name": "LayoutModel",
          "model_module_version": "1.2.0",
          "state": {
            "_model_module": "@jupyter-widgets/base",
            "_model_module_version": "1.2.0",
            "_model_name": "LayoutModel",
            "_view_count": null,
            "_view_module": "@jupyter-widgets/base",
            "_view_module_version": "1.2.0",
            "_view_name": "LayoutView",
            "align_content": null,
            "align_items": null,
            "align_self": null,
            "border": null,
            "bottom": null,
            "display": null,
            "flex": null,
            "flex_flow": null,
            "grid_area": null,
            "grid_auto_columns": null,
            "grid_auto_flow": null,
            "grid_auto_rows": null,
            "grid_column": null,
            "grid_gap": null,
            "grid_row": null,
            "grid_template_areas": null,
            "grid_template_columns": null,
            "grid_template_rows": null,
            "height": null,
            "justify_content": null,
            "justify_items": null,
            "left": null,
            "margin": null,
            "max_height": null,
            "max_width": null,
            "min_height": null,
            "min_width": null,
            "object_fit": null,
            "object_position": null,
            "order": null,
            "overflow": null,
            "overflow_x": null,
            "overflow_y": null,
            "padding": null,
            "right": null,
            "top": null,
            "visibility": null,
            "width": null
          }
        },
        "05ac1be60cd442d291c39484922e1c7d": {
          "model_module": "@jupyter-widgets/controls",
          "model_name": "ProgressStyleModel",
          "model_module_version": "1.5.0",
          "state": {
            "_model_module": "@jupyter-widgets/controls",
            "_model_module_version": "1.5.0",
            "_model_name": "ProgressStyleModel",
            "_view_count": null,
            "_view_module": "@jupyter-widgets/base",
            "_view_module_version": "1.2.0",
            "_view_name": "StyleView",
            "bar_color": null,
            "description_width": ""
          }
        },
        "a9d3debc838a47629b2c06d89088714a": {
          "model_module": "@jupyter-widgets/base",
          "model_name": "LayoutModel",
          "model_module_version": "1.2.0",
          "state": {
            "_model_module": "@jupyter-widgets/base",
            "_model_module_version": "1.2.0",
            "_model_name": "LayoutModel",
            "_view_count": null,
            "_view_module": "@jupyter-widgets/base",
            "_view_module_version": "1.2.0",
            "_view_name": "LayoutView",
            "align_content": null,
            "align_items": null,
            "align_self": null,
            "border": null,
            "bottom": null,
            "display": null,
            "flex": null,
            "flex_flow": null,
            "grid_area": null,
            "grid_auto_columns": null,
            "grid_auto_flow": null,
            "grid_auto_rows": null,
            "grid_column": null,
            "grid_gap": null,
            "grid_row": null,
            "grid_template_areas": null,
            "grid_template_columns": null,
            "grid_template_rows": null,
            "height": null,
            "justify_content": null,
            "justify_items": null,
            "left": null,
            "margin": null,
            "max_height": null,
            "max_width": null,
            "min_height": null,
            "min_width": null,
            "object_fit": null,
            "object_position": null,
            "order": null,
            "overflow": null,
            "overflow_x": null,
            "overflow_y": null,
            "padding": null,
            "right": null,
            "top": null,
            "visibility": null,
            "width": null
          }
        },
        "07ff070da0a04ee1b51dd1c25afb3e9e": {
          "model_module": "@jupyter-widgets/controls",
          "model_name": "DescriptionStyleModel",
          "model_module_version": "1.5.0",
          "state": {
            "_model_module": "@jupyter-widgets/controls",
            "_model_module_version": "1.5.0",
            "_model_name": "DescriptionStyleModel",
            "_view_count": null,
            "_view_module": "@jupyter-widgets/base",
            "_view_module_version": "1.2.0",
            "_view_name": "StyleView",
            "description_width": ""
          }
        },
        "4d41d2903511406d9e65508865d46e3e": {
          "model_module": "@jupyter-widgets/controls",
          "model_name": "HBoxModel",
          "model_module_version": "1.5.0",
          "state": {
            "_dom_classes": [],
            "_model_module": "@jupyter-widgets/controls",
            "_model_module_version": "1.5.0",
            "_model_name": "HBoxModel",
            "_view_count": null,
            "_view_module": "@jupyter-widgets/controls",
            "_view_module_version": "1.5.0",
            "_view_name": "HBoxView",
            "box_style": "",
            "children": [
              "IPY_MODEL_a7a55af540394901854a37424636fe43",
              "IPY_MODEL_f521ad028d0e4b3bb467f6de3b98ff2b",
              "IPY_MODEL_db17eba78fd44d0785bfb623b8717d2d"
            ],
            "layout": "IPY_MODEL_3afa48542d0044dbb088d8d19c88fb77"
          }
        },
        "a7a55af540394901854a37424636fe43": {
          "model_module": "@jupyter-widgets/controls",
          "model_name": "HTMLModel",
          "model_module_version": "1.5.0",
          "state": {
            "_dom_classes": [],
            "_model_module": "@jupyter-widgets/controls",
            "_model_module_version": "1.5.0",
            "_model_name": "HTMLModel",
            "_view_count": null,
            "_view_module": "@jupyter-widgets/controls",
            "_view_module_version": "1.5.0",
            "_view_name": "HTMLView",
            "description": "",
            "description_tooltip": null,
            "layout": "IPY_MODEL_21b95f8bcaf04de485719b85d7275ba8",
            "placeholder": "​",
            "style": "IPY_MODEL_463b3cece7c745419140d7feb177cc8c",
            "value": "100%"
          }
        },
        "f521ad028d0e4b3bb467f6de3b98ff2b": {
          "model_module": "@jupyter-widgets/controls",
          "model_name": "FloatProgressModel",
          "model_module_version": "1.5.0",
          "state": {
            "_dom_classes": [],
            "_model_module": "@jupyter-widgets/controls",
            "_model_module_version": "1.5.0",
            "_model_name": "FloatProgressModel",
            "_view_count": null,
            "_view_module": "@jupyter-widgets/controls",
            "_view_module_version": "1.5.0",
            "_view_name": "ProgressView",
            "bar_style": "success",
            "description": "",
            "description_tooltip": null,
            "layout": "IPY_MODEL_45ed395bd3964437b5d6fee8381a062a",
            "max": 160,
            "min": 0,
            "orientation": "horizontal",
            "style": "IPY_MODEL_60f55087da014d378e9d1e4c1fc09545",
            "value": 160
          }
        },
        "db17eba78fd44d0785bfb623b8717d2d": {
          "model_module": "@jupyter-widgets/controls",
          "model_name": "HTMLModel",
          "model_module_version": "1.5.0",
          "state": {
            "_dom_classes": [],
            "_model_module": "@jupyter-widgets/controls",
            "_model_module_version": "1.5.0",
            "_model_name": "HTMLModel",
            "_view_count": null,
            "_view_module": "@jupyter-widgets/controls",
            "_view_module_version": "1.5.0",
            "_view_name": "HTMLView",
            "description": "",
            "description_tooltip": null,
            "layout": "IPY_MODEL_84f3575d705c4eeb928c791aa32aa08a",
            "placeholder": "​",
            "style": "IPY_MODEL_661267fa13a346fbb76b1ac76bf4338c",
            "value": " 160/160 [00:00&lt;00:00, 1611.66ex/s]"
          }
        },
        "3afa48542d0044dbb088d8d19c88fb77": {
          "model_module": "@jupyter-widgets/base",
          "model_name": "LayoutModel",
          "model_module_version": "1.2.0",
          "state": {
            "_model_module": "@jupyter-widgets/base",
            "_model_module_version": "1.2.0",
            "_model_name": "LayoutModel",
            "_view_count": null,
            "_view_module": "@jupyter-widgets/base",
            "_view_module_version": "1.2.0",
            "_view_name": "LayoutView",
            "align_content": null,
            "align_items": null,
            "align_self": null,
            "border": null,
            "bottom": null,
            "display": null,
            "flex": null,
            "flex_flow": null,
            "grid_area": null,
            "grid_auto_columns": null,
            "grid_auto_flow": null,
            "grid_auto_rows": null,
            "grid_column": null,
            "grid_gap": null,
            "grid_row": null,
            "grid_template_areas": null,
            "grid_template_columns": null,
            "grid_template_rows": null,
            "height": null,
            "justify_content": null,
            "justify_items": null,
            "left": null,
            "margin": null,
            "max_height": null,
            "max_width": null,
            "min_height": null,
            "min_width": null,
            "object_fit": null,
            "object_position": null,
            "order": null,
            "overflow": null,
            "overflow_x": null,
            "overflow_y": null,
            "padding": null,
            "right": null,
            "top": null,
            "visibility": null,
            "width": null
          }
        },
        "21b95f8bcaf04de485719b85d7275ba8": {
          "model_module": "@jupyter-widgets/base",
          "model_name": "LayoutModel",
          "model_module_version": "1.2.0",
          "state": {
            "_model_module": "@jupyter-widgets/base",
            "_model_module_version": "1.2.0",
            "_model_name": "LayoutModel",
            "_view_count": null,
            "_view_module": "@jupyter-widgets/base",
            "_view_module_version": "1.2.0",
            "_view_name": "LayoutView",
            "align_content": null,
            "align_items": null,
            "align_self": null,
            "border": null,
            "bottom": null,
            "display": null,
            "flex": null,
            "flex_flow": null,
            "grid_area": null,
            "grid_auto_columns": null,
            "grid_auto_flow": null,
            "grid_auto_rows": null,
            "grid_column": null,
            "grid_gap": null,
            "grid_row": null,
            "grid_template_areas": null,
            "grid_template_columns": null,
            "grid_template_rows": null,
            "height": null,
            "justify_content": null,
            "justify_items": null,
            "left": null,
            "margin": null,
            "max_height": null,
            "max_width": null,
            "min_height": null,
            "min_width": null,
            "object_fit": null,
            "object_position": null,
            "order": null,
            "overflow": null,
            "overflow_x": null,
            "overflow_y": null,
            "padding": null,
            "right": null,
            "top": null,
            "visibility": null,
            "width": null
          }
        },
        "463b3cece7c745419140d7feb177cc8c": {
          "model_module": "@jupyter-widgets/controls",
          "model_name": "DescriptionStyleModel",
          "model_module_version": "1.5.0",
          "state": {
            "_model_module": "@jupyter-widgets/controls",
            "_model_module_version": "1.5.0",
            "_model_name": "DescriptionStyleModel",
            "_view_count": null,
            "_view_module": "@jupyter-widgets/base",
            "_view_module_version": "1.2.0",
            "_view_name": "StyleView",
            "description_width": ""
          }
        },
        "45ed395bd3964437b5d6fee8381a062a": {
          "model_module": "@jupyter-widgets/base",
          "model_name": "LayoutModel",
          "model_module_version": "1.2.0",
          "state": {
            "_model_module": "@jupyter-widgets/base",
            "_model_module_version": "1.2.0",
            "_model_name": "LayoutModel",
            "_view_count": null,
            "_view_module": "@jupyter-widgets/base",
            "_view_module_version": "1.2.0",
            "_view_name": "LayoutView",
            "align_content": null,
            "align_items": null,
            "align_self": null,
            "border": null,
            "bottom": null,
            "display": null,
            "flex": null,
            "flex_flow": null,
            "grid_area": null,
            "grid_auto_columns": null,
            "grid_auto_flow": null,
            "grid_auto_rows": null,
            "grid_column": null,
            "grid_gap": null,
            "grid_row": null,
            "grid_template_areas": null,
            "grid_template_columns": null,
            "grid_template_rows": null,
            "height": null,
            "justify_content": null,
            "justify_items": null,
            "left": null,
            "margin": null,
            "max_height": null,
            "max_width": null,
            "min_height": null,
            "min_width": null,
            "object_fit": null,
            "object_position": null,
            "order": null,
            "overflow": null,
            "overflow_x": null,
            "overflow_y": null,
            "padding": null,
            "right": null,
            "top": null,
            "visibility": null,
            "width": null
          }
        },
        "60f55087da014d378e9d1e4c1fc09545": {
          "model_module": "@jupyter-widgets/controls",
          "model_name": "ProgressStyleModel",
          "model_module_version": "1.5.0",
          "state": {
            "_model_module": "@jupyter-widgets/controls",
            "_model_module_version": "1.5.0",
            "_model_name": "ProgressStyleModel",
            "_view_count": null,
            "_view_module": "@jupyter-widgets/base",
            "_view_module_version": "1.2.0",
            "_view_name": "StyleView",
            "bar_color": null,
            "description_width": ""
          }
        },
        "84f3575d705c4eeb928c791aa32aa08a": {
          "model_module": "@jupyter-widgets/base",
          "model_name": "LayoutModel",
          "model_module_version": "1.2.0",
          "state": {
            "_model_module": "@jupyter-widgets/base",
            "_model_module_version": "1.2.0",
            "_model_name": "LayoutModel",
            "_view_count": null,
            "_view_module": "@jupyter-widgets/base",
            "_view_module_version": "1.2.0",
            "_view_name": "LayoutView",
            "align_content": null,
            "align_items": null,
            "align_self": null,
            "border": null,
            "bottom": null,
            "display": null,
            "flex": null,
            "flex_flow": null,
            "grid_area": null,
            "grid_auto_columns": null,
            "grid_auto_flow": null,
            "grid_auto_rows": null,
            "grid_column": null,
            "grid_gap": null,
            "grid_row": null,
            "grid_template_areas": null,
            "grid_template_columns": null,
            "grid_template_rows": null,
            "height": null,
            "justify_content": null,
            "justify_items": null,
            "left": null,
            "margin": null,
            "max_height": null,
            "max_width": null,
            "min_height": null,
            "min_width": null,
            "object_fit": null,
            "object_position": null,
            "order": null,
            "overflow": null,
            "overflow_x": null,
            "overflow_y": null,
            "padding": null,
            "right": null,
            "top": null,
            "visibility": null,
            "width": null
          }
        },
        "661267fa13a346fbb76b1ac76bf4338c": {
          "model_module": "@jupyter-widgets/controls",
          "model_name": "DescriptionStyleModel",
          "model_module_version": "1.5.0",
          "state": {
            "_model_module": "@jupyter-widgets/controls",
            "_model_module_version": "1.5.0",
            "_model_name": "DescriptionStyleModel",
            "_view_count": null,
            "_view_module": "@jupyter-widgets/base",
            "_view_module_version": "1.2.0",
            "_view_name": "StyleView",
            "description_width": ""
          }
        },
        "c464286da21f46459be8de9d0ec36b4c": {
          "model_module": "@jupyter-widgets/controls",
          "model_name": "HBoxModel",
          "model_module_version": "1.5.0",
          "state": {
            "_dom_classes": [],
            "_model_module": "@jupyter-widgets/controls",
            "_model_module_version": "1.5.0",
            "_model_name": "HBoxModel",
            "_view_count": null,
            "_view_module": "@jupyter-widgets/controls",
            "_view_module_version": "1.5.0",
            "_view_name": "HBoxView",
            "box_style": "",
            "children": [
              "IPY_MODEL_ca1c7d87ab0743708d04ea0d77b27ce4",
              "IPY_MODEL_fcea10dfb4464adba7f24c377f7926d6",
              "IPY_MODEL_a72f130b197d43759ccbe5bc9539b1d0"
            ],
            "layout": "IPY_MODEL_13d7c06b75164e919731ab4fd2dcb157"
          }
        },
        "ca1c7d87ab0743708d04ea0d77b27ce4": {
          "model_module": "@jupyter-widgets/controls",
          "model_name": "HTMLModel",
          "model_module_version": "1.5.0",
          "state": {
            "_dom_classes": [],
            "_model_module": "@jupyter-widgets/controls",
            "_model_module_version": "1.5.0",
            "_model_name": "HTMLModel",
            "_view_count": null,
            "_view_module": "@jupyter-widgets/controls",
            "_view_module_version": "1.5.0",
            "_view_name": "HTMLView",
            "description": "",
            "description_tooltip": null,
            "layout": "IPY_MODEL_79509a9567a146b4b5081e2d870d9bdd",
            "placeholder": "​",
            "style": "IPY_MODEL_b39cefbeedb84153989dd80520050962",
            "value": "100%"
          }
        },
        "fcea10dfb4464adba7f24c377f7926d6": {
          "model_module": "@jupyter-widgets/controls",
          "model_name": "FloatProgressModel",
          "model_module_version": "1.5.0",
          "state": {
            "_dom_classes": [],
            "_model_module": "@jupyter-widgets/controls",
            "_model_module_version": "1.5.0",
            "_model_name": "FloatProgressModel",
            "_view_count": null,
            "_view_module": "@jupyter-widgets/controls",
            "_view_module_version": "1.5.0",
            "_view_name": "ProgressView",
            "bar_style": "success",
            "description": "",
            "description_tooltip": null,
            "layout": "IPY_MODEL_6bc5533c078a48f49d40c73575446123",
            "max": 479,
            "min": 0,
            "orientation": "horizontal",
            "style": "IPY_MODEL_d3161aad0566436ba16726badd2911c4",
            "value": 479
          }
        },
        "a72f130b197d43759ccbe5bc9539b1d0": {
          "model_module": "@jupyter-widgets/controls",
          "model_name": "HTMLModel",
          "model_module_version": "1.5.0",
          "state": {
            "_dom_classes": [],
            "_model_module": "@jupyter-widgets/controls",
            "_model_module_version": "1.5.0",
            "_model_name": "HTMLModel",
            "_view_count": null,
            "_view_module": "@jupyter-widgets/controls",
            "_view_module_version": "1.5.0",
            "_view_name": "HTMLView",
            "description": "",
            "description_tooltip": null,
            "layout": "IPY_MODEL_6b85593d43e74a0e9c93ed93f9d55604",
            "placeholder": "​",
            "style": "IPY_MODEL_586f9011e03b4754ad936ea6e9820333",
            "value": " 479/479 [00:00&lt;00:00, 5651.00ex/s]"
          }
        },
        "13d7c06b75164e919731ab4fd2dcb157": {
          "model_module": "@jupyter-widgets/base",
          "model_name": "LayoutModel",
          "model_module_version": "1.2.0",
          "state": {
            "_model_module": "@jupyter-widgets/base",
            "_model_module_version": "1.2.0",
            "_model_name": "LayoutModel",
            "_view_count": null,
            "_view_module": "@jupyter-widgets/base",
            "_view_module_version": "1.2.0",
            "_view_name": "LayoutView",
            "align_content": null,
            "align_items": null,
            "align_self": null,
            "border": null,
            "bottom": null,
            "display": null,
            "flex": null,
            "flex_flow": null,
            "grid_area": null,
            "grid_auto_columns": null,
            "grid_auto_flow": null,
            "grid_auto_rows": null,
            "grid_column": null,
            "grid_gap": null,
            "grid_row": null,
            "grid_template_areas": null,
            "grid_template_columns": null,
            "grid_template_rows": null,
            "height": null,
            "justify_content": null,
            "justify_items": null,
            "left": null,
            "margin": null,
            "max_height": null,
            "max_width": null,
            "min_height": null,
            "min_width": null,
            "object_fit": null,
            "object_position": null,
            "order": null,
            "overflow": null,
            "overflow_x": null,
            "overflow_y": null,
            "padding": null,
            "right": null,
            "top": null,
            "visibility": null,
            "width": null
          }
        },
        "79509a9567a146b4b5081e2d870d9bdd": {
          "model_module": "@jupyter-widgets/base",
          "model_name": "LayoutModel",
          "model_module_version": "1.2.0",
          "state": {
            "_model_module": "@jupyter-widgets/base",
            "_model_module_version": "1.2.0",
            "_model_name": "LayoutModel",
            "_view_count": null,
            "_view_module": "@jupyter-widgets/base",
            "_view_module_version": "1.2.0",
            "_view_name": "LayoutView",
            "align_content": null,
            "align_items": null,
            "align_self": null,
            "border": null,
            "bottom": null,
            "display": null,
            "flex": null,
            "flex_flow": null,
            "grid_area": null,
            "grid_auto_columns": null,
            "grid_auto_flow": null,
            "grid_auto_rows": null,
            "grid_column": null,
            "grid_gap": null,
            "grid_row": null,
            "grid_template_areas": null,
            "grid_template_columns": null,
            "grid_template_rows": null,
            "height": null,
            "justify_content": null,
            "justify_items": null,
            "left": null,
            "margin": null,
            "max_height": null,
            "max_width": null,
            "min_height": null,
            "min_width": null,
            "object_fit": null,
            "object_position": null,
            "order": null,
            "overflow": null,
            "overflow_x": null,
            "overflow_y": null,
            "padding": null,
            "right": null,
            "top": null,
            "visibility": null,
            "width": null
          }
        },
        "b39cefbeedb84153989dd80520050962": {
          "model_module": "@jupyter-widgets/controls",
          "model_name": "DescriptionStyleModel",
          "model_module_version": "1.5.0",
          "state": {
            "_model_module": "@jupyter-widgets/controls",
            "_model_module_version": "1.5.0",
            "_model_name": "DescriptionStyleModel",
            "_view_count": null,
            "_view_module": "@jupyter-widgets/base",
            "_view_module_version": "1.2.0",
            "_view_name": "StyleView",
            "description_width": ""
          }
        },
        "6bc5533c078a48f49d40c73575446123": {
          "model_module": "@jupyter-widgets/base",
          "model_name": "LayoutModel",
          "model_module_version": "1.2.0",
          "state": {
            "_model_module": "@jupyter-widgets/base",
            "_model_module_version": "1.2.0",
            "_model_name": "LayoutModel",
            "_view_count": null,
            "_view_module": "@jupyter-widgets/base",
            "_view_module_version": "1.2.0",
            "_view_name": "LayoutView",
            "align_content": null,
            "align_items": null,
            "align_self": null,
            "border": null,
            "bottom": null,
            "display": null,
            "flex": null,
            "flex_flow": null,
            "grid_area": null,
            "grid_auto_columns": null,
            "grid_auto_flow": null,
            "grid_auto_rows": null,
            "grid_column": null,
            "grid_gap": null,
            "grid_row": null,
            "grid_template_areas": null,
            "grid_template_columns": null,
            "grid_template_rows": null,
            "height": null,
            "justify_content": null,
            "justify_items": null,
            "left": null,
            "margin": null,
            "max_height": null,
            "max_width": null,
            "min_height": null,
            "min_width": null,
            "object_fit": null,
            "object_position": null,
            "order": null,
            "overflow": null,
            "overflow_x": null,
            "overflow_y": null,
            "padding": null,
            "right": null,
            "top": null,
            "visibility": null,
            "width": null
          }
        },
        "d3161aad0566436ba16726badd2911c4": {
          "model_module": "@jupyter-widgets/controls",
          "model_name": "ProgressStyleModel",
          "model_module_version": "1.5.0",
          "state": {
            "_model_module": "@jupyter-widgets/controls",
            "_model_module_version": "1.5.0",
            "_model_name": "ProgressStyleModel",
            "_view_count": null,
            "_view_module": "@jupyter-widgets/base",
            "_view_module_version": "1.2.0",
            "_view_name": "StyleView",
            "bar_color": null,
            "description_width": ""
          }
        },
        "6b85593d43e74a0e9c93ed93f9d55604": {
          "model_module": "@jupyter-widgets/base",
          "model_name": "LayoutModel",
          "model_module_version": "1.2.0",
          "state": {
            "_model_module": "@jupyter-widgets/base",
            "_model_module_version": "1.2.0",
            "_model_name": "LayoutModel",
            "_view_count": null,
            "_view_module": "@jupyter-widgets/base",
            "_view_module_version": "1.2.0",
            "_view_name": "LayoutView",
            "align_content": null,
            "align_items": null,
            "align_self": null,
            "border": null,
            "bottom": null,
            "display": null,
            "flex": null,
            "flex_flow": null,
            "grid_area": null,
            "grid_auto_columns": null,
            "grid_auto_flow": null,
            "grid_auto_rows": null,
            "grid_column": null,
            "grid_gap": null,
            "grid_row": null,
            "grid_template_areas": null,
            "grid_template_columns": null,
            "grid_template_rows": null,
            "height": null,
            "justify_content": null,
            "justify_items": null,
            "left": null,
            "margin": null,
            "max_height": null,
            "max_width": null,
            "min_height": null,
            "min_width": null,
            "object_fit": null,
            "object_position": null,
            "order": null,
            "overflow": null,
            "overflow_x": null,
            "overflow_y": null,
            "padding": null,
            "right": null,
            "top": null,
            "visibility": null,
            "width": null
          }
        },
        "586f9011e03b4754ad936ea6e9820333": {
          "model_module": "@jupyter-widgets/controls",
          "model_name": "DescriptionStyleModel",
          "model_module_version": "1.5.0",
          "state": {
            "_model_module": "@jupyter-widgets/controls",
            "_model_module_version": "1.5.0",
            "_model_name": "DescriptionStyleModel",
            "_view_count": null,
            "_view_module": "@jupyter-widgets/base",
            "_view_module_version": "1.2.0",
            "_view_name": "StyleView",
            "description_width": ""
          }
        },
        "8fec78b5ced142d19a22b000da8f3947": {
          "model_module": "@jupyter-widgets/controls",
          "model_name": "HBoxModel",
          "model_module_version": "1.5.0",
          "state": {
            "_dom_classes": [],
            "_model_module": "@jupyter-widgets/controls",
            "_model_module_version": "1.5.0",
            "_model_name": "HBoxModel",
            "_view_count": null,
            "_view_module": "@jupyter-widgets/controls",
            "_view_module_version": "1.5.0",
            "_view_name": "HBoxView",
            "box_style": "",
            "children": [
              "IPY_MODEL_88fffcc3ba50470f9774a25eaf5a0584",
              "IPY_MODEL_762f0c4091fa4eb090937eedce220fcd",
              "IPY_MODEL_f64153a8388e472d8c363cd5ecf19a60"
            ],
            "layout": "IPY_MODEL_44986eb7a39e49628905bebebdc35a78"
          }
        },
        "88fffcc3ba50470f9774a25eaf5a0584": {
          "model_module": "@jupyter-widgets/controls",
          "model_name": "HTMLModel",
          "model_module_version": "1.5.0",
          "state": {
            "_dom_classes": [],
            "_model_module": "@jupyter-widgets/controls",
            "_model_module_version": "1.5.0",
            "_model_name": "HTMLModel",
            "_view_count": null,
            "_view_module": "@jupyter-widgets/controls",
            "_view_module_version": "1.5.0",
            "_view_name": "HTMLView",
            "description": "",
            "description_tooltip": null,
            "layout": "IPY_MODEL_fe98cba1d0e84e9bbb3950f54ce2e3ce",
            "placeholder": "​",
            "style": "IPY_MODEL_9f29c6f2cb1e4972bdeb59af353e2b69",
            "value": "100%"
          }
        },
        "762f0c4091fa4eb090937eedce220fcd": {
          "model_module": "@jupyter-widgets/controls",
          "model_name": "FloatProgressModel",
          "model_module_version": "1.5.0",
          "state": {
            "_dom_classes": [],
            "_model_module": "@jupyter-widgets/controls",
            "_model_module_version": "1.5.0",
            "_model_name": "FloatProgressModel",
            "_view_count": null,
            "_view_module": "@jupyter-widgets/controls",
            "_view_module_version": "1.5.0",
            "_view_name": "ProgressView",
            "bar_style": "success",
            "description": "",
            "description_tooltip": null,
            "layout": "IPY_MODEL_45a20822f19d4e31b09179cd2fc403f0",
            "max": 160,
            "min": 0,
            "orientation": "horizontal",
            "style": "IPY_MODEL_04bf6dad287f4a469ad59a4fc0d4acc0",
            "value": 160
          }
        },
        "f64153a8388e472d8c363cd5ecf19a60": {
          "model_module": "@jupyter-widgets/controls",
          "model_name": "HTMLModel",
          "model_module_version": "1.5.0",
          "state": {
            "_dom_classes": [],
            "_model_module": "@jupyter-widgets/controls",
            "_model_module_version": "1.5.0",
            "_model_name": "HTMLModel",
            "_view_count": null,
            "_view_module": "@jupyter-widgets/controls",
            "_view_module_version": "1.5.0",
            "_view_name": "HTMLView",
            "description": "",
            "description_tooltip": null,
            "layout": "IPY_MODEL_c94531abb61e46cfa89bd88ac2fce558",
            "placeholder": "​",
            "style": "IPY_MODEL_5990703e3f8f48d684a1e241dbd66cfe",
            "value": " 160/160 [00:00&lt;00:00, 2866.79ex/s]"
          }
        },
        "44986eb7a39e49628905bebebdc35a78": {
          "model_module": "@jupyter-widgets/base",
          "model_name": "LayoutModel",
          "model_module_version": "1.2.0",
          "state": {
            "_model_module": "@jupyter-widgets/base",
            "_model_module_version": "1.2.0",
            "_model_name": "LayoutModel",
            "_view_count": null,
            "_view_module": "@jupyter-widgets/base",
            "_view_module_version": "1.2.0",
            "_view_name": "LayoutView",
            "align_content": null,
            "align_items": null,
            "align_self": null,
            "border": null,
            "bottom": null,
            "display": null,
            "flex": null,
            "flex_flow": null,
            "grid_area": null,
            "grid_auto_columns": null,
            "grid_auto_flow": null,
            "grid_auto_rows": null,
            "grid_column": null,
            "grid_gap": null,
            "grid_row": null,
            "grid_template_areas": null,
            "grid_template_columns": null,
            "grid_template_rows": null,
            "height": null,
            "justify_content": null,
            "justify_items": null,
            "left": null,
            "margin": null,
            "max_height": null,
            "max_width": null,
            "min_height": null,
            "min_width": null,
            "object_fit": null,
            "object_position": null,
            "order": null,
            "overflow": null,
            "overflow_x": null,
            "overflow_y": null,
            "padding": null,
            "right": null,
            "top": null,
            "visibility": null,
            "width": null
          }
        },
        "fe98cba1d0e84e9bbb3950f54ce2e3ce": {
          "model_module": "@jupyter-widgets/base",
          "model_name": "LayoutModel",
          "model_module_version": "1.2.0",
          "state": {
            "_model_module": "@jupyter-widgets/base",
            "_model_module_version": "1.2.0",
            "_model_name": "LayoutModel",
            "_view_count": null,
            "_view_module": "@jupyter-widgets/base",
            "_view_module_version": "1.2.0",
            "_view_name": "LayoutView",
            "align_content": null,
            "align_items": null,
            "align_self": null,
            "border": null,
            "bottom": null,
            "display": null,
            "flex": null,
            "flex_flow": null,
            "grid_area": null,
            "grid_auto_columns": null,
            "grid_auto_flow": null,
            "grid_auto_rows": null,
            "grid_column": null,
            "grid_gap": null,
            "grid_row": null,
            "grid_template_areas": null,
            "grid_template_columns": null,
            "grid_template_rows": null,
            "height": null,
            "justify_content": null,
            "justify_items": null,
            "left": null,
            "margin": null,
            "max_height": null,
            "max_width": null,
            "min_height": null,
            "min_width": null,
            "object_fit": null,
            "object_position": null,
            "order": null,
            "overflow": null,
            "overflow_x": null,
            "overflow_y": null,
            "padding": null,
            "right": null,
            "top": null,
            "visibility": null,
            "width": null
          }
        },
        "9f29c6f2cb1e4972bdeb59af353e2b69": {
          "model_module": "@jupyter-widgets/controls",
          "model_name": "DescriptionStyleModel",
          "model_module_version": "1.5.0",
          "state": {
            "_model_module": "@jupyter-widgets/controls",
            "_model_module_version": "1.5.0",
            "_model_name": "DescriptionStyleModel",
            "_view_count": null,
            "_view_module": "@jupyter-widgets/base",
            "_view_module_version": "1.2.0",
            "_view_name": "StyleView",
            "description_width": ""
          }
        },
        "45a20822f19d4e31b09179cd2fc403f0": {
          "model_module": "@jupyter-widgets/base",
          "model_name": "LayoutModel",
          "model_module_version": "1.2.0",
          "state": {
            "_model_module": "@jupyter-widgets/base",
            "_model_module_version": "1.2.0",
            "_model_name": "LayoutModel",
            "_view_count": null,
            "_view_module": "@jupyter-widgets/base",
            "_view_module_version": "1.2.0",
            "_view_name": "LayoutView",
            "align_content": null,
            "align_items": null,
            "align_self": null,
            "border": null,
            "bottom": null,
            "display": null,
            "flex": null,
            "flex_flow": null,
            "grid_area": null,
            "grid_auto_columns": null,
            "grid_auto_flow": null,
            "grid_auto_rows": null,
            "grid_column": null,
            "grid_gap": null,
            "grid_row": null,
            "grid_template_areas": null,
            "grid_template_columns": null,
            "grid_template_rows": null,
            "height": null,
            "justify_content": null,
            "justify_items": null,
            "left": null,
            "margin": null,
            "max_height": null,
            "max_width": null,
            "min_height": null,
            "min_width": null,
            "object_fit": null,
            "object_position": null,
            "order": null,
            "overflow": null,
            "overflow_x": null,
            "overflow_y": null,
            "padding": null,
            "right": null,
            "top": null,
            "visibility": null,
            "width": null
          }
        },
        "04bf6dad287f4a469ad59a4fc0d4acc0": {
          "model_module": "@jupyter-widgets/controls",
          "model_name": "ProgressStyleModel",
          "model_module_version": "1.5.0",
          "state": {
            "_model_module": "@jupyter-widgets/controls",
            "_model_module_version": "1.5.0",
            "_model_name": "ProgressStyleModel",
            "_view_count": null,
            "_view_module": "@jupyter-widgets/base",
            "_view_module_version": "1.2.0",
            "_view_name": "StyleView",
            "bar_color": null,
            "description_width": ""
          }
        },
        "c94531abb61e46cfa89bd88ac2fce558": {
          "model_module": "@jupyter-widgets/base",
          "model_name": "LayoutModel",
          "model_module_version": "1.2.0",
          "state": {
            "_model_module": "@jupyter-widgets/base",
            "_model_module_version": "1.2.0",
            "_model_name": "LayoutModel",
            "_view_count": null,
            "_view_module": "@jupyter-widgets/base",
            "_view_module_version": "1.2.0",
            "_view_name": "LayoutView",
            "align_content": null,
            "align_items": null,
            "align_self": null,
            "border": null,
            "bottom": null,
            "display": null,
            "flex": null,
            "flex_flow": null,
            "grid_area": null,
            "grid_auto_columns": null,
            "grid_auto_flow": null,
            "grid_auto_rows": null,
            "grid_column": null,
            "grid_gap": null,
            "grid_row": null,
            "grid_template_areas": null,
            "grid_template_columns": null,
            "grid_template_rows": null,
            "height": null,
            "justify_content": null,
            "justify_items": null,
            "left": null,
            "margin": null,
            "max_height": null,
            "max_width": null,
            "min_height": null,
            "min_width": null,
            "object_fit": null,
            "object_position": null,
            "order": null,
            "overflow": null,
            "overflow_x": null,
            "overflow_y": null,
            "padding": null,
            "right": null,
            "top": null,
            "visibility": null,
            "width": null
          }
        },
        "5990703e3f8f48d684a1e241dbd66cfe": {
          "model_module": "@jupyter-widgets/controls",
          "model_name": "DescriptionStyleModel",
          "model_module_version": "1.5.0",
          "state": {
            "_model_module": "@jupyter-widgets/controls",
            "_model_module_version": "1.5.0",
            "_model_name": "DescriptionStyleModel",
            "_view_count": null,
            "_view_module": "@jupyter-widgets/base",
            "_view_module_version": "1.2.0",
            "_view_name": "StyleView",
            "description_width": ""
          }
        }
      }
    }
  },
  "nbformat": 4,
  "nbformat_minor": 0
}